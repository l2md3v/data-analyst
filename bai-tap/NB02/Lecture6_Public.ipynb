{
 "cells": [
  {
   "cell_type": "markdown",
   "metadata": {},
   "source": [
    "## <img src ='Pic\\logo.jpg' width='700px'>\n",
    "\n",
    "\n",
    "<div align=\"center\">\n",
    "\n",
    "# KHÓA HỌC: LẬP TRÌNH PYTHON CƠ BẢN\n",
    "\n",
    "</div>\n",
    "\n",
    "-----\n",
    "Bài 6 - Phân tích và xử lý dữ liệu với Pandas - Phần 01\n",
    "----\n",
    "Giảng Viên: Đặng Văn Nam\n",
    "\n",
    "Email: namdv@aiacademy.edu.vn"
   ]
  },
  {
   "cell_type": "markdown",
   "metadata": {},
   "source": [
    "**NỘI DUNG BÀI 6:**\n",
    "1. Giới thiệu Pandas\n",
    "2. Tạo đối tượng cơ bản trong Pandas\n",
    "    * Series\n",
    "    * Dataframe\n",
    "3. Đọc dữ liệu từ các nguồn khác nhau\n",
    "4. Quan sát và truy xuất dữ liệu trong DataFrame \n",
    "5. Replacing Values, Rename Columns\n",
    "6. Lọc dữ liệu trong DataFrame\n",
    "7. Xác định các tham số thống kê: Sum, Cumsum, Min, Max, Mean, Median, Std\n",
    "8. Giá trị duy nhất (Unique)\n",
    "9. Phân tích dữ liệu chuỗi thời gian (Time series data)"
   ]
  },
  {
   "cell_type": "markdown",
   "metadata": {},
   "source": [
    "# 1) Giới thiệu\n",
    "---\n",
    "**Pandas** là một thư viện mã nguồn mở được xây dựng dựa trên NumPy, sử dụng để thao tác và phân tích dữ liệu. Với Pandas chúng ta có thể:\n",
    "Xử lý tập dữ liệu khác nhau về định dạng: chuỗi thời gian, bảng không đồng nhất, ma trận dữ liệu\n",
    "* Import dữ liệu từ nhiều nguồn khác nhau như CSV, DB/SQL…\n",
    "* Xử lý vô số phép toán cho tập dữ liệu: subsetting, slicing, filtering, merging, groupBy, re-ordering, and re-shaping,..\n",
    "* Xử lý dữ liệu mất mát theo mong muốn.\n",
    "* Xử lý, phân tích dữ liệu tốt như mô hình hoá và thống kê.\n",
    "* Tích hợp tốt với các thư viện khác của python.\n",
    "\n",
    "https://pandas.pydata.org/"
   ]
  },
  {
   "cell_type": "code",
   "execution_count": null,
   "metadata": {},
   "outputs": [],
   "source": [
    "#Kiểm tra phiên bản của thư viện Pandas\n",
    "import pandas as pd\n",
    "print('Version Pandas: ',pd.__version__)"
   ]
  },
  {
   "cell_type": "markdown",
   "metadata": {},
   "source": [
    "# 2) Làm việc với các đối tượng trong Pandas\n",
    "---\n",
    "## 2.1) Series\n",
    "\n",
    "**Series** là mảng một chiều (1D) giống như kiểu vector trong Numpy, hay như một cột của một bảng, nhưng nó bao gồm thêm một bảng đánh index."
   ]
  },
  {
   "cell_type": "code",
   "execution_count": null,
   "metadata": {},
   "outputs": [],
   "source": [
    "#Khai báo sử dụng thư viện\n",
    "import pandas as pd\n",
    "import numpy as np\n",
    "import matplotlib.pyplot as plt"
   ]
  },
  {
   "cell_type": "code",
   "execution_count": null,
   "metadata": {},
   "outputs": [],
   "source": [
    "#Tạo một đối tượng series\n",
    "#index mặc định đánh số từ 0\n",
    "data = pd.Series([2.8, 3, 4.44, 5])\n",
    "data"
   ]
  },
  {
   "cell_type": "code",
   "execution_count": null,
   "metadata": {},
   "outputs": [],
   "source": [
    "#Mỗi một đối tượng series bao gồm 2 thành phần\n",
    "#1. Values\n",
    "#2. index\n",
    "print('Values:', data.values)\n",
    "print('Indices:', data.index)"
   ]
  },
  {
   "cell_type": "code",
   "execution_count": null,
   "metadata": {},
   "outputs": [],
   "source": [
    "#Tạo một đối tượng series với index thiết lập\n",
    "data = pd.Series([1.25, 2, 3.5, 4.75, 8.0],\n",
    "                 index=['a', 'b', 'c', 'd','k'])\n",
    "data"
   ]
  },
  {
   "cell_type": "code",
   "execution_count": null,
   "metadata": {},
   "outputs": [],
   "source": [
    "print('Values:', data.values)\n",
    "print('Indices:', data.index)"
   ]
  },
  {
   "cell_type": "code",
   "execution_count": null,
   "metadata": {},
   "outputs": [],
   "source": [
    "#Truy cập tới một phần tử trong series thông qua index hoặc thứ tự\n",
    "print('Phần tử có index = b:', data['b'])\n",
    "print('Phần tử ở vị trí 1  :', data[1])"
   ]
  },
  {
   "cell_type": "code",
   "execution_count": null,
   "metadata": {},
   "outputs": [],
   "source": [
    "#Tạo đối tượng series từ một biến kiểu Dictionary\n",
    "#Chỉ số được tự động sắp xếp.\n",
    "population_dict = {'California': 38332521,\n",
    "                   'Texas': 26448193,\n",
    "                   'New York': 19651127,\n",
    "                   'Florida': 19552860,\n",
    "                   'Illinois': 12882135}\n",
    "population = pd.Series(population_dict,name='Population_USA')\n",
    "population"
   ]
  },
  {
   "cell_type": "code",
   "execution_count": null,
   "metadata": {},
   "outputs": [],
   "source": [
    "#View tên của series\n",
    "population.name"
   ]
  },
  {
   "cell_type": "code",
   "execution_count": null,
   "metadata": {},
   "outputs": [],
   "source": [
    "population['Florida']"
   ]
  },
  {
   "cell_type": "code",
   "execution_count": null,
   "metadata": {},
   "outputs": [],
   "source": [
    "#Chuyển đổi từ dữ liệu vector sang series\n",
    "a_vector = np.array([8,12,9,0,7,11])\n",
    "\n",
    "a_series = pd.Series(a_vector,dtype='float')\n",
    "a_series\n"
   ]
  },
  {
   "cell_type": "markdown",
   "metadata": {},
   "source": [
    "## 2.2) DataFrame\n",
    "---"
   ]
  },
  {
   "cell_type": "code",
   "execution_count": null,
   "metadata": {},
   "outputs": [],
   "source": [
    "#Tạo DataFrame từ các Series\n",
    "area_dict = {'California': 423967, \n",
    "             'Texas': 695662, \n",
    "             'New York': 141297,\n",
    "             'Florida': 170312, \n",
    "             'Illinois': 149995}\n",
    "area = pd.Series(area_dict, name='Area_USA')\n",
    "area"
   ]
  },
  {
   "cell_type": "code",
   "execution_count": null,
   "metadata": {},
   "outputs": [],
   "source": [
    "data_usa = pd.DataFrame({'population':population,\n",
    "                         'area':area})\n",
    "data_usa"
   ]
  },
  {
   "cell_type": "code",
   "execution_count": null,
   "metadata": {},
   "outputs": [],
   "source": [
    "#Tương tự như series, DataFrame cũng có thuộc tính values và index\n",
    "df_values = data_usa.values\n",
    "df_index = data_usa.index\n",
    "print('Values of DataFrame:\\n',df_values)\n",
    "print('Index of DataFrame:\\n',df_index)"
   ]
  },
  {
   "cell_type": "code",
   "execution_count": null,
   "metadata": {},
   "outputs": [],
   "source": [
    "#Tạo một DataFrame từ một biến Dict\n",
    "#Chỉ số được tạo mặc định từ 0\n",
    "data_dict = {\n",
    "    'apples': [3, 2, 0, 1], \n",
    "    'oranges': [0, 3, 7, 2]}\n",
    "\n",
    "purchases = pd.DataFrame(data_dict)\n",
    "purchases"
   ]
  },
  {
   "cell_type": "code",
   "execution_count": null,
   "metadata": {},
   "outputs": [],
   "source": [
    "#Tạo DataFrame với index thiết lập\n",
    "purchases = pd.DataFrame(data_dict, \n",
    "                         index=['June', 'Robert', 'Lily', 'David'])\n",
    "purchases"
   ]
  },
  {
   "cell_type": "markdown",
   "metadata": {},
   "source": [
    "# 3) Đọc dữ liệu từ các nguồn khác nhau (CSV, Text, Excel)\n",
    "---\n",
    "## 3.1) Đọc file CSV, Text\n",
    "* CSV là một định dạng dữ liệu văn bản đơn giản có tên đầy đủ là Comma Separated Values. Với định dạng CSV này, các giá trị được chia tách với nhau bởi các dấu phẩy. Định dạng CSV phổ biến bởi vì chúng có tính tương thích cao, dễ dàng di chuyển từ phần mềm này sang phần mềm khác để sử dụng mà không lo gặp các xung đột.\n",
    "\n",
    "* Tài liệu CSV cũng làm một trong những tài liệu phổ biến trên thế giới với khả năng lưu trữ nhỏ nhẹ.\n"
   ]
  },
  {
   "cell_type": "code",
   "execution_count": null,
   "metadata": {},
   "outputs": [],
   "source": [
    "import pandas as pd\n",
    "path = 'Data_Excercise\\csv_Data_BMI.csv'\n",
    "#Sử dụng phương thức read_csv\n",
    "data = pd.read_csv(path)\n",
    "#Hiển thị thông tin biến Data\n",
    "data.info()"
   ]
  },
  {
   "cell_type": "code",
   "execution_count": null,
   "metadata": {},
   "outputs": [],
   "source": [
    "data"
   ]
  },
  {
   "cell_type": "code",
   "execution_count": null,
   "metadata": {},
   "outputs": [],
   "source": [
    "#VÍ DỤ 1:\n",
    "#Sử dụng phương thức read_csv()\n",
    "#Tham số: Thiết lập cột index là cột Personal\n",
    "data1 = pd.read_csv(path,\n",
    "                    index_col=0)\n",
    "data1.info()"
   ]
  },
  {
   "cell_type": "code",
   "execution_count": null,
   "metadata": {},
   "outputs": [],
   "source": [
    "data1.head()"
   ]
  },
  {
   "cell_type": "code",
   "execution_count": null,
   "metadata": {},
   "outputs": [],
   "source": [
    "#VÍ DỤ 2:\n",
    "#Sử dụng phương thức read_csv()\n",
    "#Thiết lập số hàng, cột muốn đọc dữ liệu\n",
    "data2 = pd.read_csv(path,\n",
    "                    nrows=100,\n",
    "                    usecols=['Height_cm', 'Weight_kg'])\n",
    "data2.info()"
   ]
  },
  {
   "cell_type": "code",
   "execution_count": null,
   "metadata": {},
   "outputs": [],
   "source": [
    "data2.tail()"
   ]
  },
  {
   "cell_type": "code",
   "execution_count": null,
   "metadata": {},
   "outputs": [],
   "source": [
    "#VÍ DỤ 3:\n",
    "#Thiết lập tham số đọc dữ liệu từ dòng thứ 5 trong file\n",
    "#và đặt lại tên của các cột dữ liệu\n",
    "data3 = pd.read_csv(path,\n",
    "                    names=['ID','Sex','H(cm)','W(kg)'],\n",
    "                    skiprows=5)\n",
    "data3.info()"
   ]
  },
  {
   "cell_type": "code",
   "execution_count": null,
   "metadata": {},
   "outputs": [],
   "source": [
    "data3.head()"
   ]
  },
  {
   "cell_type": "markdown",
   "metadata": {},
   "source": [
    "#### Đọc dữ liệu từ file Text\n",
    "---"
   ]
  },
  {
   "cell_type": "code",
   "execution_count": null,
   "metadata": {},
   "outputs": [],
   "source": [
    "#Đọc dữ liệu trong file txt_Diem_2A.txt:\n",
    "df_diem2a = pd.read_csv('Data_Excercise/txt_Data_Diem_2A.txt',\n",
    "                     names=['HS1','HS2','HS3','HS4','HS5','HS6','HS7','HS8','HS9','HS10',\n",
    "                            'HS11','HS12','HS13','HS14','HS15','HS16','HS17','HS18','HS19','HS20',\n",
    "                            'HS21','HS22','HS23','HS24','HS25','HS26','HS27','HS28','HS29','HS30'],\n",
    "                     header=None)\n",
    "                    \n",
    "df_diem2a"
   ]
  },
  {
   "cell_type": "code",
   "execution_count": null,
   "metadata": {},
   "outputs": [],
   "source": []
  },
  {
   "cell_type": "code",
   "execution_count": null,
   "metadata": {},
   "outputs": [],
   "source": [
    "#Đọc dữ liệu trong file txt_Data_Diamonds.txt:\n",
    "df_Diamonds = pd.read_csv('Data_Excercise/txt_Data_Diamonds.txt',\n",
    "                     names=['Weight(carat)','Price(USD)'],\n",
    "                     sep='\\t', #mặc định sep=','\n",
    "                     header=None)\n",
    "                    \n",
    "df_Diamonds"
   ]
  },
  {
   "cell_type": "code",
   "execution_count": null,
   "metadata": {},
   "outputs": [],
   "source": [
    "import matplotlib.pyplot as plt\n",
    "df_Diamonds.plot.scatter(x='Weight(carat)',y='Price(USD)',color='red')\n",
    "plt.grid(True)\n",
    "plt.show()"
   ]
  },
  {
   "cell_type": "markdown",
   "metadata": {},
   "source": [
    "## THỰC HÀNH SỐ 1\n",
    "---\n",
    "**Yêu cầu 1.1: Học viên đọc dữ liệu dạng CSV lưu trong file Data_Loan.csv với các tham số mặc định, cho biết các thông tin cơ bản của file**"
   ]
  },
  {
   "cell_type": "code",
   "execution_count": null,
   "metadata": {},
   "outputs": [],
   "source": [
    "#{HỌC VIÊN VIẾT CODE VÀO ĐÂY}\n",
    "\n",
    "\n",
    "\n",
    "\n",
    "\n",
    "\n"
   ]
  },
  {
   "cell_type": "code",
   "execution_count": null,
   "metadata": {},
   "outputs": [],
   "source": []
  },
  {
   "cell_type": "markdown",
   "metadata": {},
   "source": [
    "**Yêu cầu 1.2: Đọc dữ liệu từ file Data_Loan.CSV vào 2 biến DataFrame tương ứng**\n",
    "1. df_number: Chỉ chứa các cột dữ liệu số\n",
    "2. df_object: Chỉ chứa các cột dữ liệu Object"
   ]
  },
  {
   "cell_type": "code",
   "execution_count": null,
   "metadata": {},
   "outputs": [],
   "source": [
    "#{HỌC VIÊN VIẾT CODE VÀO ĐÂY}\n",
    "\n",
    "\n",
    "\n",
    "\n",
    "\n"
   ]
  },
  {
   "cell_type": "code",
   "execution_count": null,
   "metadata": {},
   "outputs": [],
   "source": []
  },
  {
   "cell_type": "code",
   "execution_count": null,
   "metadata": {},
   "outputs": [],
   "source": []
  },
  {
   "cell_type": "markdown",
   "metadata": {},
   "source": [
    "**Yêu cầu 1.3: Đọc dữ liệu nhiệt độ của 6 thành phố [Hà Nội, Vinh, Đà Nẵng, Nha Trang, TP Hồ Chí Minh, Cà Mau] từ file txt_Data_Temp.txt vào biến DataFrame tương ứng**\n"
   ]
  },
  {
   "cell_type": "code",
   "execution_count": null,
   "metadata": {},
   "outputs": [],
   "source": [
    "#{HỌC VIÊN VIẾT CODE VÀO ĐÂY}\n",
    "\n",
    "\n",
    "\n",
    "\n",
    "\n"
   ]
  },
  {
   "cell_type": "code",
   "execution_count": null,
   "metadata": {},
   "outputs": [],
   "source": []
  },
  {
   "cell_type": "markdown",
   "metadata": {},
   "source": [
    "## 3.2) Đọc file Excel\n",
    "---"
   ]
  },
  {
   "cell_type": "code",
   "execution_count": null,
   "metadata": {},
   "outputs": [],
   "source": [
    "import pandas as pd\n",
    "path_excel = 'Data_Excercise\\excel_Data_Point.xlsx'\n",
    "#Đọc dữ liệu từ file excel\n",
    "data_ex = pd.read_excel(path_excel)\n",
    "data_ex.info()"
   ]
  },
  {
   "cell_type": "code",
   "execution_count": null,
   "metadata": {},
   "outputs": [],
   "source": [
    "#VÍ DỤ 1:\n",
    "#Đọc dữ liệu tại sheet đầu tiên, \n",
    "#Chỉ lấy dữ liệu cột Mã SV và các cột điểm \n",
    "#Thiết lập cột đầu tiên làm index\n",
    "data_ex1 = pd.read_excel(path_excel,\n",
    "                        sheet_name='4080130_01',\n",
    "                        usecols=[1,6,7,8,9,10],\n",
    "                        index_col=0)\n",
    "data_ex1.info()"
   ]
  },
  {
   "cell_type": "code",
   "execution_count": null,
   "metadata": {},
   "outputs": [],
   "source": [
    "data_ex1.head()"
   ]
  },
  {
   "cell_type": "code",
   "execution_count": null,
   "metadata": {},
   "outputs": [],
   "source": [
    "#VÍ DỤ 2:\n",
    "#Đọc dữ liệu tại sheet 2, \n",
    "#Trường hợp: sử dụng các tham số mặc định\n",
    "data_ex2 = pd.read_excel(path_excel,\n",
    "                        sheet_name=1)\n",
    "data_ex2.info()"
   ]
  },
  {
   "cell_type": "code",
   "execution_count": null,
   "metadata": {},
   "outputs": [],
   "source": [
    "data_ex2.head(10)"
   ]
  },
  {
   "cell_type": "code",
   "execution_count": null,
   "metadata": {},
   "outputs": [],
   "source": [
    "#VÍ DỤ 3:\n",
    "#Đọc dữ liệu tại sheet '4080130_02',từ dòng 9\n",
    "data_ex3 = pd.read_excel(path_excel,\n",
    "                         sheet_name='4080130_02',\n",
    "                         skiprows=9)\n",
    "data_ex3.info()"
   ]
  },
  {
   "cell_type": "code",
   "execution_count": null,
   "metadata": {},
   "outputs": [],
   "source": [
    "data_ex3.head()"
   ]
  },
  {
   "cell_type": "code",
   "execution_count": null,
   "metadata": {},
   "outputs": [],
   "source": [
    "#VÍ DỤ 4\n",
    "#Đọc dữ liệu từ sheet: '4080130_03'\n",
    "#Dữ liệu không chứa dòng header\n",
    "data_ex4 = pd.read_excel(path_excel,\n",
    "                         sheet_name=2)\n",
    "data_ex4.head()"
   ]
  },
  {
   "cell_type": "code",
   "execution_count": null,
   "metadata": {},
   "outputs": [],
   "source": [
    "data_ex4.head()"
   ]
  },
  {
   "cell_type": "code",
   "execution_count": null,
   "metadata": {},
   "outputs": [],
   "source": [
    "data_ex4 = pd.read_excel(path_excel,\n",
    "                         sheet_name=2,\n",
    "                         header=None)\n",
    "data_ex4.head()"
   ]
  },
  {
   "cell_type": "code",
   "execution_count": null,
   "metadata": {},
   "outputs": [],
   "source": [
    "#Ví dụ 4.1\n",
    "#Đọc dữ liệu từ sheet: '4080130_03'\n",
    "#Dữ liệu không chứa dòng header\n",
    "#Đặt tên cho các cột\n",
    "data_ex41 = pd.read_excel(path_excel,\n",
    "                        sheet_name='4080130_03',\n",
    "                        header=None,\n",
    "                        usecols=[1,6,7,8,9,10],\n",
    "                        names=['Mã SV','A','B1','B2','C1','C2'],\n",
    "                        index_col=0)\n",
    "data_ex41.info()"
   ]
  },
  {
   "cell_type": "code",
   "execution_count": null,
   "metadata": {},
   "outputs": [],
   "source": [
    "data_ex41.head()"
   ]
  },
  {
   "cell_type": "markdown",
   "metadata": {},
   "source": [
    "## THỰC HÀNH 3.2\n",
    "--- \n",
    "Yêu cầu: Học viên đọc dữ liệu dạng excel lưu trong file excel_Data_Movies.xls theo từng sheet"
   ]
  },
  {
   "cell_type": "code",
   "execution_count": null,
   "metadata": {},
   "outputs": [],
   "source": [
    "#{HỌC VIÊN VIẾT CODE Ở ĐÂY}\n",
    "\n",
    "\n",
    "\n",
    "\n"
   ]
  },
  {
   "cell_type": "code",
   "execution_count": null,
   "metadata": {},
   "outputs": [],
   "source": []
  },
  {
   "cell_type": "code",
   "execution_count": null,
   "metadata": {},
   "outputs": [],
   "source": []
  },
  {
   "cell_type": "markdown",
   "metadata": {},
   "source": [
    "# 4) Quan sát và truy suất dữ liệu từ DataFrame\n",
    "---\n",
    "## 4.1) Quan sát dữ liệu"
   ]
  },
  {
   "cell_type": "code",
   "execution_count": null,
   "metadata": {},
   "outputs": [],
   "source": [
    "#Đọc dữ liệu mẫu được lưu trữ trong file csv\n",
    "path='Data_Excercise\\csv_Data_Loan.csv'\n",
    "df_loan=pd.read_csv(path)\n",
    "df_loan"
   ]
  },
  {
   "cell_type": "code",
   "execution_count": null,
   "metadata": {},
   "outputs": [],
   "source": [
    "#Quan sát dữ liệu biến DataFrame\n",
    "df_loan.info()"
   ]
  },
  {
   "cell_type": "code",
   "execution_count": null,
   "metadata": {},
   "outputs": [],
   "source": [
    "#Hiển thị 10 dòng đầu tiên\n",
    "df_loan.head(12)"
   ]
  },
  {
   "cell_type": "code",
   "execution_count": null,
   "metadata": {},
   "outputs": [],
   "source": [
    "#Hiển thị 5 dòng cuối cùng của biến df_loan\n",
    "df_loan.tail()"
   ]
  },
  {
   "cell_type": "code",
   "execution_count": null,
   "metadata": {},
   "outputs": [],
   "source": [
    "#Hiển thị kích thước df_loan (rows x columns)\n",
    "df_loan.shape"
   ]
  },
  {
   "cell_type": "code",
   "execution_count": null,
   "metadata": {},
   "outputs": [],
   "source": [
    "#Danh sách tên các columns trong df\n",
    "df_loan.columns"
   ]
  },
  {
   "cell_type": "code",
   "execution_count": null,
   "metadata": {},
   "outputs": [],
   "source": [
    "#Kiếm tra giá trị null trong Df\n",
    "df_loan.isnull()"
   ]
  },
  {
   "cell_type": "code",
   "execution_count": null,
   "metadata": {},
   "outputs": [],
   "source": [
    "#Thống kê số lượng null theo cột\n",
    "df_loan.isnull().sum()"
   ]
  },
  {
   "cell_type": "code",
   "execution_count": null,
   "metadata": {},
   "outputs": [],
   "source": [
    "#Cho biết số dòng dữ liệu không null\n",
    "df_loan.count()"
   ]
  },
  {
   "cell_type": "code",
   "execution_count": null,
   "metadata": {},
   "outputs": [],
   "source": [
    "#Số phần tử trong df (= rows x columns)\n",
    "df_loan.size"
   ]
  },
  {
   "cell_type": "code",
   "execution_count": null,
   "metadata": {},
   "outputs": [],
   "source": [
    "#Kiểu dữ liệu của từng columns trong df\n",
    "df_loan.dtypes"
   ]
  },
  {
   "cell_type": "code",
   "execution_count": null,
   "metadata": {},
   "outputs": [],
   "source": [
    "#Quan sát một số đặc trưng thống kê của df\n",
    "#Mặc định thống kê các cột dữ liệu số\n",
    "df_loan.describe()"
   ]
  },
  {
   "cell_type": "code",
   "execution_count": null,
   "metadata": {},
   "outputs": [],
   "source": [
    "df_loan.info()"
   ]
  },
  {
   "cell_type": "code",
   "execution_count": null,
   "metadata": {},
   "outputs": [],
   "source": [
    "df_loan.head(10)"
   ]
  },
  {
   "cell_type": "code",
   "execution_count": null,
   "metadata": {},
   "outputs": [],
   "source": [
    "#Quan sát một số đặc trưng thống kê của df\n",
    "#Thống kê các cột dữ liệu Object\n",
    "df_loan.describe(include='O')"
   ]
  },
  {
   "cell_type": "code",
   "execution_count": null,
   "metadata": {},
   "outputs": [],
   "source": [
    "#Thống kê tất cả các cột dữ liệu ko phân biệt số, object\n",
    "df_loan.describe(include='all')"
   ]
  },
  {
   "cell_type": "code",
   "execution_count": null,
   "metadata": {},
   "outputs": [],
   "source": [
    "#Quan sát đặc trưng thống kê theo từng cột\n",
    "#Dữ liệu số\n",
    "df_loan[['loan_amnt']].describe()"
   ]
  },
  {
   "cell_type": "code",
   "execution_count": null,
   "metadata": {},
   "outputs": [],
   "source": [
    "#Quan sát đặc trưng thống kê theo từng cột\n",
    "#Dữ liệu Object\n",
    "df_loan[['term']].describe()"
   ]
  },
  {
   "cell_type": "markdown",
   "metadata": {},
   "source": [
    "## 4.2) Truy xuất dữ liệu trong DataFrame\n",
    "---"
   ]
  },
  {
   "cell_type": "code",
   "execution_count": null,
   "metadata": {},
   "outputs": [],
   "source": [
    "#Truy xuất dữ liệu theo cột\n",
    "#Lấy dữ liệu của một cột\n",
    "df_state = df_loan[['addr_state']]\n",
    "df_state.head()"
   ]
  },
  {
   "cell_type": "code",
   "execution_count": null,
   "metadata": {},
   "outputs": [],
   "source": [
    "#Truy xuất dữ liệu theo cột\n",
    "#Chỉ lấy dữ liệu của 3 cột: loan_amnt, int_rate, purpose\n",
    "df_loan1 = df_loan[['loan_amnt','int_rate','purpose']]\n",
    "df_loan1.head()"
   ]
  },
  {
   "cell_type": "markdown",
   "metadata": {},
   "source": [
    "#### df.iloc[[index_row],[index_col]]: Truy cập tới dữ liệu của hàng và cột qua chỉ số index_row, index_col (tương tự như với Numpy)"
   ]
  },
  {
   "cell_type": "code",
   "execution_count": null,
   "metadata": {},
   "outputs": [],
   "source": [
    "#Sử dụng .iloc truy xuất dữ liệu như với Numpy\n",
    "#Truy xuất 10 dòng dữ liệu từ [10 --> 20) tất cả các cột --- index = 0\n",
    "df_loan.iloc[10:20,2:5]"
   ]
  },
  {
   "cell_type": "code",
   "execution_count": null,
   "metadata": {},
   "outputs": [],
   "source": [
    "#Truy xuất 100 dòng dữ liệu đầu tiên,\n",
    "#của các cột có index 0, 4, 6, 7\n",
    "df_loan.iloc[:100,[0,4,6,7]]"
   ]
  },
  {
   "cell_type": "code",
   "execution_count": null,
   "metadata": {},
   "outputs": [],
   "source": [
    "df_loan.iloc[:10,:]"
   ]
  },
  {
   "cell_type": "code",
   "execution_count": null,
   "metadata": {},
   "outputs": [],
   "source": [
    "#Truy cập dòng dữ liệu 10, cột 7\n",
    "df_loan.iloc[4,0]"
   ]
  },
  {
   "cell_type": "code",
   "execution_count": null,
   "metadata": {},
   "outputs": [],
   "source": [
    "#Truy cập dòng dữ liệu 10, dòng 7\n",
    "#Cột dữ liệu 0, 1, 5\n",
    "df_loan.iloc[[10,7],[0,1,5]]"
   ]
  },
  {
   "cell_type": "markdown",
   "metadata": {},
   "source": [
    "#### df.loc[[index_row],[name_col]]: Truy cập tới dữ liệu của hàng và cột qua chỉ số index_row, tên cột name_col"
   ]
  },
  {
   "cell_type": "code",
   "execution_count": null,
   "metadata": {},
   "outputs": [],
   "source": [
    "#Truy cập từ dòng có index 20 đến dòng 25 của df\n",
    "#chỉ lấy dữ liệu 4 cột: loan_amnt, home_ownership, purpose, addr_state\n",
    "df_loan.loc[20:25,['loan_amnt','home_ownership','purpose','addr_state']]"
   ]
  },
  {
   "cell_type": "markdown",
   "metadata": {},
   "source": [
    "# 5) Replacing Values and Renamde Columns\n",
    "---\n",
    "## 5.1) Replacing values"
   ]
  },
  {
   "cell_type": "code",
   "execution_count": null,
   "metadata": {},
   "outputs": [],
   "source": [
    "#tách lấy dataframe để thực hiện replacing values\n",
    "df_new = df_loan.loc[:10,['loan_amnt',\n",
    "                          'home_ownership',\n",
    "                          'purpose',\n",
    "                          'addr_state']]\n",
    "df_new"
   ]
  },
  {
   "cell_type": "code",
   "execution_count": null,
   "metadata": {},
   "outputs": [],
   "source": [
    "#Thay thế giá trị purpose: credit_card--> wedding\n",
    "#của index đầu tiên\n",
    "df_new.loc[0,'purpose'] = 'wedding'\n",
    "df_new"
   ]
  },
  {
   "cell_type": "code",
   "execution_count": null,
   "metadata": {},
   "outputs": [],
   "source": [
    "#Thay thế giá trị thuộc tính loan_amnt: 2400 --> 8800\n",
    "#của index = 2\n",
    "df_new.iloc[2,0] = 8800\n",
    "df_new"
   ]
  },
  {
   "cell_type": "code",
   "execution_count": null,
   "metadata": {},
   "outputs": [],
   "source": [
    "#Thay thế nhiều giá trị trong DataFrame\n",
    "#RENT --> MORTGAGE\n",
    "#car --> small_business\n",
    "df_new.replace({'RENT':'MORTGAGE',\n",
    "                'car':'small_business'})"
   ]
  },
  {
   "cell_type": "code",
   "execution_count": null,
   "metadata": {},
   "outputs": [],
   "source": [
    "df_new"
   ]
  },
  {
   "cell_type": "code",
   "execution_count": null,
   "metadata": {},
   "outputs": [],
   "source": [
    "#Khi muốn thay đổi áp dụng lên DataFrame hiện tại\n",
    "#Thiết lập tham số inplace=True\n",
    "df_new.replace({'RENT':'MORTGAGE',\n",
    "                'car':'small_business'}, inplace=True)\n",
    "df_new"
   ]
  },
  {
   "cell_type": "code",
   "execution_count": null,
   "metadata": {},
   "outputs": [],
   "source": [
    "df_new.replace({5000:8000}, inplace=True)\n",
    "df_new"
   ]
  },
  {
   "cell_type": "code",
   "execution_count": null,
   "metadata": {},
   "outputs": [],
   "source": [
    "#Thay thế tên viết tắt bằng tên đầy đủ.\n",
    "state_name={'AZ':'Arizona',\n",
    "            'GA':'Georgia',\n",
    "            'IL':'Illinois',\n",
    "            'CA':'California',\n",
    "            'TX':'Texas',\n",
    "            'VA':'Virgrinia'}\n",
    "#Trong cột addr_state\n",
    "df_new['addr_state'].replace(state_name,inplace=True)\n",
    "df_new"
   ]
  },
  {
   "cell_type": "markdown",
   "metadata": {},
   "source": [
    "## 5.2) Thay đổi tên cột trong DataFrame\n",
    "---"
   ]
  },
  {
   "cell_type": "code",
   "execution_count": null,
   "metadata": {},
   "outputs": [],
   "source": [
    "df_new = df_loan[['loan_amnt','home_ownership','purpose','addr_state']].copy()\n",
    "df_new.info()"
   ]
  },
  {
   "cell_type": "code",
   "execution_count": null,
   "metadata": {},
   "outputs": [],
   "source": [
    "#Đổi tên cột\n",
    "t = df_new.rename(columns={'loan_amnt':'Số tiền vay',\n",
    "                       'home_ownership':'Tình trạng nhà ở',\n",
    "                       'purpose': ' Mục đích vay tiền',\n",
    "                       'addr_state':'Địa chỉ'})\n",
    "t.head()"
   ]
  },
  {
   "cell_type": "code",
   "execution_count": null,
   "metadata": {},
   "outputs": [],
   "source": [
    "#Muốn áp dụng thay đổi vào trực tiếp biến df, sử dụng inplace=True\n",
    "df_new.rename(columns={'loan_amnt':'Số tiền vay',\n",
    "                       'home_ownership':'Tình trạng nhà ở',\n",
    "                       'purpose': ' Mục đích vay tiền',\n",
    "                       'addr_state':'Địa chỉ'}, inplace=True)\n",
    "df_new.head()"
   ]
  },
  {
   "cell_type": "code",
   "execution_count": null,
   "metadata": {},
   "outputs": [],
   "source": [
    "#Đổi tên cột sang viết hoa\n",
    "df_new.rename(str.upper, axis='columns')"
   ]
  },
  {
   "cell_type": "code",
   "execution_count": null,
   "metadata": {},
   "outputs": [],
   "source": [
    "df_new"
   ]
  },
  {
   "cell_type": "markdown",
   "metadata": {},
   "source": [
    "## THỰC HÀNH 3:\n",
    "---\n",
    "**Mô tả file dữ liệu: Data_Patient.csv**\n",
    "* File dữ liệu chứa thông tin của 300 bệnh nhân bị chứng đau ngực\n",
    "* Mỗi dòng ứng với thông tin của một bệnh nhân, bao gồm 9 thuộc tính.\n",
    "\n",
    "**Chi tiết thông tin của một bệnh nhân như sau:**\n",
    "* id: Mã của bệnh nhân (số)\n",
    "* Feature_1: Tuổi của bệnh nhân (số)\n",
    "* Feature_2: Giới tính của bệnh nhân (chuỗi: Male – Female)\n",
    "* Feature_3: Cho biết loại triệu chứng đau ngực mà bệnh nhân này mắc phải, với 4 giá trị: (Typical angina, Atypical angina, Non-anginal pain, Asymptomatic)\n",
    "* Feature_4: Huyết áp của bệnh nhân – đơn vị: mmhg (số)\n",
    "* Feature_5: Chỉ số cholesterol của bệnh nhân – đơn vị: mg/dl (số)\n",
    "* Feature_6: Thông số nhịp tim của bệnh nhân – đơn vị: lần/phút (số)\n",
    "* Feature_7: Chỉ số Thalassemia của bệnh nhân chỉ gồm 3 giá trị (3: Bình thường | 4: Khiếm khuyết cố định | 7: Kiếm khuyết có thể đảo ngược)\n",
    "* Feature_8: Cho biết bệnh nhân có bị bệnh tim hay không? (0: Không bị bệnh tim mạch | 1: Bị bệnh tim mạch)"
   ]
  },
  {
   "cell_type": "markdown",
   "metadata": {},
   "source": [
    "**Yêu cầu 3.1:**\n",
    "1. Đọc dữ liệu từ file Data_Excercise\\Data_patient.csv vào biến kiểu dataframe: df_patient với cột đầu tiên (id) là cột chỉ số (index_col)\n",
    "2. Hiển thị thông tin tổng quan của tập dữ liệu\n",
    "3. Hiển thị thông tin của 10 bệnh nhân đầu tiên và 5 bệnh nhân cuối cùng của tập dữ liệu.\n",
    "4. Đặt lại tên các cột dữ liệu trong Dataframe: \n",
    "    * Feature_1 --> Age\n",
    "    * Feature_2 --> Gender\n",
    "    * Feature_3 --> Type\n",
    "    * Feature_4 --> Blood_pressure\n",
    "    * Feature_5 --> Cholesterol\n",
    "    * Feature_6 --> Heartbeat\n",
    "    * Feature_7 --> Thalassemia\n",
    "    * Feature_8 --> Result"
   ]
  },
  {
   "cell_type": "code",
   "execution_count": null,
   "metadata": {},
   "outputs": [],
   "source": [
    "#{VIẾT CODE CỦA BẠN VÀO ĐÂY}\n",
    "\n",
    "\n",
    "\n",
    "\n"
   ]
  },
  {
   "cell_type": "code",
   "execution_count": null,
   "metadata": {},
   "outputs": [],
   "source": []
  },
  {
   "cell_type": "code",
   "execution_count": null,
   "metadata": {},
   "outputs": [],
   "source": []
  },
  {
   "cell_type": "markdown",
   "metadata": {},
   "source": [
    "**Yêu cầu 3.2:**\n",
    "Sử dụng phương thức .describe() cho biết:\n",
    "    \n",
    "    * Thuộc tính Age:\n",
    "        - Tuổi của bệnh nhân trẻ nhất\n",
    "        - Tuổi của bệnh nhân già nhất\n",
    "    * Thuộc tính Cholesterol:\n",
    "        - Cholesterol trung bình của các bệnh nhân\n",
    "        - Độ lệch chuẩn của giá trị này trong toàn bộ tập dữ liệu\n",
    "    * Bao nhiêu bệnh nhân giới tính nam (Male)\n",
    "    * Có bao nhiêu giá trị khác nhau của thuộc tính Type. Giá trị xuất hiện nhiều nhất là giá trị nào, bao nhiêu lần."
   ]
  },
  {
   "cell_type": "code",
   "execution_count": null,
   "metadata": {},
   "outputs": [],
   "source": [
    "#{VIẾT CODE CỦA BẠN VÀO ĐÂY}\n",
    "\n",
    "\n",
    "\n",
    "\n"
   ]
  },
  {
   "cell_type": "code",
   "execution_count": null,
   "metadata": {},
   "outputs": [],
   "source": []
  },
  {
   "cell_type": "markdown",
   "metadata": {},
   "source": [
    "**Yêu cầu 3.3:**\n",
    "\n",
    "Cho biết những cột nào trong dữ liệu có chứa missing data và số lượng missing là bao nhiêu?"
   ]
  },
  {
   "cell_type": "code",
   "execution_count": null,
   "metadata": {},
   "outputs": [],
   "source": [
    "#{VIẾT CODE CỦA BẠN VÀO ĐÂY}\n",
    "\n",
    "\n",
    "\n",
    "\n"
   ]
  },
  {
   "cell_type": "code",
   "execution_count": null,
   "metadata": {},
   "outputs": [],
   "source": []
  },
  {
   "cell_type": "code",
   "execution_count": null,
   "metadata": {},
   "outputs": [],
   "source": [
    "df_patient.count()"
   ]
  },
  {
   "cell_type": "code",
   "execution_count": null,
   "metadata": {},
   "outputs": [],
   "source": [
    "df_patient.isnull().sum()"
   ]
  },
  {
   "cell_type": "markdown",
   "metadata": {},
   "source": [
    "**Yêu cầu 3.4:**\n",
    "Hiển thị thông tin của các bệnh nhân: \n",
    "   * Bệnh nhân có index: Patient_100; Patient_150; Patient_200\n",
    "   * Bệnh nhân ở vị trí 255 đến 260, với 3 thuộc tính: Age, Gender và Result"
   ]
  },
  {
   "cell_type": "code",
   "execution_count": null,
   "metadata": {},
   "outputs": [],
   "source": [
    "#{VIẾT CODE CỦA BẠN VÀO ĐÂY}\n",
    "\n",
    "\n",
    "\n",
    "\n"
   ]
  },
  {
   "cell_type": "code",
   "execution_count": null,
   "metadata": {},
   "outputs": [],
   "source": []
  },
  {
   "cell_type": "markdown",
   "metadata": {},
   "source": [
    "**Yêu cầu 3.5:**\n",
    "1. Thay đổi giá trị cho thuộc tính Gender: Male --> 0, Female --> 1\n",
    "2. Thay đổi giá trị cho thuộc tính Result: 0 --> No, 1 --> Yes\n",
    "3. Cập nhật giá trị thuộc tính Thalassemia của bệnh nhân có index: Patient_05 bằng giá trị 4.0"
   ]
  },
  {
   "cell_type": "code",
   "execution_count": null,
   "metadata": {},
   "outputs": [],
   "source": [
    "#{VIẾT CODE CỦA BẠN VÀO ĐÂY}\n",
    "\n",
    "\n",
    "\n",
    "\n"
   ]
  },
  {
   "cell_type": "code",
   "execution_count": null,
   "metadata": {},
   "outputs": [],
   "source": []
  },
  {
   "cell_type": "markdown",
   "metadata": {},
   "source": [
    "## 6) Filter Data\n",
    "---"
   ]
  },
  {
   "cell_type": "code",
   "execution_count": null,
   "metadata": {},
   "outputs": [],
   "source": [
    "path = 'Data_Excercise/csv_Data_BMI.csv'\n",
    "df_bmi = pd.read_csv(path)\n",
    "df_bmi.info()"
   ]
  },
  {
   "cell_type": "code",
   "execution_count": null,
   "metadata": {},
   "outputs": [],
   "source": [
    "df_bmi.head()"
   ]
  },
  {
   "cell_type": "code",
   "execution_count": null,
   "metadata": {},
   "outputs": [],
   "source": [
    "#lọc danh sách người giới tính nam\n",
    "#Cách 1:\n",
    "df_male1 = df_bmi[df_bmi.Gender=='Male']\n",
    "df_male1.head()"
   ]
  },
  {
   "cell_type": "code",
   "execution_count": null,
   "metadata": {},
   "outputs": [],
   "source": [
    "df_male1.info()"
   ]
  },
  {
   "cell_type": "code",
   "execution_count": null,
   "metadata": {},
   "outputs": [],
   "source": [
    "#Cách 2: sử dụng phương thức query\n",
    "df_male2 = df_bmi.query('Gender==\"Male\"')\n",
    "df_male2.head()"
   ]
  },
  {
   "cell_type": "code",
   "execution_count": null,
   "metadata": {},
   "outputs": [],
   "source": [
    "#Cách 3: sử dụng iloc\n",
    "df_male3 = df_bmi.loc[(df_bmi.Gender==\"Male\")]\n",
    "df_male3.head()"
   ]
  },
  {
   "cell_type": "code",
   "execution_count": null,
   "metadata": {},
   "outputs": [],
   "source": [
    "#Kết hợp nhiều tiêu chí lọc dữ liệu\n",
    "#lọc người có giới tính Femal và cân nặng dưới 70kg\n",
    "df_p1 = df_bmi[(df_bmi.Gender =='Female') & (df_bmi.Weight_kg<70)]\n",
    "df_p1"
   ]
  },
  {
   "cell_type": "code",
   "execution_count": null,
   "metadata": {},
   "outputs": [],
   "source": [
    "#Kết hợp nhiều tiêu chí lọc dữ liệu\n",
    "#lọc người có chiều cao > 195 cm hoặc cân nặng > 150kg\n",
    "df_p2 = df_bmi[(df_bmi.Height_cm >195) & (df_bmi.Weight_kg<70)]\n",
    "df_p2"
   ]
  },
  {
   "cell_type": "code",
   "execution_count": null,
   "metadata": {},
   "outputs": [],
   "source": [
    "# toán tử ~ - Not\n",
    "df_p3 = df_bmi[~(df_bmi.Weight_kg<155)]\n",
    "df_p3"
   ]
  },
  {
   "cell_type": "code",
   "execution_count": null,
   "metadata": {},
   "outputs": [],
   "source": [
    "#Lọc ra những người có cân nặng bằng 150, 155 và 160kg\n",
    "# phương thức isin (tương tự như in)\n",
    "df_p4 = df_bmi[df_bmi.Weight_kg.isin([150,155,160])]\n",
    "df_p4"
   ]
  },
  {
   "cell_type": "code",
   "execution_count": null,
   "metadata": {},
   "outputs": [],
   "source": [
    "df_bmi[df_bmi.Weight_kg.isin([150,155,160])].count()\n"
   ]
  },
  {
   "cell_type": "markdown",
   "metadata": {},
   "source": [
    "## 7) Đặc trưng thống kê\n",
    "---"
   ]
  },
  {
   "cell_type": "code",
   "execution_count": null,
   "metadata": {},
   "outputs": [],
   "source": [
    "#Tính tổng theo cột chiều cao\n",
    "df_bmi['Weight_kg'].sum()"
   ]
  },
  {
   "cell_type": "code",
   "execution_count": null,
   "metadata": {},
   "outputs": [],
   "source": [
    "#Tính tổng trong toàn bộ DataFrame\n",
    "df_bmi.sum()"
   ]
  },
  {
   "cell_type": "code",
   "execution_count": null,
   "metadata": {},
   "outputs": [],
   "source": [
    "#tìm Max, Min của thuộc tính cân nặng\n",
    "w_max = df_bmi['Weight_kg'].max()\n",
    "w_min = df_bmi['Weight_kg'].min()\n",
    "print('Cân nặng lớn nhất:',w_max, '(kg)')\n",
    "print('Cân nặng nhỏ nhất:',w_min, '(kg)')"
   ]
  },
  {
   "cell_type": "code",
   "execution_count": null,
   "metadata": {},
   "outputs": [],
   "source": [
    "#tìm Max, Min của thuộc tính chieu cao\n",
    "w_max = df_bmi['Height_cm'].max()\n",
    "w_min = df_bmi['Height_cm'].min()\n",
    "print('Chiều cao lớn nhất:',w_max, '(cm)')\n",
    "print('Chiều cao nhỏ nhất:',w_min, '(cm)')"
   ]
  },
  {
   "cell_type": "code",
   "execution_count": null,
   "metadata": {},
   "outputs": [],
   "source": [
    "#cộng dồn giá trị các phần tử theo hàng\n",
    "df_bmi['Weight_kg'].cumsum()"
   ]
  },
  {
   "cell_type": "code",
   "execution_count": null,
   "metadata": {},
   "outputs": [],
   "source": [
    "#tìm Mean, Median\n",
    "w_mean = df_bmi['Weight_kg'].mean()\n",
    "w_median = df_bmi['Weight_kg'].median()\n",
    "print('Cân nặng trung bình:',w_mean, '(kg)')\n",
    "print('trung vị:',w_median, '(kg)')"
   ]
  },
  {
   "cell_type": "code",
   "execution_count": null,
   "metadata": {},
   "outputs": [],
   "source": [
    "#tìm Mean, Median của chiều cao\n",
    "h_mean = df_bmi['Height_cm'].mean()\n",
    "h_median = df_bmi['Height_cm'].median()\n",
    "print('Chiều cao trung bình:',h_mean, '(cm)')\n",
    "print('Trung vị:',h_median, '(cm)')"
   ]
  },
  {
   "cell_type": "code",
   "execution_count": null,
   "metadata": {},
   "outputs": [],
   "source": [
    "#tìm độ lệch chuẩn của chiều cao, cân nặng\n",
    "h_std = df_bmi['Height_cm'].std()\n",
    "w_std = df_bmi['Weight_kg'].std()\n",
    "print('sdt của chiều cao:', h_std)\n",
    "print('sdt của cân nặng:', w_std)"
   ]
  },
  {
   "cell_type": "markdown",
   "metadata": {},
   "source": [
    "## 8) Unique\n",
    "---\n",
    "* df.unique(): liệt kê danh sách các giá trị khác nhau trong một cột dữ liệu của DataFrame.\n",
    "* df.value_counts(): Tính tổng số theo từng giá trị khác nhau trong một cột dữ liệu của DataFrame. Kết quả là một đối tượng series."
   ]
  },
  {
   "cell_type": "code",
   "execution_count": null,
   "metadata": {},
   "outputs": [],
   "source": [
    "#Xác định giá trị duy nhất trong một cột\n",
    "df_bmi['Gender'].unique()"
   ]
  },
  {
   "cell_type": "code",
   "execution_count": null,
   "metadata": {},
   "outputs": [],
   "source": []
  },
  {
   "cell_type": "code",
   "execution_count": null,
   "metadata": {},
   "outputs": [],
   "source": [
    "#Thống kê số lượng theo giá trị duy nhất\n",
    "unique_gender = df_bmi['Gender'].value_counts()\n",
    "unique_gender"
   ]
  },
  {
   "cell_type": "code",
   "execution_count": null,
   "metadata": {},
   "outputs": [],
   "source": [
    "#Vẽ đồ thị thể hiện kết quả \n",
    "plt.bar(unique_gender.index, unique_gender.values)\n",
    "plt.grid(True)"
   ]
  },
  {
   "cell_type": "code",
   "execution_count": null,
   "metadata": {},
   "outputs": [],
   "source": [
    "#Thống kê theo cân nặng\n",
    "unique_weight = df_bmi['Weight_kg'].value_counts()\n",
    "unique_weight"
   ]
  },
  {
   "cell_type": "code",
   "execution_count": null,
   "metadata": {},
   "outputs": [],
   "source": [
    "type(unique_weight)"
   ]
  },
  {
   "cell_type": "code",
   "execution_count": null,
   "metadata": {},
   "outputs": [],
   "source": [
    "plt.bar(unique_weight.index,unique_weight.values)"
   ]
  },
  {
   "cell_type": "markdown",
   "metadata": {},
   "source": [
    "# THỰC HÀNH 4:\n",
    "---\n",
    "**Yêu cầu 4.1:**\n",
    "1. Đọc dữ liệu từ file Data_Excercise\\Data_patient.csv vào biến kiểu dataframe: df_patient với cột feature_1 là cột chỉ số (index_col)\n",
    "2. Đặt lại tên các cột dữ liệu trong Dataframe: \n",
    "    * Feature_1 --> Age\n",
    "    * Feature_2 --> Gender\n",
    "    * Feature_3 --> Type\n",
    "    * Feature_4 --> Blood_pressure\n",
    "    * Feature_5 --> Cholesterol\n",
    "    * Feature_6 --> Heartbeat\n",
    "    * Feature_7 --> Thalassemia\n",
    "    * Feature_8 --> Result\n",
    "    \n",
    " *Như yêu cầu đã thực hiện trong bài thực hành số 3*"
   ]
  },
  {
   "cell_type": "code",
   "execution_count": null,
   "metadata": {},
   "outputs": [],
   "source": [
    "#{HỌC VIÊN VIẾT CODE VÀO ĐÂY}\n",
    "\n",
    "\n",
    "\n",
    "\n",
    "\n"
   ]
  },
  {
   "cell_type": "code",
   "execution_count": null,
   "metadata": {},
   "outputs": [],
   "source": []
  },
  {
   "cell_type": "markdown",
   "metadata": {},
   "source": [
    "**Yêu cầu 4.2:**\n",
    "Lọc dữ liệu trong df_patient thành các DataFrame:\n",
    "    * df_male: chứa danh sách bệnh nhân Nam\n",
    "    * df_female: chứa danh sách bệnh nhân nữ\n",
    "    * df_no: danh sách những người không bị bệnh đau tim\n",
    "    * df_yes: danh sách những người bị bệnh đau tim"
   ]
  },
  {
   "cell_type": "code",
   "execution_count": null,
   "metadata": {},
   "outputs": [],
   "source": [
    "#{HỌC VIÊN VIẾT CODE VÀO ĐÂY}\n",
    "\n",
    "\n",
    "\n",
    "\n",
    "\n"
   ]
  },
  {
   "cell_type": "code",
   "execution_count": null,
   "metadata": {},
   "outputs": [],
   "source": []
  },
  {
   "cell_type": "markdown",
   "metadata": {},
   "source": [
    "**Yêu cầu 4.3:**\n",
    "Lọc trong df_patient dưa ra danh sách bệnh nhân thỏa mãn yêu cầu sau:\n",
    "1. Những người bị mắc bệnh đau tim và trên 70 tuổi\n",
    "2. Người có giới tính Female, có huyết áp trên 170 mmhg nhưng không bị bệnh đau tim.\n",
    "3. Những người có triệu chứng đau ngực là Typical angina, giới tính Male và bị bệnh đau tim."
   ]
  },
  {
   "cell_type": "code",
   "execution_count": null,
   "metadata": {},
   "outputs": [],
   "source": [
    "#{HỌC VIÊN VIẾT CODE VÀO ĐÂY}\n",
    "\n",
    "\n",
    "\n",
    "\n",
    "\n"
   ]
  },
  {
   "cell_type": "code",
   "execution_count": null,
   "metadata": {},
   "outputs": [],
   "source": []
  },
  {
   "cell_type": "markdown",
   "metadata": {},
   "source": [
    "**Yêu cầu 4.4:** Xác định:\n",
    "1. Chỉ số huyết áp (Blood_pressure) thấp nhất, cao nhất, trung bình, trung vị và độ lệch chuẩn của tập dữ liệu\n",
    "2. Chỉ số nhịp tim (Heartbeat) thấp nhất, cao nhất, trung bình, trung vị và độ lệch chuẩn của tập dữ liệu\n"
   ]
  },
  {
   "cell_type": "code",
   "execution_count": null,
   "metadata": {},
   "outputs": [],
   "source": [
    "#{HỌC VIEN VIẾT CODE VÀO ĐÂY}\n",
    "\n",
    "\n",
    "\n",
    "\n",
    "\n"
   ]
  },
  {
   "cell_type": "code",
   "execution_count": null,
   "metadata": {},
   "outputs": [],
   "source": []
  },
  {
   "cell_type": "markdown",
   "metadata": {},
   "source": [
    "**Yêu cầu 4.5: Xác định:**\n",
    "1. Số giá trị khác nhau của thuộc tính Type\n",
    "2. Vẽ đồ thị dạng cột thể hiện kết quả thống kê số lượng theo từng giá trị khác nhau của thuộc tính Type\n"
   ]
  },
  {
   "cell_type": "code",
   "execution_count": null,
   "metadata": {},
   "outputs": [],
   "source": [
    "#{HỌC VIEN VIẾT CODE VÀO ĐÂY}\n",
    "\n",
    "\n",
    "\n",
    "\n",
    "\n"
   ]
  },
  {
   "cell_type": "code",
   "execution_count": null,
   "metadata": {},
   "outputs": [],
   "source": []
  },
  {
   "cell_type": "markdown",
   "metadata": {},
   "source": [
    "## 9. Phân tích dữ liệu chuỗi thời gian (Time Series Data)\n",
    "---\n",
    "**Bài toán:**\n",
    "* Người ta lắp đặt thiết bị để đếm số lượng xe đạp đi qua chiều phía đông và phía tây của cây cầu Fremont Bridge theo từng giờ.\n",
    "* Chi tiết: https://data.seattle.gov/Transportation/Fremont-Bridge-Bicycle-Counter/65db-xm6k\n",
    "----------------------\n",
    "**Tập dữ liệu:**\n",
    "* Tập dữ liệu là số lượng xe đạp đi qua cây cầu Fremont Bridge. Dữ liệu này được thu thập tự động thông qua các cảm biến ở 2 lối đi bộ ở phía đông và phía tây của cây cầu. Số lượng xe đạp được tổng hợp theo từng giờ.\n",
    "* Tập dữ liệu bao gồm 4 cột:\n",
    "    - Date: Thời gian (ngày - giờ): 10/03/2012 12:00:00 AM (Kiểu thời gian)\n",
    "    - Fremont Bridge Total: Tổng số xe đi theo cả 2 lối đông và tây (Kiểu số nguyên)\n",
    "    - Fremont Bridge East Sidewalk: Số xe đạp đi qua lối phía đông của cầu tương ứng với thời gian (Kiểu số nguyên)\n",
    "    - Fremont Bridge West Sidewalk: Số xe đạp đi qua lối phía tây của cầu tương ứng với thời gian (Kiểu số nguyên)\n",
    "-------------------------------\n",
    "**Mục tiêu:**\n",
    "1. Phân tích dữ liệu chuỗi thời gian (Time Series Data) sử dụng Pandas.\n",
    "2. Kết hợp với các biểu đồ để tìm ra được những Insight ẩn chứa trong tập dữ liệu.\n"
   ]
  },
  {
   "cell_type": "markdown",
   "metadata": {},
   "source": [
    "### 9.1) Đọc, quan sát và chuẩn hóa dữ liệu\n",
    "---"
   ]
  },
  {
   "cell_type": "code",
   "execution_count": null,
   "metadata": {},
   "outputs": [],
   "source": [
    "#Đọc dữ liệu trong file csv\n",
    "path='Data_Excercise\\Data_Bicycle_Counter.csv'\n",
    "df_bicycle=pd.read_csv(path)\n",
    "df_bicycle.info()"
   ]
  },
  {
   "cell_type": "code",
   "execution_count": null,
   "metadata": {},
   "outputs": [],
   "source": [
    "df_bicycle.head()"
   ]
  },
  {
   "cell_type": "code",
   "execution_count": null,
   "metadata": {},
   "outputs": [],
   "source": [
    "#Kiểm tra dữ liệu missing\n",
    "df_bicycle.isnull().sum()"
   ]
  },
  {
   "cell_type": "code",
   "execution_count": null,
   "metadata": {},
   "outputs": [],
   "source": [
    "#Liệt kê các thời điểm không có dữ liệu (Missing values)\n",
    "df_bicycle[df_bicycle.isnull().any(axis=1)]\n",
    "\n",
    "#hoặc\n",
    "#df_bicycle[pd.isnull(df_bicycle['Total'])]"
   ]
  },
  {
   "cell_type": "code",
   "execution_count": null,
   "metadata": {},
   "outputs": [],
   "source": [
    "# Đổi lại tên các cột cho ngắn gọn\n",
    "df_bicycle.columns = ['Date','Total', 'East', 'West']\n",
    "df_bicycle"
   ]
  },
  {
   "cell_type": "code",
   "execution_count": null,
   "metadata": {},
   "outputs": [],
   "source": [
    "#Chuyển đổi dữ liệu cột Date về dạng chuỗi thời gian\n",
    "df_bicycle['Date'] = pd.to_datetime(df_bicycle['Date'])\n",
    "df_bicycle.info()"
   ]
  },
  {
   "cell_type": "code",
   "execution_count": null,
   "metadata": {},
   "outputs": [],
   "source": [
    "#Thiết lập cột Date làm index cho DataFrame\n",
    "df_bicycle.set_index('Date',inplace=True)\n",
    "df_bicycle.head()"
   ]
  },
  {
   "cell_type": "markdown",
   "metadata": {},
   "source": [
    "## 9.2) Khám phá tập dữ liệu\n",
    "---\n",
    "### A) Sử dụng các đặc trưng thống kê"
   ]
  },
  {
   "cell_type": "code",
   "execution_count": null,
   "metadata": {},
   "outputs": [],
   "source": [
    "#Sử dụng sum tính tổng lượt người đi xe đạp\n",
    "df_bicycle.sum()"
   ]
  },
  {
   "cell_type": "code",
   "execution_count": null,
   "metadata": {},
   "outputs": [],
   "source": [
    "#Sử dụng describe để quan sát các thông số\n",
    "df_bicycle.describe()"
   ]
  },
  {
   "cell_type": "code",
   "execution_count": null,
   "metadata": {},
   "outputs": [],
   "source": [
    "#Thống kê số lượng xe đạp qua cầu phía West\n",
    "w = df_bicycle['West'].value_counts()\n",
    "print(w[:30])"
   ]
  },
  {
   "cell_type": "code",
   "execution_count": null,
   "metadata": {},
   "outputs": [],
   "source": [
    "#Trực quan hóa số liệu thống kê\n",
    "plt.bar(w.index,w.values)"
   ]
  },
  {
   "cell_type": "code",
   "execution_count": null,
   "metadata": {},
   "outputs": [],
   "source": [
    "#Thống kê số lượng xe đạp qua cầu phía West\n",
    "e = df_bicycle['East'].value_counts()\n",
    "print(e[:30])"
   ]
  },
  {
   "cell_type": "code",
   "execution_count": null,
   "metadata": {},
   "outputs": [],
   "source": [
    "#Trực quan hóa số liệu thống kê\n",
    "plt.bar(e.index,e.values)"
   ]
  },
  {
   "cell_type": "markdown",
   "metadata": {},
   "source": [
    "### Phát hiện 1:\n",
    "----\n",
    "1. Số lượng người đi xe đạp bên cầu phía West (8 344 494) cao hơn cầu phía East (6 997 333)\n",
    "2. Lượng người đi qua từng bên cầu cao nhất theo giờ 850 lượt, toàn bộ 1097 lượt\n",
    "3. Lượng người đi xe đạp qua cầu chủ yếu nhỏ dưới 30 lượt"
   ]
  },
  {
   "cell_type": "markdown",
   "metadata": {},
   "source": [
    "### B) Phương pháp Phân tích chuỗi thời gian\n",
    "---"
   ]
  },
  {
   "cell_type": "markdown",
   "metadata": {},
   "source": [
    "### 1) Thống kê tổng số lượng đi xe đạp theo năm để thấy xu hướng chung"
   ]
  },
  {
   "cell_type": "code",
   "execution_count": null,
   "metadata": {},
   "outputs": [],
   "source": [
    "df_bicycle.index"
   ]
  },
  {
   "cell_type": "code",
   "execution_count": null,
   "metadata": {},
   "outputs": [],
   "source": [
    "#Dữ liệu bắt đầu từ 3/10/2012 --> 31/08/2020 \n",
    "#Tách dữ liệu chỉ lấy từ năm 2013 - 2019\n",
    "df_full_year = df_bicycle.loc['2013':'2019']\n",
    "df_full_year.info()"
   ]
  },
  {
   "cell_type": "code",
   "execution_count": null,
   "metadata": {},
   "outputs": [],
   "source": [
    "#Tổng hợp số liệu chuỗi thời gian theo từng năm\n",
    "#Tính tổng số lượt qua cầu theo năm\n",
    "yearly = df_full_year.resample('Y').sum() #Tính tổng theo năm\n",
    "yearly"
   ]
  },
  {
   "cell_type": "code",
   "execution_count": null,
   "metadata": {},
   "outputs": [],
   "source": [
    "#Trực quan hóa trên biểu đồ\n",
    "yearly.plot(style=[':*', '--o', '-s'], color=['red','green','blue'])\n",
    "plt.ylabel('Tổng số lượt qua cầu')\n",
    "plt.xlabel('Năm')\n",
    "plt.title('ĐỒ THỊ THỐNG KÊ SỐ LƯỢNG THEO NĂM')"
   ]
  },
  {
   "cell_type": "markdown",
   "metadata": {},
   "source": [
    "### Phát hiện 2:Từ biểu đồ thống kê tổng số xe đạp qua cầu theo năm ta thấy:\n",
    "---\n",
    "* Số lượng người đi xe đạp qua cầu Fremont có xu hướng tăng lên theo từng năm, những năm gần đây tăng nhanh.\n",
    "* Lượt xe đạp qua lối đi phía tây nhiều hơn lối đi phía đông, và cũng có xu hướng tăng nhanh trong những năng gần đây."
   ]
  },
  {
   "cell_type": "markdown",
   "metadata": {},
   "source": [
    "## 2) Thống kê số lượng người đi xe đạp theo tháng để thấy xu hướng mùa vụ\n",
    "---"
   ]
  },
  {
   "cell_type": "code",
   "execution_count": null,
   "metadata": {},
   "outputs": [],
   "source": [
    "#Thống kê số lượng xe theo tháng qua phía Đông, Tây và Toàn bộ\n",
    "data_month = df_bicycle.resample('M').sum() #Tính tổng lượt đi theo tháng\n",
    "data_month.plot(style=['-', '-', '-'], color=['red','green','blue'])\n",
    "plt.ylabel('Số lượng xe đạp theo tháng');\n",
    "plt.show()"
   ]
  },
  {
   "cell_type": "code",
   "execution_count": null,
   "metadata": {},
   "outputs": [],
   "source": [
    "data_month"
   ]
  },
  {
   "cell_type": "code",
   "execution_count": null,
   "metadata": {},
   "outputs": [],
   "source": [
    "#Hiển thị chi tiết dữ liệu theo tháng của một năm cụ thể [2019].\n",
    "data_2019 = df_bicycle.loc['2019',['Total']]\n",
    "df_month_19 = data_2019.resample('M').sum() #Tính tổng theo tháng\n",
    "df_month_19.plot(marker='o', markersize='10', color='red')\n",
    "plt.ylabel('Tổng số lượng xe theo từng tháng')\n",
    "plt.title('THỐNG KÊ TỔNG SỐ LƯỢT XE ĐẠP THEO TỪNG THÁNG TRONG NĂM 2019',loc='center')\n",
    "plt.grid()\n",
    "plt.show()"
   ]
  },
  {
   "cell_type": "markdown",
   "metadata": {},
   "source": [
    "### Phát hiện 3: Từ biểu đồ thể hiện lượng xe đạp qua cầu theo tháng ta thấy:\n",
    "---\n",
    "* Dữ liệu chuỗi thời gian có tính thời vụ (seasonal)\n",
    "* Mọi người đạp xe nhiều hơn vào các tháng mùa hè và ít hơn vào các tháng mùa đông (4 tháng có số lượng người đạp xe nhiều nhất:5, 6, 7 và 8)\n",
    "\n",
    "--> **Dữ liệu chuỗi thời gian về lượng xe đạp qua cầu có tính xu hướng (tăng dần) và tính thời vụ (số lượng nhiều hơn vào các tháng mùa hè và ít hơn vào các tháng mùa đông)**"
   ]
  },
  {
   "cell_type": "markdown",
   "metadata": {},
   "source": [
    "## 3) Thống kê lượng đi xe đạp theo giờ\n",
    "---"
   ]
  },
  {
   "cell_type": "code",
   "execution_count": null,
   "metadata": {},
   "outputs": [],
   "source": [
    "#Tính trung bình lượng xe theo từng giờ qua cầu trong toàn bộ tập dữ liệu\n",
    "by_time = df_bicycle.groupby(df_bicycle.index.time).mean()\n",
    "by_time"
   ]
  },
  {
   "cell_type": "code",
   "execution_count": null,
   "metadata": {},
   "outputs": [],
   "source": [
    "#Trực quan hóa dữ liệu:\n",
    "hourly_ticks = 2 * 60 * 60 * np.arange(12)\n",
    "by_time.plot(xticks=hourly_ticks, style=[':*', '--s', '-o'])\n",
    "plt.grid()\n",
    "plt.xlabel('Thời gian (h)')\n",
    "plt.ylabel('Trung bình số xe qua cầu theo giờ')\n",
    "plt.title('BIỂU ĐỒ THỂ HIỆN LƯỢNG XE TRUNG BÌNH QUA CẦU THEO TỪNG GIỜ',loc='center')\n",
    "plt.show()"
   ]
  },
  {
   "cell_type": "markdown",
   "metadata": {},
   "source": [
    "### Phát hiện 4: Từ biểu đồ thể hiện lượng xe đạp qua cầu trung bình theo giờ ta thấy:\n",
    "---\n",
    "* Lượng người đi xe đạp qua cầu chủ yếu tập trung vào thời điểm 7,8,9h buổi sáng | 16, 17, 18h buổi chiều\n",
    "* Lượng người đi nhiều nhất vào thời điểm 8(h) sáng - 17h chiều.\n",
    "* Thời điểm buổi sáng lượng người đi qua cầu làn phía Đông (East) Lớn hơn làn phía Tây (Đi từ bên ngoài bào trung tâm thành phố Seattle) | Buổi chiều lượng người đi qua cầu làn phía Tây (West) lơn hơn (đi ra khỏi trung tâm thành phố). "
   ]
  },
  {
   "cell_type": "markdown",
   "metadata": {},
   "source": [
    "### 4) Thống kê lượng xe trung bình theo ngày trong tuần\n",
    "---"
   ]
  },
  {
   "cell_type": "code",
   "execution_count": null,
   "metadata": {},
   "outputs": [],
   "source": [
    "#Nhóm dữ liệu theo ngày trong tuần và tính trung bình\n",
    "df_weekday = df_bicycle.groupby(df_bicycle.index.dayofweek).mean()\n",
    "#Đổi tên index theo ngày dễ quan sát\n",
    "df_weekday.index = ['Mon', 'Tues', 'Wed', 'Thurs', 'Fri', 'Sat', 'Sun']\n",
    "df_weekday\n"
   ]
  },
  {
   "cell_type": "code",
   "execution_count": null,
   "metadata": {},
   "outputs": [],
   "source": [
    "#Trực quan hóa dữ liệu lên đồ thị\n",
    "stick =['Mon', 'Tues', 'Wed', 'Thurs', 'Fri', 'Sat', 'Sun']\n",
    "df_weekday.plot(style=[':*', '--s', '-o']);\n",
    "plt.grid()\n",
    "plt.xlabel('Thứ trong tuần')\n",
    "plt.ylabel('Trung bình theo ngày trong tuần')\n",
    "plt.title('LƯỢNG XE TRUNG BÌNH QUA CẦU THEO TỪNG NGÀY TRONG TUẦN',loc='center')\n",
    "plt.show()"
   ]
  },
  {
   "cell_type": "code",
   "execution_count": null,
   "metadata": {},
   "outputs": [],
   "source": [
    "#Thực hiện thống kê số lượng người đi xe đạp qua cầu\n",
    "#Tách giữa ngày làm việc [thứ 2 - thứ 5] và ngày cuối tuần [thứ 7, CN]\n",
    "df_weekend = np.where(df_bicycle.index.weekday < 5, 'Weekday', 'Weekend')\n",
    "#Tính lượng người đi qua trung bình theo giờ giữa các ngày trong tuần và cuối tuần\n",
    "df_by_time = df_bicycle.groupby([df_weekend, df_bicycle.index.time]).mean()\n",
    "df_by_time"
   ]
  },
  {
   "cell_type": "code",
   "execution_count": null,
   "metadata": {},
   "outputs": [],
   "source": [
    "#Trực quan hóa dữ liệu\n",
    "fig, ax = plt.subplots(1, 2, figsize=(14, 4))\n",
    "df_by_time.loc['Weekday'].plot(ax=ax[0], title='Weekdays',\n",
    "                           xticks=hourly_ticks, style=[':*', '--s', '-o'], grid=True)\n",
    "df_by_time.loc['Weekend'].plot(ax=ax[1], title='Weekends',\n",
    "                           xticks=hourly_ticks, style=[':*', '--s', '-o'], grid=True);"
   ]
  },
  {
   "cell_type": "markdown",
   "metadata": {},
   "source": [
    "### Phát hiện 5: Từ biểu đồ thể hiện lượng xe đạp qua cầu trung bình theo ngày trong tuần:\n",
    "---\n",
    "* Lượng người đi xe đạp qua cầu chủ yếu vào các ngày làm việc trong tuần [thứ 2 --> thứ 6]; Cuối tuần [Thứ 7, CN] lượng người đi qua cầu giảm đi đáng kể. Lượng người đi qua cầu ngày làm việc gấp đôi ngày cuối tuần.\n",
    "* Vào các ngày làm việc trong tuần lượng người đi xe đạp qua cầu chủ yếu tập trung vào thời điểm 7,8,9h buổi sáng | 16, 17, 18h buổi chiều. Lượng người đi nhiều nhất vào thời điểm 8(h) sáng - 17h chiều.\n",
    "* Vào các ngày cuối tuần, người đi xe đạp chủ yếu qua cầu trong thời gian từ 12-16h"
   ]
  },
  {
   "cell_type": "markdown",
   "metadata": {},
   "source": [
    "## THỰC HÀNH 5\n",
    "---\n",
    "Dựa vào dữ liệu chuỗi thời gian quan trắc thông số nhiệt độ của Hà Giang và Cà Mau từ năm 2012 đến 2019 (Data_Temperature.csv), sử dụng các kỹ thuật để tìm ra những thông tin từ 2 bộ dữ liệu đó."
   ]
  },
  {
   "cell_type": "code",
   "execution_count": null,
   "metadata": {},
   "outputs": [],
   "source": [
    "#{HỌC VIÊN VIẾT CODE VÀO ĐÂY}\n",
    "\n",
    "\n",
    "\n"
   ]
  },
  {
   "cell_type": "code",
   "execution_count": null,
   "metadata": {},
   "outputs": [],
   "source": []
  }
 ],
 "metadata": {
  "kernelspec": {
   "display_name": "Python 3 (ipykernel)",
   "language": "python",
   "name": "python3"
  },
  "language_info": {
   "codemirror_mode": {
    "name": "ipython",
    "version": 3
   },
   "file_extension": ".py",
   "mimetype": "text/x-python",
   "name": "python",
   "nbconvert_exporter": "python",
   "pygments_lexer": "ipython3",
   "version": "3.11.4"
  }
 },
 "nbformat": 4,
 "nbformat_minor": 2
}
