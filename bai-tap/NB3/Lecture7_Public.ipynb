{
 "cells": [
  {
   "cell_type": "markdown",
   "metadata": {},
   "source": [
    "## <img src ='Pic\\logo.jpg' width='500px'>\n",
    "\n",
    "\n",
    "<div align=\"center\">\n",
    "\n",
    "# KHÓA HỌC: LẬP TRÌNH PYTHON CƠ BẢN\n",
    "\n",
    "</div>\n",
    "\n",
    "\n",
    "---\n",
    "\n",
    "Bài 7 - Phân tích và xử lý dữ liệu với Pandas - Phần 02\n",
    "----\n",
    "Giảng Viên: Đặng Văn Nam\n",
    "\n",
    "Email: namdv@aiacademy.edu.vn"
   ]
  },
  {
   "cell_type": "markdown",
   "metadata": {},
   "source": [
    "# Nội dung bài học\n",
    "---\n",
    "1. Xóa cột/hàng trong Dataframe\n",
    "2. Xử lý hàng trùng lặp (Duplicate rows)\n",
    "3. Sắp xếp trong DataFrame\n",
    "4. Nhóm các hàng trong DataFrame dựa vào giá trị (Groupby)\n",
    "5. Áp dụng hàm cho các phần tử trong một cột (Apply)\n",
    "6. Trộn các DataFrame (Merging)\n",
    "7. Ghép nối các DataFrame (Concatenating)\n",
    "8. Phát hiện và xử lý dữ liệu khuyết thiếu (missing)\n",
    "9. Phát hiện và xử lý dữ liệu ngoại lai (outliers)\n",
    "10.Phân tích dữ liệu bán hàng (Tiếp cận từ bài toán thực tế)"
   ]
  },
  {
   "cell_type": "markdown",
   "metadata": {},
   "source": [
    "# 1) Xóa cột/hàng trong DataFrame\n",
    "---"
   ]
  },
  {
   "cell_type": "code",
   "execution_count": null,
   "metadata": {},
   "outputs": [],
   "source": [
    "#Khai báo sử dụng thư viện\n",
    "import pandas as pd\n",
    "import numpy as np\n",
    "import matplotlib.pyplot as plt"
   ]
  },
  {
   "cell_type": "code",
   "execution_count": null,
   "metadata": {},
   "outputs": [],
   "source": [
    "#Đọc dữ liệu mẫu được lưu trữ trong file csv\n",
    "path='Data_Excercise\\csv_Data_Loan.csv'\n",
    "df_loan=pd.read_csv(path)\n",
    "df_loan.head()"
   ]
  },
  {
   "cell_type": "code",
   "execution_count": null,
   "metadata": {},
   "outputs": [],
   "source": [
    "#Quan sát dữ liệu biến DataFrame\n",
    "df_loan.info()"
   ]
  },
  {
   "cell_type": "markdown",
   "metadata": {},
   "source": [
    "<img src='Pic/axis.png' width=400px>\n",
    "\n",
    "* cột axis=1 | axis = \"columns\"\n",
    "* hàng axis = 0 | axis = \"rows\" (Default)"
   ]
  },
  {
   "cell_type": "code",
   "execution_count": null,
   "metadata": {},
   "outputs": [],
   "source": [
    "#Xử dụng .drop(axis=1|columns) để xóa cột\n",
    "#Xóa một số cột trong df_loan\n",
    "df_loan1 = df_loan.drop(['annual_inc',\n",
    "                         'dti','delinq_2yrs',\n",
    "                         'revol_util',\n",
    "                         'longest_credit_length',\n",
    "                         'verification_status'], axis=1)\n",
    "df_loan1.info()"
   ]
  },
  {
   "cell_type": "code",
   "execution_count": null,
   "metadata": {},
   "outputs": [],
   "source": [
    "df_loan1.head()"
   ]
  },
  {
   "cell_type": "code",
   "execution_count": null,
   "metadata": {},
   "outputs": [],
   "source": [
    "#Xóa cột trong một DataFrame sử dụng chỉ số cột\n",
    "df_loan2 = df_loan.drop(df_loan.columns[[5,8,9,10,13,14]], \n",
    "                        axis='columns')\n",
    "df_loan2.info()"
   ]
  },
  {
   "cell_type": "code",
   "execution_count": null,
   "metadata": {},
   "outputs": [],
   "source": [
    "df_loan2.head(10)"
   ]
  },
  {
   "cell_type": "code",
   "execution_count": null,
   "metadata": {},
   "outputs": [],
   "source": [
    "#Xóa hàng trong một DataFrame\n",
    "#Xóa hàng có index: 3,9\n",
    "df_loan2.drop(df_loan.columns[[3]],\n",
    "              axis=1,\n",
    "              inplace=True)\n",
    "df_loan2.head(10)"
   ]
  },
  {
   "cell_type": "code",
   "execution_count": null,
   "metadata": {},
   "outputs": [],
   "source": [
    "df_loan2.drop([6,8], inplace=True)\n"
   ]
  },
  {
   "cell_type": "code",
   "execution_count": null,
   "metadata": {},
   "outputs": [],
   "source": []
  },
  {
   "cell_type": "code",
   "execution_count": null,
   "metadata": {},
   "outputs": [],
   "source": [
    "df_loan2.head(10)"
   ]
  },
  {
   "cell_type": "code",
   "execution_count": null,
   "metadata": {},
   "outputs": [],
   "source": [
    "df_loan2.reset_index(inplace=True)\n",
    "df_loan2.head(10)"
   ]
  },
  {
   "cell_type": "code",
   "execution_count": null,
   "metadata": {},
   "outputs": [],
   "source": [
    "#Loại bỏ tất cả các dòng dữ liệu có addr_state = CA\n",
    "df_loan3 = df_loan1[df_loan1.addr_state!='CA']\n",
    "df_loan3"
   ]
  },
  {
   "cell_type": "markdown",
   "metadata": {},
   "source": [
    "## 2) Xử lý hàng trùng lặp trong DataFrame\n",
    "---\n",
    "<img src=\"Pic/drop_duplicate.png\">"
   ]
  },
  {
   "cell_type": "code",
   "execution_count": null,
   "metadata": {},
   "outputs": [],
   "source": [
    "#Tạo DataFrame mẫu\n",
    "import numpy as np\n",
    "import pandas as pd\n",
    "d = { \n",
    "    'Name':['Alisa','raghu','jodha','jodha','raghu','Cathrine', 'Alisa','Bobby','Bobby','Alisa','raghu','Cathrine'],\n",
    "     'Age':[26,23,23,23,23,24,26,24,22,26,23,24], \n",
    "     'Score':[85,31,55,55,31,77,85,63,42,85,31,np.nan]}\n",
    "\n",
    "df = pd.DataFrame(d,columns=['Name','Age','Score'])\n",
    "df"
   ]
  },
  {
   "cell_type": "code",
   "execution_count": null,
   "metadata": {},
   "outputs": [],
   "source": [
    "#Kiểm tra các dòng dữ liệu trùng lặp\n",
    "df.duplicated()"
   ]
  },
  {
   "cell_type": "code",
   "execution_count": null,
   "metadata": {},
   "outputs": [],
   "source": [
    "#Liệt kê các bản ghi trùng lặp\n",
    "df.loc[df.duplicated()==True]\n"
   ]
  },
  {
   "cell_type": "code",
   "execution_count": null,
   "metadata": {},
   "outputs": [],
   "source": [
    "#Trường hợp 1:\n",
    "#Sử dụng df.drop_duplicates() với các tham số mặc định\n",
    "#--> giữ lại hàng trùng lặp đầu tiên\n",
    "df1 = df.drop_duplicates()\n",
    "df1"
   ]
  },
  {
   "cell_type": "code",
   "execution_count": null,
   "metadata": {},
   "outputs": [],
   "source": [
    "#Trường hợp 2:\n",
    "#Sử dụng df.drop_duplicates()\n",
    "#với các tham số keep='last'\n",
    "#Giữ lại các hàng trùng lặp cuối cùng\n",
    "df2=df.drop_duplicates(keep='last')\n",
    "df2"
   ]
  },
  {
   "cell_type": "code",
   "execution_count": null,
   "metadata": {},
   "outputs": [],
   "source": [
    "#Trường hợp 3:\n",
    "#Sử dụng df.drop_duplicates()\n",
    "#với các tham số keep=False\n",
    "#Xóa hết các hàng trùng lặp khỏi df\n",
    "df3=df.drop_duplicates(keep=False)\n",
    "df3"
   ]
  },
  {
   "cell_type": "code",
   "execution_count": null,
   "metadata": {},
   "outputs": [],
   "source": [
    "#Trường hợp 4:\n",
    "#Sử dụng df.drop_duplicates()\n",
    "#Loại bỏ các hàng trùng nhau theo cột Name\n",
    "df4=df.drop_duplicates(['Name'],keep='first')\n",
    "df4"
   ]
  },
  {
   "cell_type": "code",
   "execution_count": null,
   "metadata": {},
   "outputs": [],
   "source": [
    "#Trường hợp 5:\n",
    "#Sử dụng df.drop_duplicates()\n",
    "#Loại bỏ các hàng trùng nhau theo cột Name, Age\n",
    "df5=df.drop_duplicates(['Name','Age'],\n",
    "                       keep='first')\n",
    "df5"
   ]
  },
  {
   "cell_type": "markdown",
   "metadata": {},
   "source": [
    "## 3) Sắp xếp dữ liệu trong Pandas\n",
    "---\n",
    "* df.sort_values(): sắp xếp dữ liệu trong DataFrame theo giá trị của các cột, tăng dần (ascending = True)-default hoặc giảm dần (ascending=False)\n",
    "\n",
    "* df.sort_index(): sắp xếp dữ liệu trong DataFrame theo index\n",
    "<img src=\"Pic/pandas_sort.png\" width=500px>"
   ]
  },
  {
   "cell_type": "code",
   "execution_count": null,
   "metadata": {},
   "outputs": [],
   "source": [
    "#Tạo dữ liệu mẫu\n",
    "d = {'Name':pd.Series(['Alisa','Bobby','Cathrine','Madonna','Rocky','Sebastian','Jaqluine',\n",
    "   'Rahul','David','Andrew','Ajay','Teresa','Madonna']),\n",
    "   'Age':pd.Series([26,27,25,24,31,27,25,33,42,32,51,47,38]),\n",
    "   'Score':pd.Series([89,87,67,55,47,72,76,79,44,92,99,69,73])}\n",
    "#Create a DataFrame\n",
    "df = pd.DataFrame(d)\n",
    "df\n"
   ]
  },
  {
   "cell_type": "code",
   "execution_count": null,
   "metadata": {},
   "outputs": [],
   "source": [
    "#Trường hợp 1:\n",
    "#Sắp xếp dữ liệu Dataframe theo cột Score\n",
    "#Mặc định là sắp xếp tăng dần\n",
    "df.sort_values(by='Name')"
   ]
  },
  {
   "cell_type": "code",
   "execution_count": null,
   "metadata": {},
   "outputs": [],
   "source": [
    "#Trường hợp 2:\n",
    "#Sắp xếp dữ liệu Dataframe theo cột Score\n",
    "#Giá trị giảm dần\n",
    "df.sort_values(by='Score',ascending=False)"
   ]
  },
  {
   "cell_type": "code",
   "execution_count": null,
   "metadata": {},
   "outputs": [],
   "source": [
    "#Trường hợp 3:\n",
    "#Sắp xếp dữ liệu Dataframe theo cột Name, Score\n",
    "#Giá trị tăng dần\n",
    "df.sort_values(by=['Name','Score'])"
   ]
  },
  {
   "cell_type": "code",
   "execution_count": null,
   "metadata": {},
   "outputs": [],
   "source": [
    "#Trường hợp 4:\n",
    "#Sắp xếp dữ liệu Dataframe theo cột Name, Score\n",
    "#Giá trị cột Name tăng dần\n",
    "#Giá trị cột Score giảm dần\n",
    "df.sort_values(by=['Name','Score'],\n",
    "               ascending=[True,False])"
   ]
  },
  {
   "cell_type": "code",
   "execution_count": null,
   "metadata": {},
   "outputs": [],
   "source": [
    "#Trường hợp 4:\n",
    "#Sắp xếp dữ liệu Dataframe theo cột Name, Score\n",
    "df.sort_values(by=['Age','Score'],\n",
    "               ascending=[True,True])"
   ]
  },
  {
   "cell_type": "code",
   "execution_count": null,
   "metadata": {},
   "outputs": [],
   "source": [
    "#Trường hợp 5:\n",
    "#Sắp xếp dữ liệu Dataframe theo cột Age, Score tăng dần\n",
    "df.sort_values(by=['Age','Score'],\n",
    "               ascending=[True,False])"
   ]
  },
  {
   "cell_type": "markdown",
   "metadata": {},
   "source": [
    "## 4) Nhóm dữ liệu (groupby)\n",
    "---"
   ]
  },
  {
   "cell_type": "code",
   "execution_count": null,
   "metadata": {},
   "outputs": [],
   "source": [
    "#Tạo dữ liệu mẫu\n",
    "d = {'Name':['Alisa','Bobby','Cathrine','Alisa','Bobby','Cathrine','Alisa','Bobby','Cathrine','Alisa','Bobby','Cathrine'],\n",
    "    'Exam':['Semester 1','Semester 1','Semester 1','Semester 1','Semester 1','Semester 1','Semester 2','Semester 2','Semester 2','Semester 2','Semester 2','Semester 2'],\n",
    "    'Subject':['Mathematics','Mathematics','Mathematics','Science','Science','Science','Mathematics','Mathematics','Mathematics','Science','Science','Science'],\n",
    "    'Score':[62,47,55,74,31,77,85,63,42,67,89,81]}\n",
    "df = pd.DataFrame(d,columns=['Name','Exam','Subject','Score'])\n",
    "df"
   ]
  },
  {
   "cell_type": "code",
   "execution_count": null,
   "metadata": {},
   "outputs": [],
   "source": [
    "#Trường hợp 1:\n",
    "#Nhóm theo tên sinh viên (Name)\n",
    "#Thực hiện tính điểm trung bình Score\n",
    "df['Score'].groupby([df['Name']]).mean()"
   ]
  },
  {
   "cell_type": "code",
   "execution_count": null,
   "metadata": {},
   "outputs": [],
   "source": [
    "(67+74+85+62)/4"
   ]
  },
  {
   "cell_type": "code",
   "execution_count": null,
   "metadata": {},
   "outputs": [],
   "source": [
    "#Trường hợp 2:\n",
    "#Nhóm dữ liệu theo tên sinh viên (Name)\n",
    "#và Bài kiểm tra (Exam)\n",
    "#sau đó thực hiện tính tổng\n",
    "df['Score'].groupby([df['Name'],\n",
    "                     df['Exam']]).sum()"
   ]
  },
  {
   "cell_type": "code",
   "execution_count": null,
   "metadata": {},
   "outputs": [],
   "source": [
    "df['Score'].groupby([df['Name'],\n",
    "                     df['Exam']]).mean()"
   ]
  },
  {
   "cell_type": "code",
   "execution_count": null,
   "metadata": {},
   "outputs": [],
   "source": [
    "#Trường hợp 3:\n",
    "#Nhóm dữ liệu theo Subject và Exam\n",
    "#Thực hiện tính tổng Score\n",
    "df.groupby(['Subject', 'Exam']).mean()"
   ]
  },
  {
   "cell_type": "markdown",
   "metadata": {},
   "source": [
    "## THỰC HÀNH 1\n",
    "---\n",
    "**Yêu cầu 1.1:**\n",
    "Đọc dữ liệu từ file Data_Patient.csv vào biến kiểu dataframe: df_patient với cột id là cột chỉ số (index_col); Hiển thị 10 dòng dữ liệu đầu tiên"
   ]
  },
  {
   "cell_type": "code",
   "execution_count": null,
   "metadata": {},
   "outputs": [],
   "source": [
    "#{HỌC VIÊN VIẾT CODE VÀO ĐÂY}\n",
    "\n",
    "\n",
    "\n",
    "\n"
   ]
  },
  {
   "cell_type": "code",
   "execution_count": null,
   "metadata": {},
   "outputs": [],
   "source": []
  },
  {
   "cell_type": "markdown",
   "metadata": {},
   "source": [
    "### **Yêu cầu 1.2:**\n",
    "Xóa cột dữ liệu có tên ‘Thalassemia’ và áp dụng thay đổi lên chính df_patient."
   ]
  },
  {
   "cell_type": "code",
   "execution_count": null,
   "metadata": {},
   "outputs": [],
   "source": [
    "#{HỌC VIÊN VIẾT CODE VÀO ĐÂY}\n",
    "\n",
    "\n",
    "\n"
   ]
  },
  {
   "cell_type": "code",
   "execution_count": null,
   "metadata": {},
   "outputs": [],
   "source": []
  },
  {
   "cell_type": "markdown",
   "metadata": {},
   "source": [
    "### **Yêu cầu 1.3:**\n",
    "A) Tạo df_patient1 bằng cách loại bỏ đi 100 dòng dữ liệu đầu tiên từ df_patient.\n",
    "\n",
    "B) Tạo df_patient2 bằng cách loại bỏ đi các dòng dữ liệu có thuộc tính Type = ‘Non-anginal pain’ và nhip tim > 187 từ df_patient."
   ]
  },
  {
   "cell_type": "code",
   "execution_count": null,
   "metadata": {},
   "outputs": [],
   "source": [
    "#{HỌC VIÊN VIẾT CODE VÀO ĐÂY}\n",
    "\n",
    "\n",
    "\n"
   ]
  },
  {
   "cell_type": "code",
   "execution_count": null,
   "metadata": {},
   "outputs": [],
   "source": []
  },
  {
   "cell_type": "markdown",
   "metadata": {},
   "source": [
    "### **Yêu cầu 1.4:**\n",
    "---\n",
    "\n",
    "A) Sắp xếp lại dữ liệu cho df_patient theo chiều giảm dần của index, áp dụng thay đổi trực tiếp lên DataFrame này.\n",
    "\n",
    "B) Tạo df_patient3 bằng cách sắp xếp dữ liệu theo thuộc tính Gender tăng dần, Nếu trùng giá trị Gender thì sắp xếp theo thuộc tính Age giảm dần."
   ]
  },
  {
   "cell_type": "code",
   "execution_count": null,
   "metadata": {},
   "outputs": [],
   "source": [
    "#{HỌC VIÊN VIẾT CODE VÀO ĐÂY}\n",
    "\n",
    "\n",
    "\n"
   ]
  },
  {
   "cell_type": "code",
   "execution_count": null,
   "metadata": {},
   "outputs": [],
   "source": []
  },
  {
   "cell_type": "markdown",
   "metadata": {},
   "source": [
    "### **Yêu cầu 1.5:**\n",
    "A) Nhóm bệnh nhân theo thuộc tính Gender và tìm tuổi lớn nhất, nhỏ nhất, trung bình của bệnh nhân theo giới tính.\n"
   ]
  },
  {
   "cell_type": "code",
   "execution_count": null,
   "metadata": {},
   "outputs": [],
   "source": [
    "#{HỌC VIÊN VIẾT CODE VÀO ĐÂY}\n",
    "\n",
    "\n",
    "\n"
   ]
  },
  {
   "cell_type": "code",
   "execution_count": null,
   "metadata": {},
   "outputs": [],
   "source": []
  },
  {
   "cell_type": "markdown",
   "metadata": {},
   "source": [
    "**B) Nhóm bệnh nhân theo thuộc tính Gender và Type và tìm tuổi lớn nhất, nhỏ nhất, trung bình của bệnh nhân theo giới tính và loại đau ngực.**"
   ]
  },
  {
   "cell_type": "code",
   "execution_count": null,
   "metadata": {},
   "outputs": [],
   "source": [
    "#{HỌC VIÊN VIẾT CODE VÀO ĐÂY}\n",
    "\n",
    "\n",
    "\n"
   ]
  },
  {
   "cell_type": "code",
   "execution_count": null,
   "metadata": {},
   "outputs": [],
   "source": []
  },
  {
   "cell_type": "markdown",
   "metadata": {},
   "source": [
    "### Yêu cầu 1.6:\n",
    "---\n",
    "Thực hiện xóa các bệnh nhân có index trùng nhau, giữ lại bệnh nhân có index trùng nhau đầu tiên, áp dụng cho chính dataframe hiện tại."
   ]
  },
  {
   "cell_type": "code",
   "execution_count": null,
   "metadata": {},
   "outputs": [],
   "source": [
    "#{HỌC VIÊN VIẾT CODE VÀO ĐÂY}\n",
    "\n",
    "\n",
    "\n"
   ]
  },
  {
   "cell_type": "code",
   "execution_count": null,
   "metadata": {},
   "outputs": [],
   "source": []
  },
  {
   "cell_type": "markdown",
   "metadata": {},
   "source": [
    "## 5) Apply(function)\n",
    "---\n",
    "* df.apply(func): Thực hiện thao tác func áp dụng cho từng cột riêng lẻ trong DataFrame, hoặc cho nhiều cột"
   ]
  },
  {
   "cell_type": "code",
   "execution_count": null,
   "metadata": {},
   "outputs": [],
   "source": [
    "#Tạo dữ liệu mẫu\n",
    "d = {'Name':pd.Series(['william','Mason','ella','jackson','lincoln','aubrey','Hudson','christian','Sawyer','silas','Bennett','kingston']),\n",
    "    'Score_Math':pd.Series([66,57,75,44,31,67,85,33,42,62,51,47]),\n",
    "    'Score_Science':pd.Series([89,87,67,55,47,72,76,79,44,92,93,69])}\n",
    "df = pd.DataFrame(d)\n",
    "df"
   ]
  },
  {
   "cell_type": "code",
   "execution_count": null,
   "metadata": {},
   "outputs": [],
   "source": [
    "##ÁP DỤNG HÀM CHO TỪNG CỘT RIÊNG LẺ\n",
    "#-----------------------------------------------------------"
   ]
  },
  {
   "cell_type": "code",
   "execution_count": null,
   "metadata": {},
   "outputs": [],
   "source": [
    "#Thực hiện: Viết hoa tên học sinh\n",
    "#Cách 1:\n",
    "def upcase(x):\n",
    "    return x.upper()\n",
    "\n",
    "df['Name2'] = df['Name'].apply(upcase)\n",
    "df"
   ]
  },
  {
   "cell_type": "code",
   "execution_count": null,
   "metadata": {},
   "outputs": [],
   "source": [
    "#Cách 2: \n",
    "df['Name'] = df['Name'].apply(lambda x:x.upper())\n",
    "df"
   ]
  },
  {
   "cell_type": "code",
   "execution_count": null,
   "metadata": {},
   "outputs": [],
   "source": [
    "#Cách 3:\n",
    "df['Name'] = df['Name'].str.upper()\n",
    "df"
   ]
  },
  {
   "cell_type": "code",
   "execution_count": null,
   "metadata": {},
   "outputs": [],
   "source": [
    "#Điểm trung bình = (score_math*2 + score_science)/3\n",
    "#Viết hàm tính điểm trung bình\n",
    "def mean_point(point1,point2):\n",
    "    return round((point1*2+point2)/3,1)"
   ]
  },
  {
   "cell_type": "code",
   "execution_count": null,
   "metadata": {},
   "outputs": [],
   "source": [
    "#Tạo một cột Point tính điểm của từng học sinh\n",
    "df['Point'] = df.apply(lambda row: mean_point(row['Score_Math'],row['Score_Science']), axis=1)\n",
    "df"
   ]
  },
  {
   "cell_type": "code",
   "execution_count": null,
   "metadata": {},
   "outputs": [],
   "source": [
    "#.apply(func) áp dụng một hàm cho dataframe theo hàng hoặc cột\n",
    "#.apply(func) áp dụng một hàm cho dataframe theo hàng hoặc cột\n",
    "df['Mean'] = df[['Score_Math','Score_Science']].apply(np.mean,axis=1)\n",
    "df"
   ]
  },
  {
   "cell_type": "markdown",
   "metadata": {},
   "source": [
    "**Áp dụng .appply() Xử lý dữ liệu file csv_Data_BMI**"
   ]
  },
  {
   "cell_type": "code",
   "execution_count": null,
   "metadata": {},
   "outputs": [],
   "source": [
    "### Áp dụng .appply() Xử lý dữ liệu file csv_Data_BMI\n",
    "#-----------------------------------------------------\n",
    "path = 'Data_Excercise\\csv_Data_BMI.csv'\n",
    "df_bmi = pd.read_csv(path,index_col=0)\n",
    "df_bmi.info()"
   ]
  },
  {
   "cell_type": "code",
   "execution_count": null,
   "metadata": {},
   "outputs": [],
   "source": [
    "df_bmi.head()"
   ]
  },
  {
   "cell_type": "code",
   "execution_count": null,
   "metadata": {},
   "outputs": [],
   "source": [
    "#Tạo thêm một cột 'Height_m' đổi dữ liệu Height từ cm --> m\n",
    "df_bmi['Height_m'] = df_bmi['Height_cm']/100\n",
    "df_bmi.head()"
   ]
  },
  {
   "cell_type": "code",
   "execution_count": null,
   "metadata": {},
   "outputs": [],
   "source": [
    "#Viết hàm tính chỉ số BMI dựa và Height (cm), Weight (kg)\n",
    "def bmi(h,w):\n",
    "    h = h/100\n",
    "    bmi = round(w/(h**2),1)\n",
    "    return bmi"
   ]
  },
  {
   "cell_type": "code",
   "execution_count": null,
   "metadata": {},
   "outputs": [],
   "source": [
    "#Áp dụng hàm tính BMI cho các hàng dữ liệu của DF\n",
    "df_bmi['BMI'] = df_bmi.apply(lambda row: bmi(row['Height_cm'],row['Weight_kg']), axis=1)\n",
    "df_bmi.head()"
   ]
  },
  {
   "cell_type": "code",
   "execution_count": null,
   "metadata": {},
   "outputs": [],
   "source": [
    "#Dựa vào chỉ số xác định mức béo phì\n",
    "#---\n",
    "def check_bmi(x):\n",
    "    if (x<18.5):\n",
    "        return 'UNDERWEIGHT'\n",
    "    elif (18.5 <= x <= 24.9):\n",
    "        return 'NORMAL'\n",
    "    elif (25.0 <= x <= 29.9):\n",
    "        return 'OVERWEIGHT'\n",
    "    elif (30.0 <= x <= 34.9):\n",
    "        return 'OBESE'\n",
    "    else:\n",
    "        return 'EXTREMELY OBESE'"
   ]
  },
  {
   "cell_type": "code",
   "execution_count": null,
   "metadata": {},
   "outputs": [],
   "source": [
    "df_bmi['Type'] = df_bmi['BMI'].apply(lambda x: check_bmi(x))\n",
    "df_bmi.head()"
   ]
  },
  {
   "cell_type": "code",
   "execution_count": null,
   "metadata": {},
   "outputs": [],
   "source": [
    "#Group dữ liệu theo Type\n",
    "df_bmi.groupby(['Type']).count()"
   ]
  },
  {
   "cell_type": "code",
   "execution_count": null,
   "metadata": {},
   "outputs": [],
   "source": [
    "#Group dữ liệu theo giới tính và loại\n",
    "df_bmi.groupby(['Gender','Type']).count()"
   ]
  },
  {
   "cell_type": "code",
   "execution_count": null,
   "metadata": {},
   "outputs": [],
   "source": [
    "#Lọc dữ liệu: Danh sách những người béo phì\n",
    "df_EX = df_bmi[df_bmi.Type=='EXTREMELY OBESE']\n",
    "df_EX"
   ]
  },
  {
   "cell_type": "code",
   "execution_count": null,
   "metadata": {},
   "outputs": [],
   "source": [
    "df_EX.to_csv('List_EX.csv')"
   ]
  },
  {
   "cell_type": "code",
   "execution_count": null,
   "metadata": {},
   "outputs": [],
   "source": [
    "#Lọc dữ liệu: Danh sách những người béo phì\n",
    "df_bmi[(df_bmi.Gender =='Male') & (df_bmi.Type=='EXTREMELY OBESE')]"
   ]
  },
  {
   "cell_type": "markdown",
   "metadata": {},
   "source": [
    "## 6. Trộn dữ liệu giữa các DataFrame (merge)\n",
    "---\n",
    "* pd.merge(left_df,right_df, on=‘key’, how=‘left’ | ‘right’ | ‘inner’ | ‘outer’): Thực hiện trộn 2 DataFrame lại với nhau.\n",
    "    * Left_df: DataFrame 1\n",
    "    * Right_df: DataFrame2\n",
    "    * On: Tên cột dùng để nối dữ liệu giữa 2 DataFrame  (tên cột phải có ở trong cả 2 DataFrame 1, 2)\n",
    "    * How: Cách thức trộn dữ liệu [left, right, outer, inner (default)]\n",
    "\n",
    "<img src='Pic/merge.png' width=500px>"
   ]
  },
  {
   "cell_type": "markdown",
   "metadata": {},
   "source": [
    "### A) Ví dụ về việc trộn các dataset trong Pandas"
   ]
  },
  {
   "cell_type": "code",
   "execution_count": null,
   "metadata": {},
   "outputs": [],
   "source": [
    "import pandas as pd\n",
    "import numpy as np\n",
    "\n",
    "class display(object):\n",
    "    \"\"\"Display HTML representation of multiple objects\"\"\"\n",
    "    template = \"\"\"<div style=\"float: left; padding: 10px;\">\n",
    "    <p style='font-family:\"Courier New\", Courier, monospace'>{0}</p>{1}\n",
    "    </div>\"\"\"\n",
    "    def __init__(self, *args):\n",
    "        self.args = args\n",
    "        \n",
    "    def _repr_html_(self):\n",
    "        return '\\n'.join(self.template.format(a, eval(a)._repr_html_())\n",
    "                         for a in self.args)\n",
    "    \n",
    "    def __repr__(self):\n",
    "        return '\\n\\n'.join(a + '\\n' + repr(eval(a))\n",
    "                           for a in self.args)"
   ]
  },
  {
   "cell_type": "code",
   "execution_count": null,
   "metadata": {},
   "outputs": [],
   "source": [
    "#File state-population.csv lưu trữ dân số của các bang của Mỹ [1990-2013]\n",
    "#Bao gồm tổng số dân | số dân dưới 18 tuổi\n",
    "pop = pd.read_csv('Data_Excercise/state-population.csv')\n",
    "pop.info()"
   ]
  },
  {
   "cell_type": "code",
   "execution_count": null,
   "metadata": {},
   "outputs": [],
   "source": [
    "#File state-areas.csv lưu trữ diện tích của các bang [dặm vuông]\n",
    "areas = pd.read_csv('Data_Excercise/state-areas.csv')\n",
    "areas.info()"
   ]
  },
  {
   "cell_type": "code",
   "execution_count": null,
   "metadata": {},
   "outputs": [],
   "source": [
    "#File stae-abbrevs.csv lưu trữ tên và ký hiệu của các bang\n",
    "abbrevs = pd.read_csv('Data_Excercise/state-abbrevs.csv')\n",
    "abbrevs.info()"
   ]
  },
  {
   "cell_type": "markdown",
   "metadata": {},
   "source": [
    "### Yêu cầu bài toán:\n",
    "---\n",
    "**Thực hiện xếp hạng các tiểu bang và vùng lãnh thổ của Hoa kỳ theo mật độ dân số năm 2010**\n",
    "\n",
    "Để thực hiện yêu cầu này bắt buộc phải kết hợp các dữ liệu từ 3 file lại với nhau"
   ]
  },
  {
   "cell_type": "code",
   "execution_count": null,
   "metadata": {},
   "outputs": [],
   "source": [
    "display('pop.head()', 'areas.head()', 'abbrevs.head()')"
   ]
  },
  {
   "cell_type": "code",
   "execution_count": null,
   "metadata": {},
   "outputs": [],
   "source": [
    "#Bước 1: kết hợp dữ liệu file state-population với state-abbrevs \n",
    "#để lấy được tên đầy đủ của các bang \n",
    "merged = pd.merge(pop, abbrevs, \n",
    "                  how='outer',\n",
    "                  left_on='state/region', \n",
    "                  right_on='abbreviation')\n",
    "\n",
    "merged.head()"
   ]
  },
  {
   "cell_type": "code",
   "execution_count": null,
   "metadata": {},
   "outputs": [],
   "source": [
    "#Xóa cột abbreviation vì trùng lặp với state/region\n",
    "merged = merged.drop('abbreviation', 1)\n",
    "merged.head()"
   ]
  },
  {
   "cell_type": "code",
   "execution_count": null,
   "metadata": {},
   "outputs": [],
   "source": [
    "#Bước 2: Kết hợp dữ liệu merged với dữ liệu state-areas.csv\n",
    "#Việc kết hợp dựa vào cột state\n",
    "display('merged.head()','areas.head()')"
   ]
  },
  {
   "cell_type": "code",
   "execution_count": null,
   "metadata": {},
   "outputs": [],
   "source": [
    "#Kết hợp hai DataFrame dựa vào cột state\n",
    "final = pd.merge(merged, areas, on='state', how='left')\n",
    "final.head()"
   ]
  },
  {
   "cell_type": "code",
   "execution_count": null,
   "metadata": {},
   "outputs": [],
   "source": [
    "final.info()"
   ]
  },
  {
   "cell_type": "code",
   "execution_count": null,
   "metadata": {},
   "outputs": [],
   "source": [
    "#Đến đây chúng ta đã có tất cả dữ liệu chúng ta cần cho bài toán, \n",
    "#Các dữ liệu liên quan từ 3 file khác nhau đã được kết hợp lại."
   ]
  },
  {
   "cell_type": "code",
   "execution_count": null,
   "metadata": {},
   "outputs": [],
   "source": [
    "final.head()"
   ]
  },
  {
   "cell_type": "code",
   "execution_count": null,
   "metadata": {},
   "outputs": [],
   "source": [
    "#Bước 3: Truy vấn dữ liệu cần cho yêu cầu\n",
    "#-------------------------------\n",
    "#Yêu cầu: Tỷ lệ dân số năm 2010 --> Dữ liệu năm 2010 | Tổng số dân\n",
    "data2010 = final.query(\"year==2010 & ages=='total'\")\n",
    "data2010.info()"
   ]
  },
  {
   "cell_type": "code",
   "execution_count": null,
   "metadata": {},
   "outputs": [],
   "source": [
    "data2010"
   ]
  },
  {
   "cell_type": "code",
   "execution_count": null,
   "metadata": {},
   "outputs": [],
   "source": [
    "# chỉ lấy dữ liệu của các cột [state, population, area (sq. mi)]\n",
    "data_ok = data2010[['state','population','area (sq. mi)']]\n",
    "#Thiết lập cột state làm index\n",
    "#data_ok.set_index('state', inplace=True)\n",
    "data_ok.head()"
   ]
  },
  {
   "cell_type": "code",
   "execution_count": null,
   "metadata": {},
   "outputs": [],
   "source": [
    "data_ok['density'] = data_ok['population'] / data_ok['area (sq. mi)']\n",
    "data_ok.head()"
   ]
  },
  {
   "cell_type": "code",
   "execution_count": null,
   "metadata": {},
   "outputs": [],
   "source": [
    "#Sắp xếp lại dữ liệu theo chiều giảm dần của density\n",
    "data_ok.sort_values(by=['density'],ascending=False,inplace=True)\n",
    "data_ok"
   ]
  },
  {
   "cell_type": "code",
   "execution_count": null,
   "metadata": {},
   "outputs": [],
   "source": [
    "plt.figure(figsize=(16,3))\n",
    "data_ok.loc[:,'density'].plot(kind='bar')\n",
    "plt.grid(True)"
   ]
  },
  {
   "cell_type": "code",
   "execution_count": null,
   "metadata": {},
   "outputs": [],
   "source": [
    "data_ok.to_csv('Density_USA_2010.csv')"
   ]
  },
  {
   "cell_type": "markdown",
   "metadata": {},
   "source": [
    "### Trộn dữ liệu giữa các DataFrame (merge)\n",
    "---"
   ]
  },
  {
   "cell_type": "code",
   "execution_count": null,
   "metadata": {},
   "outputs": [],
   "source": [
    "#Tạo dữ liệu mẫu\n",
    "#DataFrame1:\n",
    "d1 = {'Customer_id':pd.Series([1,2,3,4,5,6]),\n",
    "      'Product':pd.Series(['Oven','Oven','Oven','Television','Television','Television'])}\n",
    "df1 = pd.DataFrame(d1)\n",
    "\n",
    "#DataFrame2:\n",
    "d2 = {'Customer_id':pd.Series([2,4,6,7,8]),\n",
    "    'State':pd.Series(['California','California','Texas','New York','Indiana'])}\n",
    "df2 = pd.DataFrame(d2)\n",
    "\n",
    "display('df1.head(10)','df2.head(10)')"
   ]
  },
  {
   "cell_type": "code",
   "execution_count": null,
   "metadata": {},
   "outputs": [],
   "source": [
    "#Trường hợp 1:\n",
    "#Inner join DataFrame\n",
    "inner_join_df= pd.merge(df1, df2, \n",
    "                        on='Customer_id', \n",
    "                        how='inner')\n",
    "inner_join_df"
   ]
  },
  {
   "cell_type": "code",
   "execution_count": null,
   "metadata": {},
   "outputs": [],
   "source": [
    "#Trường hợp 2:\n",
    "#Outer join DataFrame\n",
    "inner_join_df= pd.merge(df1, df2, \n",
    "                        on='Customer_id', \n",
    "                        how='outer')\n",
    "inner_join_df"
   ]
  },
  {
   "cell_type": "code",
   "execution_count": null,
   "metadata": {},
   "outputs": [],
   "source": [
    "#Trường hợp 3:\n",
    "#Left join DataFrame\n",
    "inner_join_df= pd.merge(df1, df2, \n",
    "                        on='Customer_id', \n",
    "                        how='left')\n",
    "inner_join_df"
   ]
  },
  {
   "cell_type": "code",
   "execution_count": null,
   "metadata": {},
   "outputs": [],
   "source": [
    "#Trường hợp 4:\n",
    "#Right join DataFrame\n",
    "inner_join_df= pd.merge(df1, df2, \n",
    "                        on='Customer_id', \n",
    "                        how='right')\n",
    "inner_join_df"
   ]
  },
  {
   "cell_type": "markdown",
   "metadata": {},
   "source": [
    "### 7) Nối  các DataFrame\n",
    "---"
   ]
  },
  {
   "cell_type": "markdown",
   "metadata": {},
   "source": [
    "### a) Kết nối các dataframe theo cột [concat(axis=1)]\n",
    "---"
   ]
  },
  {
   "cell_type": "code",
   "execution_count": null,
   "metadata": {},
   "outputs": [],
   "source": [
    "#Tạo dữ liệu mẫu\n",
    "d = {'Name':['Alisa','Bobby','Cathrine','Madonna','Rocky','Sebastian','Jaqluine','Rahul','David'],\n",
    "    'Score1':[62,47,55,74,31,77,85,63,42],\n",
    "    'Score2':[89,87,67,55,47,72,76,79,44]}\n",
    "df1 = pd.DataFrame(d)\n",
    "df1\n"
   ]
  },
  {
   "cell_type": "code",
   "execution_count": null,
   "metadata": {},
   "outputs": [],
   "source": [
    "d = {'Name':['Alisa','Bobby','Cathrine','Madonna','Rocky','Sebastian','Jaqluine'],\n",
    "    'Score3':[56,86,77,45,73,62,74]}\n",
    "df2 = pd.DataFrame(d)\n",
    "df2\n"
   ]
  },
  {
   "cell_type": "code",
   "execution_count": null,
   "metadata": {},
   "outputs": [],
   "source": [
    "#Trường hợp 1:\n",
    "#Mặc định join='outer'\n",
    "df_concat1 = pd.concat([df1, df2], axis=1)\n",
    "df_concat1"
   ]
  },
  {
   "cell_type": "code",
   "execution_count": null,
   "metadata": {},
   "outputs": [],
   "source": [
    "#Trường hợp 2:\n",
    "#Tham số join='inner'\n",
    "df_concat2 = pd.concat([df1, df2], \n",
    "                       axis=1, \n",
    "                       join='inner')\n",
    "df_concat2"
   ]
  },
  {
   "cell_type": "code",
   "execution_count": null,
   "metadata": {},
   "outputs": [],
   "source": [
    "#Trường hợp 3:\n",
    "#Tham số ignore_index=True\n",
    "#(Không sử dụng tên cột, đánh lại nhãn 0, 1...)\n",
    "df_concat3 = pd.concat([df1, df2], \n",
    "                       axis=1, \n",
    "                       join='inner',\n",
    "                       ignore_index=True)\n",
    "df_concat3"
   ]
  },
  {
   "cell_type": "markdown",
   "metadata": {},
   "source": [
    "### b) Nối các Dataframe theo hàng\n",
    "---\n",
    "concat() | append()"
   ]
  },
  {
   "cell_type": "code",
   "execution_count": null,
   "metadata": {},
   "outputs": [],
   "source": [
    "#Tạo dữ liệu mẫu:\n",
    "d1 = {'Name':['Alisa','Bobby','Cathrine','Madonna','Rocky'],\n",
    "   'Score1':[62,47,55,74,31],\n",
    "   'Score2':[89,87,67,55,47],\n",
    "   'Score3':[56,86,77,45,73]}\n",
    "df1 = pd.DataFrame(d1)\n",
    "\n",
    "d2 = {'Name':['Andrew','Ajay','Teresa'],\n",
    "     'Score1':[32,71,57],\n",
    "     'Score2':[92,99,69],\n",
    "     'Score3':[67,97,68]}\n",
    "df2 = pd.DataFrame(d2)\n",
    "\n",
    "display('df1.head()','df2.head()')"
   ]
  },
  {
   "cell_type": "code",
   "execution_count": null,
   "metadata": {},
   "outputs": [],
   "source": [
    "#Trường hợp 1: sử dụng concat\n",
    "df_row = pd.concat([df1,df2],ignore_index=True)\n",
    "df_row"
   ]
  },
  {
   "cell_type": "code",
   "execution_count": null,
   "metadata": {},
   "outputs": [],
   "source": [
    "#Trường hợp 1: Sử dụng append()\n",
    "df_row2 = df1.append(df2)\n",
    "df_row2"
   ]
  },
  {
   "cell_type": "code",
   "execution_count": null,
   "metadata": {},
   "outputs": [],
   "source": [
    "#Trường hợp các cột khác tên nối vào nhau\n",
    "d = {'Name':['Jack','danny','vishwa'],\n",
    "   'Score1':[32,71,70],\n",
    "   'Score4':[72,91,89],\n",
    "   'Score5':[57,72,78]}\n",
    "df3 = pd.DataFrame(d)\n",
    "display('df1.head()','df3.head()')\n"
   ]
  },
  {
   "cell_type": "code",
   "execution_count": null,
   "metadata": {},
   "outputs": [],
   "source": [
    "#Trường hợp các cột khác tên\n",
    "pd.concat([df1,df3])"
   ]
  },
  {
   "cell_type": "code",
   "execution_count": null,
   "metadata": {},
   "outputs": [],
   "source": [
    "#sử dụng tham số join='inner'\n",
    "pd.concat([df1,df3], join ='inner')"
   ]
  },
  {
   "cell_type": "code",
   "execution_count": null,
   "metadata": {},
   "outputs": [],
   "source": [
    "#Trường hợp 2\n",
    "pd.concat([df1,df3], keys=['df1','df3'])"
   ]
  },
  {
   "cell_type": "markdown",
   "metadata": {},
   "source": [
    "## THỰC HÀNH 2\n",
    "---\n",
    "**Yêu cầu 2.1:**\n",
    "Đọc dữ liệu từ file Data_Point.xlsx vào biến kiểu dataframe: \n",
    "    * df_lop1 dữ liệu điểm sheet 0 (4080130_01)\n",
    "    * df_lop2 dữ liệu điểm sheet 1 (4080130_02)\n",
    "    * df_lop3 dữ liệu điểm sheet 2 (4080130_03)\n",
    "\n",
    "*THAM KHẢO LẠI BÀI HỌC SỐ 06 ĐỂ ĐỌC DỮ LIỆU TỪ FILE EXCEL*\n"
   ]
  },
  {
   "cell_type": "code",
   "execution_count": null,
   "metadata": {},
   "outputs": [],
   "source": [
    "#{HỌC VIÊN VIẾT CODE VÀO ĐÂY}\n",
    "\n",
    "\n",
    "\n",
    "\n"
   ]
  },
  {
   "cell_type": "code",
   "execution_count": null,
   "metadata": {},
   "outputs": [],
   "source": []
  },
  {
   "cell_type": "markdown",
   "metadata": {},
   "source": [
    "### **Yêu cầu 2.2:**\n",
    "---\n",
    "Nối 3 DataFrame df_lop1, df_lop2, df_lop3 thành một DataFrame df_full chứa tất cả danh sách bảng điểm của 3 lớp "
   ]
  },
  {
   "cell_type": "code",
   "execution_count": null,
   "metadata": {},
   "outputs": [],
   "source": [
    "#{HỌC VIÊN VIẾT CODE VÀO ĐÂY}\n",
    "\n",
    "\n",
    "\n",
    "\n"
   ]
  },
  {
   "cell_type": "code",
   "execution_count": null,
   "metadata": {},
   "outputs": [],
   "source": []
  },
  {
   "cell_type": "markdown",
   "metadata": {},
   "source": [
    "### **Yêu cầu 2.3:**\n",
    "---\n",
    "Trong df_full: Tạo một cột Diem_he10 được tính dựa vào các cột tương ứng của từng hàng dữ liệu, theo công thức sau:\n",
    "\n",
    "**Diem_he10 = 0.6 * A + 0.3 * ((B1+B2)/2) + 0.1 * ((C1+C2)/2)**\n",
    "    \n",
    "Làm tròn đến 1 số sau dấu phẩy"
   ]
  },
  {
   "cell_type": "code",
   "execution_count": null,
   "metadata": {},
   "outputs": [],
   "source": [
    "#{HỌC VIÊN VIẾT CODE VÀO ĐÂY}\n",
    "\n",
    "\n",
    "\n",
    "\n"
   ]
  },
  {
   "cell_type": "code",
   "execution_count": null,
   "metadata": {},
   "outputs": [],
   "source": []
  },
  {
   "cell_type": "markdown",
   "metadata": {},
   "source": [
    "### **Yêu cầu 2.4:**\n",
    "---\n",
    "Từ cột Diem_he10 trong df_full tạo một cột Diem_chu, Diem_so theo quy đổi:\n",
    "\n",
    "    * Điểm hệ 10 Từ 9.0 đến 10.0  ----> Điểm chữ: A+  ----> Điểm số: 4.0\n",
    "    * Điểm hệ 10 Từ 8.5 đến 8.9  ----> Điểm chữ: A    ----> Điểm số: 3.7\n",
    "    * Điểm hệ 10 Từ 8.0 đến 8.4  ----> Điểm chữ: B+   ----> Điểm số: 3.5   \n",
    "    * Điểm hệ 10 Từ 7.0 đến 7.9  ----> Điểm chữ: B    ----> Điểm số: 3.0\n",
    "    * Điểm hệ 10 Từ 6.5 đến 6.9  ----> Điểm chữ: C+   ----> Điểm số: 2.5  \n",
    "    * Điểm hệ 10 Từ 5.5 đến 6.4  ----> Điểm chữ: C    ----> Điểm số: 2.0     \n",
    "    * Điểm hệ 10 Từ 5.0 đến 5.4  ----> Điểm chữ: D+   ----> Điểm số: 1.5 \n",
    "    * Điểm hệ 10 Từ 4.0 đến 4.9  ----> Điểm chữ: D    ----> Điểm số: 1.0  \n",
    "    * Điểm hệ 10 Từ 0.0 đến 3.9  ----> Điểm chữ: F    ----> Điểm số: 0.0 \n"
   ]
  },
  {
   "cell_type": "code",
   "execution_count": null,
   "metadata": {},
   "outputs": [],
   "source": [
    "#{HỌC VIÊN VIẾT CODE VÀO ĐÂY}\n",
    "\n",
    "\n",
    "\n",
    "\n"
   ]
  },
  {
   "cell_type": "code",
   "execution_count": null,
   "metadata": {},
   "outputs": [],
   "source": []
  },
  {
   "cell_type": "markdown",
   "metadata": {},
   "source": [
    "### **Yêu cầu 2.5:**\n",
    "---\n",
    "Tạo một DataFrame df_diem_ok chỉ lấy dữ liệu các cột [‘Code’, ‘Diem_he10’, ‘Diem_chu’, ‘Diem_so’] từ df_full"
   ]
  },
  {
   "cell_type": "code",
   "execution_count": null,
   "metadata": {},
   "outputs": [],
   "source": [
    "#{HỌC VIÊN VIẾT CODE VÀO ĐÂY}\n",
    "\n",
    "\n",
    "\n",
    "\n"
   ]
  },
  {
   "cell_type": "code",
   "execution_count": null,
   "metadata": {},
   "outputs": [],
   "source": []
  },
  {
   "cell_type": "markdown",
   "metadata": {},
   "source": [
    "###  **Yêu cầu 2.6:**\n",
    "---\n",
    "1. Đọc dữ liệu trong sheet: code của file excel Data_point vào DataFrame df_code.\n",
    "2. Trộn (merge) dữ liệu của df_code và df_diem_ok để ghép phách cho bảng điểm và lưu và df_finaly.\n",
    "3. Lưu dữ liệu trong DataFrame df_finaly ra file excel: Diem_4080130.xlsx"
   ]
  },
  {
   "cell_type": "code",
   "execution_count": null,
   "metadata": {},
   "outputs": [],
   "source": [
    "#{HỌC VIÊN VIẾT CODE VÀO ĐÂY}\n",
    "\n",
    "\n",
    "\n",
    "\n"
   ]
  },
  {
   "cell_type": "code",
   "execution_count": null,
   "metadata": {},
   "outputs": [],
   "source": []
  },
  {
   "cell_type": "markdown",
   "metadata": {},
   "source": [
    "## 8. Phát hiện và xử lý dữ liệu khuyết thiếu\n",
    "---\n",
    "* Vì nhiều lý do, dữ liệu có thể bị lỗi hoặc bị thiếu ở một số vị trí của một số feature.\n",
    "\n",
    "* Hầu hết các thuật toán học máy không xử lý với dữ liệu bị thiếu, do đó cần phải được xử lý ở bước tiền xử lý dữ liệu.\n"
   ]
  },
  {
   "cell_type": "markdown",
   "metadata": {},
   "source": [
    "### 8.1 Phát hiện dữ liệu missing"
   ]
  },
  {
   "cell_type": "code",
   "execution_count": null,
   "metadata": {},
   "outputs": [],
   "source": [
    "#Đọc file dữ liệu chứa missing\n",
    "#Khai báo sử dụng thư viện Pandas\n",
    "import pandas as pd\n",
    "#Xác định đường dẫn tới file dữ liệu missing\n",
    "path ='Data_Excercise/Data_Temp_missing.csv'\n",
    "#Đọc file dữ liệu csv với pandas\n",
    "data_temp = pd.read_csv(path)\n",
    "data_temp.info()"
   ]
  },
  {
   "cell_type": "code",
   "execution_count": null,
   "metadata": {},
   "outputs": [],
   "source": [
    "data_temp.head()"
   ]
  },
  {
   "cell_type": "code",
   "execution_count": null,
   "metadata": {},
   "outputs": [],
   "source": [
    "#Thống kê số liệu missing trong Data frame\n",
    "#Theo từng cột\n",
    "print('Số lượng missing data trong file dữ liệu:')\n",
    "print(data_temp.isnull().sum())"
   ]
  },
  {
   "cell_type": "code",
   "execution_count": null,
   "metadata": {},
   "outputs": [],
   "source": [
    "#Xây dựng hàm thống kê dữ liệu missing trong dataframe:\n",
    "#-----------------------------------------------------\n",
    "#Đầu vào của hàm là 1 biến Dataframe\n",
    "#Đầu ra bao gồm các thông số:\n",
    "#Tổng số cột của file dữ liệu\n",
    "#Tổng số cột có chứa dữ liệu missing\n",
    "#Danh sách các cột chứa dữ liệu missing với 2 thống số:\n",
    "#Tổng số giá trị missing tương ứng với cột đó\n",
    "#Tỷ lệ % dữ liệu missing trên tổng số dữ liệu của cột\n",
    "def missing_values(df):\n",
    "        mis_val = df.isnull().sum()\n",
    "        mis_val_percent = 100 * df.isnull().sum() / len(df)\n",
    "        mis_val_table = pd.concat([mis_val, mis_val_percent], axis=1)\n",
    "        mis_val_table_ren_columns = mis_val_table.rename(\n",
    "        columns = {0 : 'Số giá trị Missing', 1 : 'Tỷ lệ % missing'})\n",
    "        mis_val_table_ren_columns = mis_val_table_ren_columns[\n",
    "            mis_val_table_ren_columns.iloc[:,1] != 0].sort_values(\n",
    "        'Tỷ lệ % missing', ascending=False).round(1)\n",
    "        print (\"File dữ liệu bao gồm có: \" + str(df.shape[1]) + \" cột.\\n\"      \n",
    "            \"Có \" + str(mis_val_table_ren_columns.shape[0]) +\n",
    "              \" cột chứa missing values.\")\n",
    "        return mis_val_table_ren_columns\n",
    "\n",
    "#Check dữ liệu missing trong DataFrame: data_temp\n",
    "missing_values(data_temp)"
   ]
  },
  {
   "cell_type": "code",
   "execution_count": null,
   "metadata": {},
   "outputs": [],
   "source": [
    "#Trực quan hóa dữ liệu\n",
    "import matplotlib.pyplot as plt\n",
    "import numpy as np\n",
    "x = np.arange(0,24)\n",
    "plt.rcParams[\"figure.figsize\"] = (12,5)\n",
    "data_temp.iloc[:,1:5].plot(style='-o')\n",
    "plt.xticks(x)\n",
    "plt.xlabel('Thời gian (h)')\n",
    "plt.ylabel('Nhiệt độ (oC)')\n",
    "plt.grid(True)\n",
    "plt.show()"
   ]
  },
  {
   "cell_type": "code",
   "execution_count": null,
   "metadata": {},
   "outputs": [],
   "source": [
    "#Liệt kê các dòng dữ liệu missing \n",
    "#1. Liệt kê các dòng missing của tất cả các features:\n",
    "data_temp[data_temp.isnull().any(axis=1)]"
   ]
  },
  {
   "cell_type": "code",
   "execution_count": null,
   "metadata": {},
   "outputs": [],
   "source": [
    "#Liệt kê các dòng dữ liệu missing \n",
    "#2. Liệt kê theo từng features:\n",
    "data_temp[pd.isnull(data_temp['Ha Noi'])]"
   ]
  },
  {
   "cell_type": "code",
   "execution_count": null,
   "metadata": {},
   "outputs": [],
   "source": [
    "data_temp[pd.isnull(data_temp['Nha Trang'])]"
   ]
  },
  {
   "cell_type": "code",
   "execution_count": null,
   "metadata": {},
   "outputs": [],
   "source": []
  },
  {
   "cell_type": "markdown",
   "metadata": {},
   "source": [
    "### 8.2) Xử lý dữ liệu Missing\n",
    "---\n",
    "Có 2 nhóm phương pháp được sử dụng để xử lý dữ liệu missing\n",
    "* Loại bỏ các dữ liệu missing (Row, Column)\n",
    "* Thay thế dữ liệu missing bằng giá trị khác\n",
    "<img src='pic/handling_missing.jpg' width='500px'>"
   ]
  },
  {
   "cell_type": "code",
   "execution_count": null,
   "metadata": {},
   "outputs": [],
   "source": [
    "data_temp"
   ]
  },
  {
   "cell_type": "code",
   "execution_count": null,
   "metadata": {},
   "outputs": [],
   "source": [
    "#1) Phương pháp 1:Loại bỏ các dữ liệu missing (Deletion)\n",
    "\n",
    "#Xóa toàn bộ các hàng chứa missing data: axis=0 -> xóa hàng | how = any (all) chỉ cần hàng có feature chứa missing\n",
    "data_new = data_temp.dropna(axis=0,how='any')\n",
    "#Kết quả sau khi loại bỏ các row chứa missing\n",
    "print(data_new)"
   ]
  },
  {
   "cell_type": "code",
   "execution_count": null,
   "metadata": {},
   "outputs": [],
   "source": [
    "#1) Phương pháp 1:Loại bỏ các dữ liệu missing (Deletion)\n",
    "\n",
    "#Xóa toàn bộ các cột chứa missing data: axis=1 -> xóa cột\n",
    "data_new = data_temp.dropna(axis=1,how='any')\n",
    "#Kết quả sau khi loại bỏ các cột chứa missing\n",
    "print(data_new)"
   ]
  },
  {
   "cell_type": "code",
   "execution_count": null,
   "metadata": {},
   "outputs": [],
   "source": [
    "#PHƯƠNG PHÁP 2: Thay thế (Imputation)\n",
    "#2.1) Thay thế các dữ liệu mất mát bằng một hằng số cố định\n",
    "value = 25.0\n",
    "#thay thế các giá trị missing bằng một giá trị cố định Value\n",
    "data_new = data_temp.fillna(value)\n",
    "print(data_new)"
   ]
  },
  {
   "cell_type": "code",
   "execution_count": null,
   "metadata": {},
   "outputs": [],
   "source": [
    "#Sử dụng giá trị trung bình, trung vị để thay thế\n",
    "data_temp.mean()"
   ]
  },
  {
   "cell_type": "code",
   "execution_count": null,
   "metadata": {},
   "outputs": [],
   "source": [
    "#PHƯƠNG PHÁP 2: Thay thế (Imputation)\n",
    "#2.2)Thay thế các dữ liệu mất mát bằng giá trị liền trước của nó\n",
    "data_new2 = data_temp.fillna(method='pad')\n",
    "print(data_new2)"
   ]
  },
  {
   "cell_type": "code",
   "execution_count": null,
   "metadata": {},
   "outputs": [],
   "source": [
    "#PHƯƠNG PHÁP 2: Thay thế (Imputation)\n",
    "#2.3)Thay thế các dữ liệu mất mát bằng giá trị liền sau của nó\n",
    "data_new3 = data_temp.fillna(method='bfill')\n",
    "print(data_new3)"
   ]
  },
  {
   "cell_type": "code",
   "execution_count": null,
   "metadata": {},
   "outputs": [],
   "source": [
    "#PHƯƠNG PHÁP 2: Thay thế (Imputation)\n",
    "#2.4)Thay thế bằng giá trị trung bình\n",
    "#Sử dụng hàm interpolate để thay thế giá trị missing với tham số:\n",
    "#Thuật toán nội suy: Tuyến tính (linear)\n",
    "#Hướng nội suy: Tiến lên (forward)\n",
    "data_new4 = data_temp.interpolate(method='linear', limit_direction ='forward')\n",
    "print(data_new4)"
   ]
  },
  {
   "cell_type": "markdown",
   "metadata": {},
   "source": [
    "## 9. Phát hiện và xử lý ngoại lai (Outliers)\n",
    "---\n",
    "Một điểm ngoại lai là một điểm dữ liệu khác biệt đáng kể so với phần còn lại của tập dữ liệu. Ta thường xem các giá trị ngoại lai như là các mẫu dữ liệu đặc biệt, cách xa khỏi phần lớn dữ liệu khác trong tập dữ liệu\n",
    "\n",
    "* Hệ thống phát hiện xâm nhập (Intrusion detection systems)\n",
    "* Phát hiện gian lận tín dụng (Credit card fraud)\n",
    "* Trong chuẩn đoán y tế (Medical diagnosis)\n",
    "* Trong thực thi pháp luật (Law enforcement)\n",
    "* Trong khoa học trái đất (Earth science)\n",
    "\n",
    "<img src='pic/outliers.jpg'>\n",
    "\n"
   ]
  },
  {
   "cell_type": "markdown",
   "metadata": {},
   "source": [
    "### a Phát hiện ngoại lai sử dụng biểu đồ\n",
    "---\n",
    "<img src='pic/handling_outlier.jpg'>\n",
    "\n",
    "\n",
    "**1. Sử dụng biểu đồ Boxplot:**\n",
    "\n",
    "Biểu đồ Box-plot được sử dụng để đo khuynh hướng phân tán và xác định các giá trị ngoại lai của tập dữ liệu\n",
    "* Giá trị bé nhất (Minimum) của tập dữ liệu được xác định bằng Q1 – 1.5 * IQR; \n",
    "* Tứ phân vị thứ nhất (Q1) của tập dữ liệu\n",
    "* Tứ phân vị thứ hai (Q2) chính là giá trị trung vị (Median) của tập dữ liệu\n",
    "* Tứ phân vị thứ ba (Q3) của tập dữ liệu\n",
    "* Giá trị lớn nhất (Maximum) của tập dữ liệu có giá trị bằng Q3 + 1.5* IQR"
   ]
  },
  {
   "cell_type": "code",
   "execution_count": null,
   "metadata": {},
   "outputs": [],
   "source": [
    "#Đọc dữ liệu file\n",
    "path_outlier = 'Data_Excercise/Data_Temp_Outlier.csv'\n",
    "data_outlier = pd.read_csv(path_outlier)\n",
    "data_outlier.info()"
   ]
  },
  {
   "cell_type": "code",
   "execution_count": null,
   "metadata": {},
   "outputs": [],
   "source": [
    "#Sử dụng biểu đồ Boxplot phát hiện ngoại lai\n",
    "data_outlier.boxplot()"
   ]
  },
  {
   "cell_type": "code",
   "execution_count": null,
   "metadata": {},
   "outputs": [],
   "source": [
    "data_outlier[['Nha Trang']].boxplot()"
   ]
  },
  {
   "cell_type": "code",
   "execution_count": null,
   "metadata": {},
   "outputs": [],
   "source": [
    "data_outlier[['Nha Trang']].plot(style='-*', color='red')\n",
    "plt.grid(True)"
   ]
  },
  {
   "cell_type": "code",
   "execution_count": null,
   "metadata": {},
   "outputs": [],
   "source": [
    "data_outlier.loc[:10,['Nha Trang']]"
   ]
  },
  {
   "cell_type": "code",
   "execution_count": null,
   "metadata": {},
   "outputs": [],
   "source": [
    "data_outlier[['Ho Chi Minh']].boxplot()"
   ]
  },
  {
   "cell_type": "code",
   "execution_count": null,
   "metadata": {},
   "outputs": [],
   "source": [
    "data_outlier[['Ho Chi Minh']].plot(style='--o')\n",
    "plt.grid(True)"
   ]
  },
  {
   "cell_type": "code",
   "execution_count": null,
   "metadata": {},
   "outputs": [],
   "source": [
    "data_outlier.loc[10:15,['Ho Chi Minh']]"
   ]
  },
  {
   "cell_type": "code",
   "execution_count": null,
   "metadata": {},
   "outputs": [],
   "source": [
    "#Sử dụng biểu đồ histogram phát hiện ngoại lai cực trị\n",
    "#data_outlier[['Nha Trang']].plot.hist(bins=20)\n",
    "data_outlier.plot.hist(bins=20)\n",
    "plt.grid(True)"
   ]
  },
  {
   "cell_type": "markdown",
   "metadata": {},
   "source": [
    "### b) Xử lý outliers\n",
    "---\n",
    " Không có một phương pháp, cách thức xử lý ngoại lai chung nào áp dụng cho tất cả các bài toán, các kiểu dữ liệu khác nhau.Để lựa chọn được phương pháp phù hợp cần có những hiểu biết sâu sắc về tập dữ liệu, về bài toán đang giải quyết, có thể sử dụng chỉ một phương pháp xử lý ngoại lai và/hoặc kết hợp cả 3 nhóm phương pháp đã chỉ ra ở trên để xử lý ngoại lai cho cùng một tập dữ liệu."
   ]
  },
  {
   "cell_type": "code",
   "execution_count": null,
   "metadata": {},
   "outputs": [],
   "source": [
    "#Tạo một bản sao dữ liệu\n",
    "data_handling_outlier =data_outlier.copy()"
   ]
  },
  {
   "cell_type": "code",
   "execution_count": null,
   "metadata": {},
   "outputs": [],
   "source": [
    "data_handling_outlier"
   ]
  },
  {
   "cell_type": "code",
   "execution_count": null,
   "metadata": {},
   "outputs": [],
   "source": [
    "#Với giá trị ngoại lai trạm Nha trang\n",
    "#Xử lý bằng cách thay thế giá trị: 2.51 --> 25.1\n",
    "x = np.arange(0,24)\n",
    "plt.rcParams[\"figure.figsize\"] = (10,3)\n",
    "data_handling_outlier.loc[6,'Nha Trang'] = 25.10\n",
    "data_handling_outlier[['Nha Trang']].plot(style='-*', color='red')\n",
    "plt.xticks(x)\n",
    "plt.xlabel('Thời gian (h)')\n",
    "plt.ylabel('Nhiệt độ (oC)')\n",
    "plt.grid(True)\n",
    "plt.show()"
   ]
  },
  {
   "cell_type": "code",
   "execution_count": null,
   "metadata": {},
   "outputs": [],
   "source": [
    "#Với giá trị ngoại lai trạm Hồ Chí Minh\n",
    "#Xử lý bằng cách chuyển về giá trị Null - Coi như giá trị missing\n",
    "data_handling_outlier.loc[13,'Ho Chi Minh'] = np.NaN\n",
    "data_handling_outlier[['Ho Chi Minh']].plot(style='-*', color='red')\n",
    "plt.xticks(x)\n",
    "plt.xlabel('Thời gian (h)')\n",
    "plt.ylabel('Nhiệt độ (oC)')\n",
    "plt.grid(True)\n",
    "plt.show()"
   ]
  },
  {
   "cell_type": "code",
   "execution_count": null,
   "metadata": {},
   "outputs": [],
   "source": []
  },
  {
   "cell_type": "markdown",
   "metadata": {},
   "source": [
    "### TRƯỜNG HỢP: Ngoại lai không phải là giá trị cực trị"
   ]
  },
  {
   "cell_type": "code",
   "execution_count": null,
   "metadata": {},
   "outputs": [],
   "source": [
    "#Check ngoại lai trạm Hà Nội\n",
    "data_outlier[['Ha Noi']].plot(style='--d', color='green')\n",
    "plt.xticks(x)\n",
    "plt.xlabel('Thời gian (h)')\n",
    "plt.ylabel('Nhiệt độ (oC)')\n",
    "plt.grid(True)\n",
    "plt.grid(True)\n",
    "print(data_outlier.loc[:10,['Ha Noi']])"
   ]
  },
  {
   "cell_type": "code",
   "execution_count": null,
   "metadata": {},
   "outputs": [],
   "source": [
    "data_outlier.loc[:10,['time','Ha Noi']]"
   ]
  },
  {
   "cell_type": "markdown",
   "metadata": {},
   "source": [
    "## THỰC HÀNH SỐ 3\n",
    "---\n",
    "* Đọc dữ liệu từ file Data_Patient.csv vào biến kiểu dataframe\n",
    "\n",
    "**Yêu cầu 3.1:** Cho biết các cột chứa giá trị khuyết thiếu, xác định các vị trí thiếu dữ liệu và đề xuất phương án xử lý giá trị thiếu.\n",
    "\n",
    "**Yêu cầu 3.2:** Phát hiện giá trị ngoại lai và xử lý trong dữ liệu (nếu có)\n"
   ]
  },
  {
   "cell_type": "code",
   "execution_count": null,
   "metadata": {},
   "outputs": [],
   "source": [
    "#{HỌC VIÊN VIẾT CODE XỬ LÝ Ở ĐÂY}\n",
    "\n",
    "\n",
    "\n"
   ]
  },
  {
   "cell_type": "code",
   "execution_count": null,
   "metadata": {},
   "outputs": [],
   "source": []
  },
  {
   "cell_type": "code",
   "execution_count": null,
   "metadata": {},
   "outputs": [],
   "source": []
  }
 ],
 "metadata": {
  "kernelspec": {
   "display_name": "Python 3",
   "language": "python",
   "name": "python3"
  },
  "language_info": {
   "codemirror_mode": {
    "name": "ipython",
    "version": 3
   },
   "file_extension": ".py",
   "mimetype": "text/x-python",
   "name": "python",
   "nbconvert_exporter": "python",
   "pygments_lexer": "ipython3",
   "version": "3.8.8"
  }
 },
 "nbformat": 4,
 "nbformat_minor": 2
}
