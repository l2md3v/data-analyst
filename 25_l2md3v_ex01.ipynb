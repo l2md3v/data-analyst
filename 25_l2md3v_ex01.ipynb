{
  "cells": [
    {
      "cell_type": "markdown",
      "metadata": {
        "colab_type": "text",
        "id": "view-in-github"
      },
      "source": [
        "<a href=\"https://colab.research.google.com/github/tiesen243/thong-ke-may-tinh-va-ung-dung/blob/main/tkud_lab01_ex.ipynb\" target=\"_parent\"><img src=\"https://colab.research.google.com/assets/colab-badge.svg\" alt=\"Open In Colab\"/></a>"
      ]
    },
    {
      "cell_type": "markdown",
      "metadata": {
        "id": "Cj3g7_Xjv0cQ"
      },
      "source": [
        "# Lab 01 - Bài tập"
      ]
    },
    {
      "cell_type": "code",
      "execution_count": 1,
      "metadata": {
        "id": "RFRdqVfM0AJ2"
      },
      "outputs": [],
      "source": [
        "import re"
      ]
    },
    {
      "cell_type": "markdown",
      "metadata": {
        "id": "uHya_O8Nv9Bg"
      },
      "source": [
        "## PYTHON\n",
        "\n",
        "1. Viết chương trình nhập vào số nguyên n (n>0). In ra các số nguyên tố từ 1..n\n"
      ]
    },
    {
      "cell_type": "code",
      "execution_count": 7,
      "metadata": {
        "id": "JbtXncpxuAMt"
      },
      "outputs": [],
      "source": [
        "def checkPrime(n: int):\n",
        "    if n <= 1:\n",
        "        return False\n",
        "    for i in range(2, int(n**0.5) + 1):\n",
        "        if n % i == 0:\n",
        "            return False\n",
        "    return True"
      ]
    },
    {
      "cell_type": "code",
      "execution_count": 80,
      "metadata": {
        "colab": {
          "base_uri": "https://localhost:8080/"
        },
        "id": "AnQZ06Hxxwlo",
        "outputId": "2be1984a-ba77-4afe-8821-f84f4e2a3e54"
      },
      "outputs": [
        {
          "name": "stdout",
          "output_type": "stream",
          "text": [
            "n = 50\n"
          ]
        },
        {
          "data": {
            "text/plain": [
              "[2, 3, 5, 7, 11, 13, 17, 19, 23, 29, 31, 37, 41, 43, 47]"
            ]
          },
          "execution_count": 80,
          "metadata": {},
          "output_type": "execute_result"
        }
      ],
      "source": [
        "[i for i in range(int(input(\"n = \"))) if checkPrime(i)]"
      ]
    },
    {
      "cell_type": "markdown",
      "metadata": {
        "id": "XpmGHRLRxx34"
      },
      "source": [
        "2. Viết chương trình nhập vào số nguyên n có 3 chữ số. Tính tổng các chữ số của n"
      ]
    },
    {
      "cell_type": "code",
      "execution_count": 77,
      "metadata": {
        "colab": {
          "base_uri": "https://localhost:8080/"
        },
        "id": "AXOFJ9Iwvtvh",
        "outputId": "3119e943-47d8-4ddd-9d84-8e4109cb503d"
      },
      "outputs": [
        {
          "name": "stdout",
          "output_type": "stream",
          "text": [
            "n = 696\n"
          ]
        },
        {
          "data": {
            "text/plain": [
              "21"
            ]
          },
          "execution_count": 77,
          "metadata": {},
          "output_type": "execute_result"
        }
      ],
      "source": [
        "sum(map(int, list(input(\"n = \"))))"
      ]
    },
    {
      "cell_type": "markdown",
      "metadata": {
        "id": "oba6gvmwyFrZ"
      },
      "source": [
        "3. Viết chương trình nhập vào một dãy các số nguyên được cách nhau bởi khoảng trắng (VD: 32 8 4 6 9...) lưu vào python ở dạng mảng. Thực hiện\n",
        "\n",
        "- Xuất mảng\n",
        "- Tính tổng các phần tử của mảng\n",
        "- Tìm số lớn nhất\n",
        "- Tìm số bé nhất\n",
        "- Sắp xếp mảng theo thứ tự giảm dần\n",
        "- In ra các số chẵn trong mảng"
      ]
    },
    {
      "cell_type": "code",
      "execution_count": 107,
      "metadata": {
        "colab": {
          "base_uri": "https://localhost:8080/"
        },
        "id": "9XBwANmGyFyY",
        "outputId": "484321d3-24a9-423a-b253-dd9a321b9677"
      },
      "outputs": [
        {
          "name": "stdout",
          "output_type": "stream",
          "text": [
            "11 31 45 465 7543 76\n"
          ]
        }
      ],
      "source": [
        "inpLst = list(map(int, input().split()))"
      ]
    },
    {
      "cell_type": "code",
      "execution_count": 108,
      "metadata": {
        "colab": {
          "base_uri": "https://localhost:8080/"
        },
        "id": "37ucnaO2yKnF",
        "outputId": "9e4b46c2-eddf-40a8-9f85-509c28de07ac"
      },
      "outputs": [
        {
          "name": "stdout",
          "output_type": "stream",
          "text": [
            "\n",
            "lst = [11, 31, 45, 465, 7543, 76]\n",
            "sum = 8171\n",
            "max = 7543\n",
            "min = 11\n",
            "sor = [7543, 465, 76, 45, 31, 11]\n",
            "eve = [76]\n",
            "\n"
          ]
        }
      ],
      "source": [
        "print(\n",
        "    f\"\"\"\n",
        "lst = {inpLst}\n",
        "sum = {sum(inpLst)}\n",
        "max = {max(inpLst)}\n",
        "min = {min(inpLst)}\n",
        "sor = {sorted(inpLst)[::-1]}\n",
        "eve = {[i for i in inpLst if i % 2 ==0]}\n",
        "\"\"\"\n",
        ")"
      ]
    },
    {
      "cell_type": "markdown",
      "metadata": {
        "id": "hgGOt_Cxyulx"
      },
      "source": [
        "4. Viết chương trình yêu cầu người dùng nhập họ tên. Hiển thị tên người dùng sau khi đã chuẩn hóa. Biết rằng tên đã chuẩn hóa là:\n",
        "- Ký tự đầu viết hoa\n",
        "- Không có khoảng trắng thừa\n",
        "- Không có ký tự đặc biệt"
      ]
    },
    {
      "cell_type": "code",
      "execution_count": 72,
      "metadata": {
        "colab": {
          "base_uri": "https://localhost:8080/",
          "height": 53
        },
        "id": "duR4BF8Dyu_w",
        "outputId": "0c57a788-8f34-4f3e-a6f5-848812af37f0"
      },
      "outputs": [
        {
          "name": "stdout",
          "output_type": "stream",
          "text": [
            "Your name: thdsaa # wwq dsad 123213 dsaa 3##\n"
          ]
        },
        {
          "data": {
            "application/vnd.google.colaboratory.intrinsic+json": {
              "type": "string"
            },
            "text/plain": [
              "'Thdsaa Wwq Dsad Dsaa'"
            ]
          },
          "execution_count": 72,
          "metadata": {},
          "output_type": "execute_result"
        }
      ],
      "source": [
        "\" \".join(\n",
        "    list(\n",
        "        filter(\n",
        "            None,\n",
        "            [\n",
        "                i.capitalize()\n",
        "                for i in re.sub(\"[^A-Za-z ]+\", \"\", input(\"Your name: \")).split(\" \")\n",
        "            ],\n",
        "        )\n",
        "    )\n",
        ")"
      ]
    },
    {
      "cell_type": "markdown",
      "metadata": {
        "id": "W5KucasA0NSA"
      },
      "source": [
        "5. Viết chương trình nhập vào một số nguyên dương (n>0). Cho biết n có phải là số đối xứng hay không? Biết số đối xứng là số viết xuôi hay viết ngược đều như nhau"
      ]
    },
    {
      "cell_type": "code",
      "execution_count": 93,
      "metadata": {
        "id": "FTH5V3je0YPg"
      },
      "outputs": [],
      "source": [
        "checkSym = lambda n: n[:] == n[::-1]"
      ]
    },
    {
      "cell_type": "code",
      "execution_count": 103,
      "metadata": {
        "colab": {
          "base_uri": "https://localhost:8080/"
        },
        "id": "7WS26_hn3CLN",
        "outputId": "e18b7ff5-a353-4dbd-93d5-1b2abb0ce478"
      },
      "outputs": [
        {
          "name": "stdout",
          "output_type": "stream",
          "text": [
            "n = 122\n",
            "n khong phai la so doi xung\n"
          ]
        }
      ],
      "source": [
        "print(f\"n{'' if checkSym(input('n = ')) else ' khong phai'} la so doi xung\")"
      ]
    }
  ],
  "metadata": {
    "colab": {
      "include_colab_link": true,
      "provenance": [],
      "toc_visible": true
    },
    "kernelspec": {
      "display_name": "Python 3",
      "name": "python3"
    },
    "language_info": {
      "codemirror_mode": {
        "name": "ipython",
        "version": 3
      },
      "file_extension": ".py",
      "mimetype": "text/x-python",
      "name": "python",
      "nbconvert_exporter": "python",
      "pygments_lexer": "ipython3",
      "version": "3.11.5"
    }
  },
  "nbformat": 4,
  "nbformat_minor": 0
}
