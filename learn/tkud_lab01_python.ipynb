{
  "cells": [
    {
      "cell_type": "markdown",
      "metadata": {
        "colab_type": "text",
        "id": "view-in-github"
      },
      "source": [
        "<a href=\"https://colab.research.google.com/github/tiesen243/thong-ke-may-tinh-va-ung-dung/blob/main/tkud_lab01_python.ipynb\" target=\"_parent\"><img src=\"https://colab.research.google.com/assets/colab-badge.svg\" alt=\"Open In Colab\"/></a>"
      ]
    },
    {
      "cell_type": "markdown",
      "metadata": {
        "id": "08UgBpRvP09-"
      },
      "source": [
        "# Python\n",
        "\n",
        "Python là một ngôn ngữ lập trình phổ biến hiện nay, được tạo ra bởi Guido van Rossum và phát hành vào năm 1991. Python là ngôn ngữ thường được dùng cho các lĩnh vực như: phát triển web, viết phần mềm, tính toán, viết kịch bản hệ thống, phân tích dữ liệu...\n",
        "\n",
        "Tài liệu này hướng dẫn các bạn tiếp cận Python ở góc độ người đã từng học qua một ngôn ngữ lập trình, vì vậy các nội dung sẽ chủ yếu trình bày dưới dạng các ví dụ. Môi trường để thực hành là file notebook (`.ipynb`), các bạn hoàn toàn có thể chạy, ghi chú và chỉnh sửa trên file.\n",
        "\n",
        "Tài liệu gồm những nội dung sau:\n",
        "\n",
        "- Basic Data types (Kiểu dữ liệu cơ bản)\n",
        "    - Numbers (kiểu số)\n",
        "    - Boolean\n",
        "    - String (kiểu chuỗi)\n",
        "    - Input, Output (Nhập, xuất)\n",
        "    - List (kiểu danh sách)\n",
        "- Control flow (Luồng điều khiển)\n",
        "    - if\n",
        "    - while\n",
        "    - for\n",
        "    - function (hàm)\n",
        "- Containers\n",
        "- Built-in functions (một số hàm có sẵn thông dụng)\n",
        "- Tham khảo\n"
      ]
    },
    {
      "cell_type": "markdown",
      "metadata": {
        "id": "rRPNVh1CP0-A"
      },
      "source": [
        "## BASIC DATA TYPES"
      ]
    },
    {
      "cell_type": "markdown",
      "metadata": {
        "id": "1JDnx8QuP0-A"
      },
      "source": [
        "### Numbers\n",
        "\n",
        "Số nguyên và số thực trong Python hoạt động như trong các ngôn ngữ khác."
      ]
    },
    {
      "cell_type": "code",
      "execution_count": 1,
      "metadata": {
        "colab": {
          "base_uri": "https://localhost:8080/"
        },
        "id": "8sqRbtrMP0-B",
        "outputId": "77d61e5b-3f78-460b-d1f5-b282fc7dd9fa"
      },
      "outputs": [
        {
          "data": {
            "text/plain": [
              "2"
            ]
          },
          "execution_count": 1,
          "metadata": {},
          "output_type": "execute_result"
        }
      ],
      "source": [
        "1 + 1"
      ]
    },
    {
      "cell_type": "code",
      "execution_count": 133,
      "metadata": {
        "colab": {
          "base_uri": "https://localhost:8080/"
        },
        "id": "_pbMmg7XP0-D",
        "outputId": "631c057d-14b3-4170-c49e-8266bac95f8c"
      },
      "outputs": [
        {
          "data": {
            "text/plain": [
              "20"
            ]
          },
          "execution_count": 133,
          "metadata": {},
          "output_type": "execute_result"
        }
      ],
      "source": [
        "50 - 5 * 6"
      ]
    },
    {
      "cell_type": "code",
      "execution_count": 134,
      "metadata": {
        "colab": {
          "base_uri": "https://localhost:8080/"
        },
        "id": "DoAcI_SJP0-D",
        "outputId": "e8bee15a-fd44-408d-df4b-4ff4429d1373"
      },
      "outputs": [
        {
          "data": {
            "text/plain": [
              "5.666666666666667"
            ]
          },
          "execution_count": 134,
          "metadata": {},
          "output_type": "execute_result"
        }
      ],
      "source": [
        "17 / 3  # classic division returns a float"
      ]
    },
    {
      "cell_type": "code",
      "execution_count": 135,
      "metadata": {
        "colab": {
          "base_uri": "https://localhost:8080/"
        },
        "id": "hYmJw0RAP0-D",
        "outputId": "f100e679-23af-4b78-ca43-7c374f9e4da3"
      },
      "outputs": [
        {
          "data": {
            "text/plain": [
              "5"
            ]
          },
          "execution_count": 135,
          "metadata": {},
          "output_type": "execute_result"
        }
      ],
      "source": [
        "17 // 3  # floor division discards the fractional part"
      ]
    },
    {
      "cell_type": "code",
      "execution_count": 136,
      "metadata": {
        "colab": {
          "base_uri": "https://localhost:8080/"
        },
        "id": "fjrlh0Y-P0-E",
        "outputId": "5d981b76-e54d-421f-b04c-49c35db5b15f"
      },
      "outputs": [
        {
          "data": {
            "text/plain": [
              "25"
            ]
          },
          "execution_count": 136,
          "metadata": {},
          "output_type": "execute_result"
        }
      ],
      "source": [
        "5**2  # 5 squared"
      ]
    },
    {
      "cell_type": "code",
      "execution_count": 137,
      "metadata": {
        "colab": {
          "base_uri": "https://localhost:8080/"
        },
        "id": "AZxYxnmxP0-F",
        "outputId": "78b28747-0e03-478f-ab74-121f5cb13ca9"
      },
      "outputs": [
        {
          "data": {
            "text/plain": [
              "0"
            ]
          },
          "execution_count": 137,
          "metadata": {},
          "output_type": "execute_result"
        }
      ],
      "source": [
        "4 % 2"
      ]
    },
    {
      "cell_type": "code",
      "execution_count": 138,
      "metadata": {
        "colab": {
          "base_uri": "https://localhost:8080/"
        },
        "id": "QImkc8oRP0-G",
        "outputId": "8ae427ca-b4bb-4531-a47c-acaa9a43b066"
      },
      "outputs": [
        {
          "data": {
            "text/plain": [
              "1"
            ]
          },
          "execution_count": 138,
          "metadata": {},
          "output_type": "execute_result"
        }
      ],
      "source": [
        "5 % 2"
      ]
    },
    {
      "cell_type": "code",
      "execution_count": 139,
      "metadata": {
        "colab": {
          "base_uri": "https://localhost:8080/"
        },
        "id": "octI5obzP0-G",
        "outputId": "2b041b73-484d-4d3d-db28-a0f6116a3df3"
      },
      "outputs": [
        {
          "data": {
            "text/plain": [
              "50"
            ]
          },
          "execution_count": 139,
          "metadata": {},
          "output_type": "execute_result"
        }
      ],
      "source": [
        "(2 + 3) * (5 + 5)"
      ]
    },
    {
      "cell_type": "code",
      "execution_count": 140,
      "metadata": {
        "colab": {
          "base_uri": "https://localhost:8080/"
        },
        "id": "d0DIhcc1P0-H",
        "outputId": "924fabcb-8190-4bd4-8f93-0c91dfc27a09"
      },
      "outputs": [
        {
          "data": {
            "text/plain": [
              "900"
            ]
          },
          "execution_count": 140,
          "metadata": {},
          "output_type": "execute_result"
        }
      ],
      "source": [
        "# Sử dụng toán tử '=' để gán giá trị cho biến, không cần phải khai báo biến trước khi sử dụng\n",
        "width = 20\n",
        "height = 5 * 9\n",
        "width * height"
      ]
    },
    {
      "cell_type": "code",
      "execution_count": 141,
      "metadata": {
        "colab": {
          "base_uri": "https://localhost:8080/"
        },
        "id": "9a_OFoJoP0-H",
        "outputId": "d0f6272a-a268-48c4-c4b9-d97938403c29"
      },
      "outputs": [
        {
          "data": {
            "text/plain": [
              "2"
            ]
          },
          "execution_count": 141,
          "metadata": {},
          "output_type": "execute_result"
        }
      ],
      "source": [
        "# sử dụng biến mà không gán giá trị thì sẽ gặp thông báo lỗi\n",
        "n"
      ]
    },
    {
      "cell_type": "markdown",
      "metadata": {
        "id": "JjZ0cUb7P0-I"
      },
      "source": [
        "### Boolean"
      ]
    },
    {
      "cell_type": "code",
      "execution_count": 142,
      "metadata": {
        "colab": {
          "base_uri": "https://localhost:8080/"
        },
        "id": "dDbDsjX1P0-I",
        "outputId": "50e6ad2e-7a6e-4903-a89c-4502257cf634"
      },
      "outputs": [
        {
          "name": "stdout",
          "output_type": "stream",
          "text": [
            "<class 'bool'>\n",
            "False\n",
            "True\n",
            "True\n",
            "True\n"
          ]
        }
      ],
      "source": [
        "t = True\n",
        "f = False\n",
        "print(type(t))\n",
        "print(t and f)\n",
        "print(t or f)\n",
        "print(not f)\n",
        "print(t != f)  # XOR"
      ]
    },
    {
      "cell_type": "code",
      "execution_count": 143,
      "metadata": {
        "colab": {
          "base_uri": "https://localhost:8080/"
        },
        "id": "yNpe88MEQMKs",
        "outputId": "74724eb4-456d-4d9c-882c-c9a0d58f8dc5"
      },
      "outputs": [
        {
          "name": "stdout",
          "output_type": "stream",
          "text": [
            "True\n",
            "False\n",
            "True\n"
          ]
        }
      ],
      "source": [
        "x = 3\n",
        "print(x % 2 != 0)\n",
        "print(x > 0 and x % 5 == 0)\n",
        "print(x == 3 or x == 9)"
      ]
    },
    {
      "cell_type": "markdown",
      "metadata": {
        "id": "NJXU_tMpP0-I"
      },
      "source": [
        "### String"
      ]
    },
    {
      "cell_type": "code",
      "execution_count": 144,
      "metadata": {
        "colab": {
          "base_uri": "https://localhost:8080/"
        },
        "id": "DgQt2GSEP0-I",
        "outputId": "d6a0b541-308c-4f53-fb91-5184b6298617"
      },
      "outputs": [
        {
          "name": "stdout",
          "output_type": "stream",
          "text": [
            "hello\n",
            "5\n"
          ]
        }
      ],
      "source": [
        "hello = \"hello\"  # String literals can use single quotes\n",
        "world = \"world\"  # or double quotes; it does not matter.\n",
        "print(hello)  # Prints \"hello\"\n",
        "print(len(hello))  # String length; prints \"5\""
      ]
    },
    {
      "cell_type": "code",
      "execution_count": 145,
      "metadata": {
        "colab": {
          "base_uri": "https://localhost:8080/"
        },
        "id": "75D_hz3QP0-J",
        "outputId": "6a25b0a8-0595-42a7-a919-3882b71f4caf"
      },
      "outputs": [
        {
          "name": "stdout",
          "output_type": "stream",
          "text": [
            "hello world\n"
          ]
        }
      ],
      "source": [
        "hw = hello + \" \" + world  # String concatenation\n",
        "print(hw)  # Prints \"hello world\""
      ]
    },
    {
      "cell_type": "code",
      "execution_count": 146,
      "metadata": {
        "colab": {
          "base_uri": "https://localhost:8080/"
        },
        "id": "pABdCvxtP0-J",
        "outputId": "74a9e589-931a-484e-edb5-aa38a1f457dc"
      },
      "outputs": [
        {
          "name": "stdout",
          "output_type": "stream",
          "text": [
            "hello world 12\n",
            "hello world 12\n"
          ]
        }
      ],
      "source": [
        "hw12 = \"%s %s %d\" % (hello, world, 12)  # sprintf style string formatting\n",
        "print(hw12)  # prints \"hello world 12\"\n",
        "hw12 = \"{} {} {}\".format(hello, world, 12)  # sprintf style string formatting\n",
        "print(hw12)  # prints \"hello world 12\""
      ]
    },
    {
      "cell_type": "markdown",
      "metadata": {
        "id": "bvz6aT-UP0-J"
      },
      "source": [
        "Xâu kí tự trong Python là một lớp đối tượng và có rất nhiều phương thức hữu ích; ví dụ:"
      ]
    },
    {
      "cell_type": "code",
      "execution_count": 147,
      "metadata": {
        "colab": {
          "base_uri": "https://localhost:8080/"
        },
        "id": "F1xUE7LmP0-J",
        "outputId": "f134b18b-4cd7-4e1b-fe2f-9a9b4b34f20e"
      },
      "outputs": [
        {
          "name": "stdout",
          "output_type": "stream",
          "text": [
            "Hello\n",
            "HELLO\n",
            "  hello\n",
            " hello \n",
            "he(ell)(ell)o\n",
            "world\n"
          ]
        }
      ],
      "source": [
        "s = \"hello\"\n",
        "print(s.capitalize())  # Capitalize a string; prints \"Hello\"\n",
        "print(s.upper())  # Convert a string to uppercase; prints \"HELLO\"\n",
        "print(s.rjust(7))  # Right-justify a string, padding with spaces; prints \"  hello\"\n",
        "print(s.center(7))  # Center a string, padding with spaces; prints \" hello \"\n",
        "print(s.replace(\"l\", \"(ell)\"))  # Replace all instances of one substring with another;\n",
        "# prints \"he(ell)(ell)o\"\n",
        "print(\"  world \".strip())  # Strip leading and trailing whitespace; prints \"world\""
      ]
    },
    {
      "cell_type": "markdown",
      "metadata": {
        "id": "smjwWTDvP0-K"
      },
      "source": [
        "Bạn có thể tìm hiểu thêm vì các phương thức của lớp xâu kí tự tại [đây](https://www.w3schools.com/python/python_strings_methods.asp)"
      ]
    },
    {
      "cell_type": "markdown",
      "metadata": {
        "id": "0pnkf4zwP0-M"
      },
      "source": [
        "### List"
      ]
    },
    {
      "cell_type": "code",
      "execution_count": 148,
      "metadata": {
        "colab": {
          "base_uri": "https://localhost:8080/"
        },
        "id": "SKawB1-tP0-M",
        "outputId": "aa9bd452-6253-4563-ea3e-f175148e222f"
      },
      "outputs": [
        {
          "data": {
            "text/plain": [
              "[1, 2, 3]"
            ]
          },
          "execution_count": 148,
          "metadata": {},
          "output_type": "execute_result"
        }
      ],
      "source": [
        "[1, 2, 3]  # Elements are the same data type"
      ]
    },
    {
      "cell_type": "code",
      "execution_count": 149,
      "metadata": {
        "colab": {
          "base_uri": "https://localhost:8080/"
        },
        "id": "Krgxy3tQP0-M",
        "outputId": "7b549301-fbab-4e49-d997-aa31a871ff88"
      },
      "outputs": [
        {
          "data": {
            "text/plain": [
              "['hi', 1, [1, 2]]"
            ]
          },
          "execution_count": 149,
          "metadata": {},
          "output_type": "execute_result"
        }
      ],
      "source": [
        "[\"hi\", 1, [1, 2]]  # Elements are the different data types"
      ]
    },
    {
      "cell_type": "code",
      "execution_count": 150,
      "metadata": {
        "colab": {
          "base_uri": "https://localhost:8080/"
        },
        "id": "vS1Oo1waP0-O",
        "outputId": "ed8ae09e-d3ec-420b-c5a7-8cb94888f345"
      },
      "outputs": [
        {
          "name": "stdout",
          "output_type": "stream",
          "text": [
            "[4, 5, ['target']]\n",
            "['target']\n",
            "target\n"
          ]
        }
      ],
      "source": [
        "nest = [1, 2, 3, [4, 5, [\"target\"]]]\n",
        "\n",
        "print(nest[3])\n",
        "print(nest[3][2])\n",
        "print(nest[3][2][0])"
      ]
    },
    {
      "cell_type": "code",
      "execution_count": 151,
      "metadata": {
        "id": "d9nwNy0BP0-M"
      },
      "outputs": [],
      "source": [
        "my_list = [\"a\", \"b\", \"c\"]  # declare a new variable"
      ]
    },
    {
      "cell_type": "code",
      "execution_count": 152,
      "metadata": {
        "colab": {
          "base_uri": "https://localhost:8080/"
        },
        "id": "SBz4Zna2P0-M",
        "outputId": "4c214f93-8c63-42a5-c490-152ecbc87063"
      },
      "outputs": [
        {
          "data": {
            "text/plain": [
              "['a', 'b', 'c', 'd']"
            ]
          },
          "execution_count": 152,
          "metadata": {},
          "output_type": "execute_result"
        }
      ],
      "source": [
        "my_list.append(\"d\")  # append an element\n",
        "my_list"
      ]
    },
    {
      "cell_type": "code",
      "execution_count": 153,
      "metadata": {
        "colab": {
          "base_uri": "https://localhost:8080/"
        },
        "id": "H0e_IUn6P0-M",
        "outputId": "dda97285-fdb9-4a72-8766-e9f02d8c1452"
      },
      "outputs": [
        {
          "name": "stdout",
          "output_type": "stream",
          "text": [
            "a\n",
            "c\n"
          ]
        }
      ],
      "source": [
        "# Access single element by id\n",
        "print(my_list[0])\n",
        "print(my_list[2])"
      ]
    },
    {
      "cell_type": "code",
      "execution_count": 154,
      "metadata": {
        "colab": {
          "base_uri": "https://localhost:8080/"
        },
        "id": "ucpL1743P0-N",
        "outputId": "77e53655-bb1a-448c-acc1-0176658aca4c"
      },
      "outputs": [
        {
          "name": "stdout",
          "output_type": "stream",
          "text": [
            "['b', 'c', 'd']\n",
            "['b', 'c']\n"
          ]
        }
      ],
      "source": [
        "# Access a subset of list using slicing (':' operator)\n",
        "print(my_list[1:])\n",
        "print(my_list[1:3])"
      ]
    },
    {
      "cell_type": "code",
      "execution_count": 155,
      "metadata": {
        "colab": {
          "base_uri": "https://localhost:8080/"
        },
        "id": "cuPy8Tn8P0-N",
        "outputId": "76ef17fa-4042-45a6-c9b5-9338396b4bce"
      },
      "outputs": [
        {
          "data": {
            "text/plain": [
              "['NEW', 'b', 'c', 'd']"
            ]
          },
          "execution_count": 155,
          "metadata": {},
          "output_type": "execute_result"
        }
      ],
      "source": [
        "# Change value\n",
        "my_list[0] = \"NEW\"\n",
        "my_list"
      ]
    },
    {
      "cell_type": "code",
      "execution_count": 156,
      "metadata": {
        "colab": {
          "base_uri": "https://localhost:8080/"
        },
        "id": "S6cJ_Gnhh81j",
        "outputId": "75a59be4-b0a1-4a8c-a5d5-83b87aa19634"
      },
      "outputs": [
        {
          "data": {
            "text/plain": [
              "True"
            ]
          },
          "execution_count": 156,
          "metadata": {},
          "output_type": "execute_result"
        }
      ],
      "source": [
        "# Kiểm tra phần tử 'NEW' có thuộc danh sách\n",
        "\"NEW\" in my_list"
      ]
    },
    {
      "cell_type": "code",
      "execution_count": 157,
      "metadata": {
        "colab": {
          "base_uri": "https://localhost:8080/"
        },
        "id": "G6Mzon_XiI0x",
        "outputId": "54627ba4-9b0e-4185-83c3-521c5b83a219"
      },
      "outputs": [
        {
          "name": "stdout",
          "output_type": "stream",
          "text": [
            "['NEW', 'b', 'd']\n"
          ]
        }
      ],
      "source": [
        "# Xóa phần tử ở vị trí thứ 2\n",
        "del my_list[2]\n",
        "print(my_list)"
      ]
    },
    {
      "cell_type": "code",
      "execution_count": 158,
      "metadata": {
        "colab": {
          "base_uri": "https://localhost:8080/"
        },
        "id": "yibcKLhF33YY",
        "outputId": "86d470d0-414a-4773-d2b6-abc76fa01135"
      },
      "outputs": [
        {
          "name": "stdout",
          "output_type": "stream",
          "text": [
            "NEW\n",
            "b\n",
            "d\n"
          ]
        }
      ],
      "source": [
        "# Print each element in list\n",
        "for x in my_list:\n",
        "    print(x)"
      ]
    },
    {
      "cell_type": "markdown",
      "metadata": {
        "id": "w9z2w3NDZale"
      },
      "source": [
        "Bạn có thể tìm hiểu thêm vì các phương thức của list tại [đây](https://www.w3schools.com/python/python_lists_methods.asp)"
      ]
    },
    {
      "cell_type": "markdown",
      "metadata": {
        "id": "WJF-84_1P0-K"
      },
      "source": [
        "### Input, Output"
      ]
    },
    {
      "cell_type": "markdown",
      "metadata": {
        "id": "yXaUYD4fP0-K"
      },
      "source": [
        "**Output**"
      ]
    },
    {
      "cell_type": "code",
      "execution_count": 159,
      "metadata": {
        "id": "5YHPeDOuP0-K"
      },
      "outputs": [],
      "source": [
        "x = \"hello\""
      ]
    },
    {
      "cell_type": "code",
      "execution_count": 160,
      "metadata": {
        "colab": {
          "base_uri": "https://localhost:8080/",
          "height": 35
        },
        "id": "9CGiTb4XP0-K",
        "outputId": "4144ed0d-08d7-47a8-fdd6-338c3830e0f8"
      },
      "outputs": [
        {
          "data": {
            "application/vnd.google.colaboratory.intrinsic+json": {
              "type": "string"
            },
            "text/plain": [
              "'hello'"
            ]
          },
          "execution_count": 160,
          "metadata": {},
          "output_type": "execute_result"
        }
      ],
      "source": [
        "x"
      ]
    },
    {
      "cell_type": "code",
      "execution_count": 161,
      "metadata": {
        "colab": {
          "base_uri": "https://localhost:8080/"
        },
        "id": "OvGSCHwoP0-K",
        "outputId": "181bf887-0b8d-4888-d908-393e14e76b72"
      },
      "outputs": [
        {
          "name": "stdout",
          "output_type": "stream",
          "text": [
            "hello\n"
          ]
        }
      ],
      "source": [
        "print(x)"
      ]
    },
    {
      "cell_type": "code",
      "execution_count": 162,
      "metadata": {
        "colab": {
          "base_uri": "https://localhost:8080/"
        },
        "id": "Z4vuqiwRP0-L",
        "outputId": "ca3ed0ce-b268-44ab-df3f-135dfa861cc5"
      },
      "outputs": [
        {
          "name": "stdout",
          "output_type": "stream",
          "text": [
            "Sam 12\n",
            "Sam,12\n",
            "Sam  has the number  12\n"
          ]
        }
      ],
      "source": [
        "num = 12\n",
        "name = \"Sam\"\n",
        "\n",
        "print(name, num)\n",
        "print(name, num, sep=\",\")  # Adding the seperator ',' between 2 variables name and num\n",
        "print(name, \" has the number \", num)"
      ]
    },
    {
      "cell_type": "code",
      "execution_count": 163,
      "metadata": {
        "colab": {
          "base_uri": "https://localhost:8080/"
        },
        "id": "pQa1sfPRP0-L",
        "outputId": "96b5c854-4994-48bc-e4ba-ba6645073bfb"
      },
      "outputs": [
        {
          "name": "stdout",
          "output_type": "stream",
          "text": [
            "My number is: 12, and my name is: Sam\n"
          ]
        }
      ],
      "source": [
        "print(f\"My number is: {num}, and my name is: {name}\")"
      ]
    },
    {
      "cell_type": "code",
      "execution_count": 164,
      "metadata": {
        "colab": {
          "base_uri": "https://localhost:8080/"
        },
        "id": "kvpZzJ50P0-L",
        "outputId": "b896c0ff-4b02-44f3-94ee-9b6354d74754"
      },
      "outputs": [
        {
          "name": "stdout",
          "output_type": "stream",
          "text": [
            "My number is: 12, and my name is: Sam\n"
          ]
        }
      ],
      "source": [
        "print(\"My number is: {}, and my name is: {}\".format(num, name))"
      ]
    },
    {
      "cell_type": "code",
      "execution_count": 165,
      "metadata": {
        "colab": {
          "base_uri": "https://localhost:8080/"
        },
        "id": "YxcXo3bRP0-L",
        "outputId": "d67ed1da-428e-4a28-e7f7-5fa1301f1d03"
      },
      "outputs": [
        {
          "name": "stdout",
          "output_type": "stream",
          "text": [
            "My number is: 12, and my name is: Sam\n"
          ]
        }
      ],
      "source": [
        "print(\"My number is: %d, and my name is: %s\" % (num, name))"
      ]
    },
    {
      "cell_type": "markdown",
      "metadata": {
        "id": "z52DoohyP0-L"
      },
      "source": [
        "**Input**"
      ]
    },
    {
      "cell_type": "code",
      "execution_count": 166,
      "metadata": {
        "colab": {
          "base_uri": "https://localhost:8080/"
        },
        "id": "w-KNN10sP0-L",
        "outputId": "1c9c857f-6594-4100-f599-6f5f12e7866a"
      },
      "outputs": [
        {
          "name": "stdout",
          "output_type": "stream",
          "text": [
            "Enter your name:\n",
            "dasda\n",
            "Hello, dasda\n",
            "<class 'str'>\n"
          ]
        }
      ],
      "source": [
        "# Nhập một chuỗi\n",
        "print(\"Enter your name:\")\n",
        "x = input()\n",
        "print(\"Hello, \" + x)\n",
        "print(type(x))"
      ]
    },
    {
      "cell_type": "code",
      "execution_count": 167,
      "metadata": {
        "colab": {
          "base_uri": "https://localhost:8080/"
        },
        "id": "hZ8mSmgeP0-L",
        "outputId": "6e87e62e-c525-4b21-bdb3-7225705be443"
      },
      "outputs": [
        {
          "name": "stdout",
          "output_type": "stream",
          "text": [
            "Enter your age: 3\n",
            "Your age is 3\n",
            "<class 'int'>\n"
          ]
        }
      ],
      "source": [
        "# Nhập một số nguyên\n",
        "age = int(input(\"Enter your age: \"))\n",
        "print(\"Your age is\", age)\n",
        "print(type(age))"
      ]
    },
    {
      "cell_type": "code",
      "execution_count": 168,
      "metadata": {
        "colab": {
          "base_uri": "https://localhost:8080/"
        },
        "id": "BF7SxVMFP0-L",
        "outputId": "cb1345ed-7219-4f3a-d86a-5b0d809afd3c"
      },
      "outputs": [
        {
          "name": "stdout",
          "output_type": "stream",
          "text": [
            "Enter your weight: 3123\n",
            "Your weight is 3123.0\n",
            "<class 'float'>\n"
          ]
        }
      ],
      "source": [
        "# Nhập một số thực\n",
        "weight = float(input(\"Enter your weight: \"))\n",
        "print(\"Your weight is\", weight)\n",
        "print(type(weight))"
      ]
    },
    {
      "cell_type": "code",
      "execution_count": 169,
      "metadata": {
        "colab": {
          "base_uri": "https://localhost:8080/"
        },
        "id": "LnzIx87pbswy",
        "outputId": "2b7e1455-ef17-464f-9aee-fdcffc2e203b"
      },
      "outputs": [
        {
          "name": "stdout",
          "output_type": "stream",
          "text": [
            "Enter number of elements : 2\n",
            "3\n",
            "4\n",
            "[3, 4]\n"
          ]
        }
      ],
      "source": [
        "# Nhập một danh sách với số lượng xác định số phần tử số nguyên\n",
        "# creating an empty list\n",
        "lst = []\n",
        "\n",
        "n = int(input(\"Enter number of elements : \"))\n",
        "\n",
        "for i in range(0, n):\n",
        "    ele = int(input())\n",
        "    # adding the element\n",
        "    lst.append(ele)\n",
        "\n",
        "print(lst)"
      ]
    },
    {
      "cell_type": "code",
      "execution_count": 170,
      "metadata": {
        "colab": {
          "base_uri": "https://localhost:8080/"
        },
        "id": "Uw0GsGN4aCRN",
        "outputId": "c72c6518-84e2-41ae-a5b3-172f415fbb89"
      },
      "outputs": [
        {
          "name": "stdout",
          "output_type": "stream",
          "text": [
            "[1.5, -8.25, 9.0, 2.08]\n"
          ]
        }
      ],
      "source": [
        "# Nhập một list các phần tử số thực cách nhau bởi dấu ,\n",
        "input_string = \"1.5, -8.25, 9, 2.08\"\n",
        "\n",
        "lst1 = [float(x) for x in input_string.split(\",\")]\n",
        "print(lst1)"
      ]
    },
    {
      "cell_type": "code",
      "execution_count": 171,
      "metadata": {
        "colab": {
          "base_uri": "https://localhost:8080/"
        },
        "id": "DEZZGgYsdK1K",
        "outputId": "5609199b-9e3b-48f8-a6fd-96d09fc482e8"
      },
      "outputs": [
        {
          "name": "stdout",
          "output_type": "stream",
          "text": [
            "[1.5, -8.25, 9.0, 2.08]\n"
          ]
        }
      ],
      "source": [
        "# Nhập một list các phần tử số thực cách nhau bởi dấu , (cách khác)\n",
        "input_string = \"1.5, -8.25, 9, 2.08\"\n",
        "\n",
        "lst2 = list(map(float, input_string.split(\",\")))\n",
        "print(lst2)"
      ]
    },
    {
      "cell_type": "markdown",
      "metadata": {
        "id": "tdoJkTHid4Zb"
      },
      "source": [
        "## CONTROL FLOW"
      ]
    },
    {
      "cell_type": "markdown",
      "metadata": {
        "id": "0uHsHdh6d7fs"
      },
      "source": [
        "### if, if-else, if-elif-else"
      ]
    },
    {
      "cell_type": "markdown",
      "metadata": {
        "id": "LtPyp5jwP0-Y"
      },
      "source": [
        "Cú pháp câu lệnh if:"
      ]
    },
    {
      "cell_type": "markdown",
      "metadata": {
        "id": "uYPLFuJ0P0-Y"
      },
      "source": [
        "```python\n",
        "if logical_condition:\n",
        "    statement(s)\n",
        "```"
      ]
    },
    {
      "cell_type": "markdown",
      "metadata": {
        "id": "C0jpNm_jP0-Y"
      },
      "source": [
        "Cần phải đặt dấu `:` ở cuối câu lệnh điều kiện, và các câu lệnh con ở các dòng tiếp theo phải thụt vào trong so với câu lệnh if (thông thường là 4 khoảng trắng)"
      ]
    },
    {
      "cell_type": "code",
      "execution_count": 172,
      "metadata": {
        "colab": {
          "base_uri": "https://localhost:8080/"
        },
        "id": "1YQK5jGpP0-Y",
        "outputId": "2aa1862c-c7a7-404b-fc83-2b7c4545f8cb"
      },
      "outputs": [
        {
          "name": "stdout",
          "output_type": "stream",
          "text": [
            "a is greater than b\n"
          ]
        }
      ],
      "source": [
        "# if\n",
        "a = 2000\n",
        "b = 1999\n",
        "\n",
        "if a > b:\n",
        "    print(\"a is greater than b\")"
      ]
    },
    {
      "cell_type": "code",
      "execution_count": 173,
      "metadata": {
        "colab": {
          "base_uri": "https://localhost:8080/"
        },
        "id": "ISNI_eq-P0-Z",
        "outputId": "9abcffd8-c9f2-4ff4-a966-6c18b701579d"
      },
      "outputs": [
        {
          "name": "stdout",
          "output_type": "stream",
          "text": [
            "a is greater than b\n"
          ]
        }
      ],
      "source": [
        "# if-else\n",
        "a = 2000\n",
        "b = 1999\n",
        "\n",
        "if a < b:\n",
        "    print(\"b is greater than a\")\n",
        "else:\n",
        "    print(\"a is greater than b\")"
      ]
    },
    {
      "cell_type": "code",
      "execution_count": 174,
      "metadata": {
        "colab": {
          "base_uri": "https://localhost:8080/"
        },
        "id": "U9avug5RP0-a",
        "outputId": "014da0ed-b7ee-4c91-8a1c-c8cc7283109c"
      },
      "outputs": [
        {
          "name": "stdout",
          "output_type": "stream",
          "text": [
            "a and b are equal\n"
          ]
        }
      ],
      "source": [
        "# if-elif-else\n",
        "a = 2000\n",
        "b = 2000\n",
        "\n",
        "if b > a:\n",
        "    print(\"b is greater than a\")\n",
        "elif a == b:\n",
        "    print(\"a and b are equal\")\n",
        "else:\n",
        "    print(\"a is greater than b\")"
      ]
    },
    {
      "cell_type": "code",
      "execution_count": 175,
      "metadata": {
        "colab": {
          "base_uri": "https://localhost:8080/"
        },
        "id": "UWyB_8IYP0-a",
        "outputId": "8dc1afb4-8b9b-4c63-8baa-9de323533c67"
      },
      "outputs": [
        {
          "name": "stdout",
          "output_type": "stream",
          "text": [
            "a < b\n",
            "a = 1999\n"
          ]
        }
      ],
      "source": [
        "# Nested if (câu lệnh điều kiện lồng nhau)\n",
        "a = 1999\n",
        "b = 2000\n",
        "\n",
        "if a > b:\n",
        "    print(\"a > b\")\n",
        "elif a < b:\n",
        "    print(\"a < b\")\n",
        "    if a == 1999:\n",
        "        print(\"a = 1999\")\n",
        "    else:\n",
        "        print(\"a is not equal to 1999\")\n",
        "else:\n",
        "    print(\"a = b\")"
      ]
    },
    {
      "cell_type": "markdown",
      "metadata": {
        "id": "2fHtZiBBP0-b"
      },
      "source": [
        "### while"
      ]
    },
    {
      "cell_type": "markdown",
      "metadata": {
        "id": "0oR5ZJGQP0-b"
      },
      "source": [
        "```python\n",
        "while logical_condition:\n",
        "    statement(s)\n",
        "```"
      ]
    },
    {
      "cell_type": "code",
      "execution_count": 176,
      "metadata": {
        "colab": {
          "base_uri": "https://localhost:8080/"
        },
        "id": "wLAXd_-XP0-b",
        "outputId": "4c91a343-7106-4625-eecc-e6dd5fe5e014"
      },
      "outputs": [
        {
          "name": "stdout",
          "output_type": "stream",
          "text": [
            "2\n",
            "4\n",
            "6\n",
            "8\n",
            "10\n",
            "12\n",
            "14\n",
            "16\n",
            "18\n",
            "Mission accomplished!\n"
          ]
        }
      ],
      "source": [
        "i = 1\n",
        "while i < 10:\n",
        "    print(i * 2)\n",
        "    i = i + 1\n",
        "print(\"Mission accomplished!\")"
      ]
    },
    {
      "cell_type": "markdown",
      "metadata": {
        "id": "hv7X201dP0-b"
      },
      "source": [
        "### for"
      ]
    },
    {
      "cell_type": "markdown",
      "metadata": {
        "id": "irjt1RVeP0-b"
      },
      "source": [
        "Với mỗi phần tử của biến **sequence**, câu lệnh statement(s) được thực thi"
      ]
    },
    {
      "cell_type": "markdown",
      "metadata": {
        "id": "ooQ5qU-PP0-b"
      },
      "source": [
        "```python\n",
        "for variable in sequence:\n",
        "    statement(s)\n",
        "```"
      ]
    },
    {
      "cell_type": "code",
      "execution_count": 177,
      "metadata": {
        "colab": {
          "base_uri": "https://localhost:8080/"
        },
        "id": "H-Q3HHmyP0-c",
        "outputId": "2f7589f8-0bc3-4cc2-f80f-5f7713f5ea9a"
      },
      "outputs": [
        {
          "name": "stdout",
          "output_type": "stream",
          "text": [
            "0\n",
            "1\n",
            "2\n",
            "3\n",
            "4\n",
            "5\n",
            "6\n",
            "7\n",
            "8\n",
            "9\n"
          ]
        }
      ],
      "source": [
        "for i in range(10):\n",
        "    print(i)"
      ]
    },
    {
      "cell_type": "code",
      "execution_count": 178,
      "metadata": {
        "colab": {
          "base_uri": "https://localhost:8080/"
        },
        "id": "cNU8r68sP0-c",
        "outputId": "ab79d369-d2a6-4422-ddc6-275ae344acdd"
      },
      "outputs": [
        {
          "name": "stdout",
          "output_type": "stream",
          "text": [
            "5\n",
            "25\n",
            "50\n",
            "75\n"
          ]
        }
      ],
      "source": [
        "for i in [1, 5, 10, 15]:\n",
        "    print(i * 5)"
      ]
    },
    {
      "cell_type": "markdown",
      "metadata": {
        "id": "ITdSVmQGfs4Z"
      },
      "source": [
        "### break"
      ]
    },
    {
      "cell_type": "markdown",
      "metadata": {
        "id": "B6VeUM04fs4d"
      },
      "source": [
        "Câu lệnh `break` dùng để thoát khỏi vòng lặp"
      ]
    },
    {
      "cell_type": "code",
      "execution_count": 179,
      "metadata": {
        "colab": {
          "base_uri": "https://localhost:8080/"
        },
        "id": "_SJu3uokfs4e",
        "outputId": "6f187fc2-2e44-4978-a12a-4b5c930d8b50"
      },
      "outputs": [
        {
          "name": "stdout",
          "output_type": "stream",
          "text": [
            "0\n",
            "1\n",
            "2\n",
            "3\n",
            "4\n"
          ]
        }
      ],
      "source": [
        "for i in range(10):\n",
        "    print(i)\n",
        "    if i >= 4:\n",
        "        break"
      ]
    },
    {
      "cell_type": "markdown",
      "metadata": {
        "id": "VPuU56IGfs4f"
      },
      "source": [
        "### continue"
      ]
    },
    {
      "cell_type": "markdown",
      "metadata": {
        "id": "eR8LF6_zfs4g"
      },
      "source": [
        "Câu lệnh `continue` khiến cho vòng lặp kế tiếp được thực hiện, ngay cả khi vòng lặp hiện tại chưa được thực hiện xong."
      ]
    },
    {
      "cell_type": "code",
      "execution_count": 180,
      "metadata": {
        "colab": {
          "base_uri": "https://localhost:8080/"
        },
        "id": "H4Tvb5dEfs4h",
        "outputId": "4b2234d8-4f6d-4ac5-9777-3525bdb9d504"
      },
      "outputs": [
        {
          "name": "stdout",
          "output_type": "stream",
          "text": [
            "0\n",
            "1\n",
            "Ignoring 2\n",
            "3\n",
            "4\n",
            "5\n",
            "6\n",
            "7\n",
            "8\n",
            "9\n"
          ]
        }
      ],
      "source": [
        "for i in range(10):\n",
        "    if i == 2:\n",
        "        print(\"Ignoring 2\")\n",
        "        continue\n",
        "    else:\n",
        "        print(i)"
      ]
    },
    {
      "cell_type": "markdown",
      "metadata": {
        "id": "6kub0up14yxj"
      },
      "source": [
        "### Function"
      ]
    },
    {
      "cell_type": "markdown",
      "metadata": {
        "id": "KnG6VnSa5sf-"
      },
      "source": [
        "Cú pháp định nghĩa hàm:\n",
        "\n",
        "```python\n",
        "def function_name( parameters... ):\n",
        "   \"function_docstring\"\n",
        "   function_suite...\n",
        "   ...\n",
        "   return [return_value]\n",
        "```\n",
        "\n",
        "Trong đó:\n",
        "\n",
        "- function_name: tên hàm\n",
        "- parameters: danh sách các tham số\n",
        "- function_docstring: ghi chú, giải thích ý nghĩa của hàm. Nên có để viết code cho dễ đọc\n",
        "- function_suite: chứa các câu lệnh sẽ thực hiện trong hàm\n",
        "- return_value: giá trị trả về của hàm nếu có\n"
      ]
    },
    {
      "cell_type": "code",
      "execution_count": 181,
      "metadata": {
        "id": "IQl2QCuc4x76"
      },
      "outputs": [],
      "source": [
        "# Define a function\n",
        "def my_function():\n",
        "    \"This is a testing function\"\n",
        "    print(\"Hello from a function\")"
      ]
    },
    {
      "cell_type": "code",
      "execution_count": 182,
      "metadata": {
        "colab": {
          "base_uri": "https://localhost:8080/"
        },
        "id": "dXU18fP47Upd",
        "outputId": "53b9f3e9-cfea-4942-a16f-980d35d081f8"
      },
      "outputs": [
        {
          "name": "stdout",
          "output_type": "stream",
          "text": [
            "Hello from a function\n"
          ]
        }
      ],
      "source": [
        "# Call the defined function\n",
        "my_function()"
      ]
    },
    {
      "cell_type": "code",
      "execution_count": 183,
      "metadata": {
        "colab": {
          "base_uri": "https://localhost:8080/"
        },
        "id": "8W2IbTcK7dVD",
        "outputId": "e1aa3eb2-9ab0-46b7-9b52-6ff2939f9472"
      },
      "outputs": [
        {
          "name": "stdout",
          "output_type": "stream",
          "text": [
            "Emily Refsnes\n",
            "Tobias Refsnes\n",
            "Linus Refsnes\n"
          ]
        }
      ],
      "source": [
        "# Define and call a function with a parameter\n",
        "def my_function(fname):\n",
        "    print(fname + \" Refsnes\")\n",
        "\n",
        "\n",
        "my_function(\"Emily\")\n",
        "my_function(\"Tobias\")\n",
        "my_function(\"Linus\")"
      ]
    },
    {
      "cell_type": "code",
      "execution_count": 184,
      "metadata": {
        "colab": {
          "base_uri": "https://localhost:8080/"
        },
        "id": "LdHBHkAC8AKD",
        "outputId": "73403800-b984-4de1-81fa-4f76e08baaf0"
      },
      "outputs": [
        {
          "name": "stdout",
          "output_type": "stream",
          "text": [
            "Emil Refsnes\n"
          ]
        }
      ],
      "source": [
        "# Define and call a function with two parameters\n",
        "def my_function(fname, lname):\n",
        "    print(fname + \" \" + lname)\n",
        "\n",
        "\n",
        "my_function(\"Emil\", \"Refsnes\")"
      ]
    },
    {
      "cell_type": "code",
      "execution_count": 185,
      "metadata": {
        "colab": {
          "base_uri": "https://localhost:8080/"
        },
        "id": "LhwzxXpx8g4b",
        "outputId": "2cde62fb-5ea1-404e-c849-4cd5c42eae79"
      },
      "outputs": [
        {
          "name": "stdout",
          "output_type": "stream",
          "text": [
            "apple\n",
            "banana\n",
            "cherry\n"
          ]
        }
      ],
      "source": [
        "# Passing a list as an argument\n",
        "def my_function(food):\n",
        "    for x in food:\n",
        "        print(x)\n",
        "\n",
        "\n",
        "fruits = [\"apple\", \"banana\", \"cherry\"]\n",
        "\n",
        "my_function(fruits)"
      ]
    },
    {
      "cell_type": "code",
      "execution_count": 186,
      "metadata": {
        "colab": {
          "base_uri": "https://localhost:8080/"
        },
        "id": "k6JykFKT8uKh",
        "outputId": "52bae1c3-fe3b-4e35-8909-1620f2793559"
      },
      "outputs": [
        {
          "name": "stdout",
          "output_type": "stream",
          "text": [
            "15\n",
            "25\n",
            "45\n"
          ]
        }
      ],
      "source": [
        "# Function with return value\n",
        "def my_function(x):\n",
        "    return 5 * x\n",
        "\n",
        "\n",
        "print(my_function(3))\n",
        "print(my_function(5))\n",
        "print(my_function(9))"
      ]
    },
    {
      "cell_type": "markdown",
      "metadata": {
        "id": "3bAKxrDhP0-j"
      },
      "source": [
        "Ta có thể định nghĩa hàm nhận tham số tùy chọn, như sau:"
      ]
    },
    {
      "cell_type": "code",
      "execution_count": 187,
      "metadata": {
        "colab": {
          "base_uri": "https://localhost:8080/"
        },
        "id": "_hvvLBv9P0-j",
        "outputId": "37ccc7f4-0056-4c2d-cced-e81ffb320e30"
      },
      "outputs": [
        {
          "name": "stdout",
          "output_type": "stream",
          "text": [
            "Hello, Bob\n",
            "HELLO, FRED!\n"
          ]
        }
      ],
      "source": [
        "# Define a function with default parameter 'loud'\n",
        "def hello(name, loud=False):\n",
        "    if loud:\n",
        "        print(\"HELLO, %s!\" % name.upper())\n",
        "    else:\n",
        "        print(\"Hello, %s\" % name)\n",
        "\n",
        "\n",
        "hello(\"Bob\")  # Prints \"Hello, Bob\"\n",
        "hello(\"Fred\", loud=True)  # Prints \"HELLO, FRED!\""
      ]
    },
    {
      "cell_type": "markdown",
      "metadata": {
        "id": "crUPwKHFP0-U"
      },
      "source": [
        "## BUILT-IN FUNCTIONS"
      ]
    },
    {
      "cell_type": "code",
      "execution_count": 188,
      "metadata": {
        "colab": {
          "base_uri": "https://localhost:8080/"
        },
        "id": "M8RrLuUDHitY",
        "outputId": "c08332cc-e27f-43fe-c61d-33c180b43b84"
      },
      "outputs": [
        {
          "name": "stdout",
          "output_type": "stream",
          "text": [
            "3\n"
          ]
        }
      ],
      "source": [
        "# Hàm lấy độ dài\n",
        "mylist = [\"apple\", \"banana\", \"cherry\"]\n",
        "n = len(mylist)\n",
        "print(n)"
      ]
    },
    {
      "cell_type": "code",
      "execution_count": 189,
      "metadata": {
        "colab": {
          "base_uri": "https://localhost:8080/"
        },
        "id": "_e5WcKi-Hi2q",
        "outputId": "2fe296e5-faa4-4920-d7d3-ddfd2058bec2"
      },
      "outputs": [
        {
          "name": "stdout",
          "output_type": "stream",
          "text": [
            "var: ('apple', 'banana', 'cherry'), type:<class 'tuple'>\n",
            "var: Hello World, type:<class 'str'>\n",
            "var: 33, type:<class 'int'>\n"
          ]
        }
      ],
      "source": [
        "# Hàm xác định kiểu dữ liệu của biến\n",
        "a = (\"apple\", \"banana\", \"cherry\")\n",
        "b = \"Hello World\"\n",
        "c = 33\n",
        "\n",
        "print(f\"var: {a}, type:{type(a)}\")\n",
        "print(f\"var: {b}, type:{type(b)}\")\n",
        "print(f\"var: {c}, type:{type(c)}\")"
      ]
    },
    {
      "cell_type": "code",
      "execution_count": 190,
      "metadata": {
        "colab": {
          "base_uri": "https://localhost:8080/"
        },
        "id": "vEiPUgSDP0-U",
        "outputId": "b2bd2f92-e369-42f4-cbdc-5ebf73b6c94e",
        "scrolled": true
      },
      "outputs": [
        {
          "data": {
            "text/plain": [
              "8"
            ]
          },
          "execution_count": 190,
          "metadata": {},
          "output_type": "execute_result"
        }
      ],
      "source": [
        "# Hàm lũy thừa\n",
        "pow(2, 3)"
      ]
    },
    {
      "cell_type": "markdown",
      "metadata": {
        "id": "vuCcLnycP0-U"
      },
      "source": [
        "`round()` sử dụng để làm tròn phần thập phân"
      ]
    },
    {
      "cell_type": "code",
      "execution_count": 191,
      "metadata": {
        "colab": {
          "base_uri": "https://localhost:8080/"
        },
        "id": "pZPV-wjWP0-U",
        "outputId": "1df1b484-4054-461f-f8f4-551c5df721fb"
      },
      "outputs": [
        {
          "name": "stdout",
          "output_type": "stream",
          "text": [
            "3.0\n",
            "3.14\n"
          ]
        }
      ],
      "source": [
        "# Hàm làm tròn\n",
        "print(round(3.14159265359, 0))\n",
        "print(round(3.14159265359, 2))"
      ]
    },
    {
      "cell_type": "code",
      "execution_count": 192,
      "metadata": {
        "colab": {
          "base_uri": "https://localhost:8080/"
        },
        "id": "YxcpWPtAP0-Y",
        "outputId": "e4269dca-8040-4e20-afbb-658cc5bcdd11"
      },
      "outputs": [
        {
          "data": {
            "text/plain": [
              "3.4"
            ]
          },
          "execution_count": 192,
          "metadata": {},
          "output_type": "execute_result"
        }
      ],
      "source": [
        "# Tính giá trị tuyệt đối\n",
        "abs(-3.4)"
      ]
    },
    {
      "cell_type": "markdown",
      "metadata": {
        "id": "ccnamGQdI8TF"
      },
      "source": [
        "Bạn có thể tìm hiểu thêm chi tiết các hàm có sẵn trong python tại [đây](https://www.w3schools.com/python/python_ref_functions.asp)"
      ]
    },
    {
      "cell_type": "markdown",
      "metadata": {
        "id": "ge8Z9dzmP0-d"
      },
      "source": [
        "## CONTAINERS\n",
        "\n",
        "Ngoài các kiểu dữ liệu cơ bản trong Python còn một số kiểu dữ liệu dùng để chứa nhiều phần tử được gọi là các containers (lớp chứa). Các container có sẵn trong python là có sẵn là: `list`, `dict`, `set` và `tuple`."
      ]
    },
    {
      "cell_type": "markdown",
      "metadata": {
        "id": "YpQCnDvCP0-d"
      },
      "source": [
        "### list\n",
        "\n",
        "Trong Python, `list` tương tự như khái niệm mảng trong các ngôn ngữ lập trình khác, nhưng `list` trong Python có thể thay đổi kích thước và chứa các phần tử có kiểu dữ liệu khác nhau."
      ]
    },
    {
      "cell_type": "code",
      "execution_count": 193,
      "metadata": {
        "colab": {
          "base_uri": "https://localhost:8080/"
        },
        "id": "EA60-kLrP0-d",
        "outputId": "1ba493a7-7e1e-46b4-d9d1-3190f4ff134a"
      },
      "outputs": [
        {
          "name": "stdout",
          "output_type": "stream",
          "text": [
            "[3, 1, 2] 2\n",
            "2\n",
            "[3, 1, 'foo']\n",
            "[3, 1, 'foo', 'bar']\n",
            "bar [3, 1, 'foo']\n"
          ]
        }
      ],
      "source": [
        "xs = [3, 1, 2]  # Create a list\n",
        "print(xs, xs[2])  # Prints \"[3, 1, 2] 2\"\n",
        "print(xs[-1])  # Negative indices count from the end of the list; prints \"2\"\n",
        "xs[2] = \"foo\"  # Lists can contain elements of different types\n",
        "print(xs)  # Prints \"[3, 1, 'foo']\"\n",
        "xs.append(\"bar\")  # Add a new element to the end of the list\n",
        "print(xs)  # Prints \"[3, 1, 'foo', 'bar']\"\n",
        "x = xs.pop()  # Remove and return the last element of the list\n",
        "print(x, xs)  # Prints \"bar [3, 1, 'foo']\""
      ]
    },
    {
      "cell_type": "markdown",
      "metadata": {
        "id": "iPXuK2tgP0-d"
      },
      "source": [
        "Bạn có thể tìm hiểu thêm chi tiết tại [đây](https://www.w3schools.com/python/python_lists_methods.asp)"
      ]
    },
    {
      "cell_type": "markdown",
      "metadata": {
        "id": "XcnNekkSP0-d"
      },
      "source": [
        "#### Slicing\n",
        "\n",
        "Ngoài việc truy cập từng phần tử của `list` , Python còn cung cấp cú pháp để truy cập các `list` con như dưới đây được gọi là `slicing`."
      ]
    },
    {
      "cell_type": "code",
      "execution_count": 194,
      "metadata": {
        "colab": {
          "base_uri": "https://localhost:8080/"
        },
        "id": "S1E-p6HcP0-d",
        "outputId": "75531229-db88-446d-8abf-7c684997816a"
      },
      "outputs": [
        {
          "name": "stdout",
          "output_type": "stream",
          "text": [
            "[0, 1, 2, 3, 4]\n",
            "[2, 3]\n",
            "[2, 3, 4]\n",
            "[0, 1]\n",
            "[0, 1, 2, 3, 4]\n",
            "[0, 1, 2, 3]\n",
            "[0, 1, 8, 9, 4]\n"
          ]
        }
      ],
      "source": [
        "nums = list(range(5))  # range is a built-in function that creates a list of integers\n",
        "print(nums)  # Prints \"[0, 1, 2, 3, 4]\"\n",
        "print(nums[2:4])  # Get a slice from index 2 to 4 (exclusive); prints \"[2, 3]\"\n",
        "print(nums[2:])  # Get a slice from index 2 to the end; prints \"[2, 3, 4]\"\n",
        "print(nums[:2])  # Get a slice from the start to index 2 (exclusive); prints \"[0, 1]\"\n",
        "print(nums[:])  # Get a slice of the whole list; prints \"[0, 1, 2, 3, 4]\"\n",
        "print(nums[:-1])  # Slice indices can be negative; prints \"[0, 1, 2, 3]\"\n",
        "nums[2:4] = [8, 9]  # Assign a new sublist to a slice\n",
        "print(nums)  # Prints \"[0, 1, 8, 9, 4]\""
      ]
    },
    {
      "cell_type": "markdown",
      "metadata": {
        "id": "HMRQfDsCP0-d"
      },
      "source": [
        "Slicing sẽ được đề cập lại ở phần sau, sử dụng cùng với các mảng numpy."
      ]
    },
    {
      "cell_type": "markdown",
      "metadata": {
        "id": "7n1kNrZMP0-d"
      },
      "source": [
        "#### Duyệt list\n",
        "\n",
        "Bạn có thể duyệt qua các phần tử của `list` như sau:"
      ]
    },
    {
      "cell_type": "markdown",
      "metadata": {
        "id": "h2ERELiKP0-e"
      },
      "source": [
        "C1: Dùng từ khóa `in`"
      ]
    },
    {
      "cell_type": "code",
      "execution_count": 195,
      "metadata": {
        "colab": {
          "base_uri": "https://localhost:8080/"
        },
        "id": "m9Z69mgSP0-e",
        "outputId": "cc9e0ead-35d5-44e8-e869-4ae5d90d9e72"
      },
      "outputs": [
        {
          "name": "stdout",
          "output_type": "stream",
          "text": [
            "[0, 1, 4, 9, 16]\n"
          ]
        }
      ],
      "source": [
        "nums = [0, 1, 2, 3, 4]\n",
        "squares = []\n",
        "for x in nums:\n",
        "    squares.append(x**2)\n",
        "print(squares)  # Prints [0, 1, 4, 9, 16]"
      ]
    },
    {
      "cell_type": "markdown",
      "metadata": {
        "id": "Aea9o7FwP0-e"
      },
      "source": [
        "C2: Sử dụng các kết quả của hàm `range(...)`"
      ]
    },
    {
      "cell_type": "code",
      "execution_count": 196,
      "metadata": {
        "colab": {
          "base_uri": "https://localhost:8080/"
        },
        "id": "F7puhQIEP0-f",
        "outputId": "bc17b09c-85f8-48f8-cd44-569bbcca0aea"
      },
      "outputs": [
        {
          "name": "stdout",
          "output_type": "stream",
          "text": [
            "[0, 1, 4, 9, 16]\n"
          ]
        }
      ],
      "source": [
        "nums = [0, 1, 2, 3, 4]\n",
        "squares = []\n",
        "for i in range(len(nums)):\n",
        "    squares.append(nums[i] ** 2)\n",
        "print(squares)"
      ]
    },
    {
      "cell_type": "code",
      "execution_count": 197,
      "metadata": {
        "colab": {
          "base_uri": "https://localhost:8080/"
        },
        "id": "z0kiHM6-P0-f",
        "outputId": "cd9f9dff-1bb5-4995-abeb-d11352459c60"
      },
      "outputs": [
        {
          "name": "stdout",
          "output_type": "stream",
          "text": [
            "[4, 9, 16]\n"
          ]
        }
      ],
      "source": [
        "nums = [0, 1, 2, 3, 4]\n",
        "squares = []\n",
        "for i in range(2, len(nums)):\n",
        "    squares.append(nums[i] ** 2)\n",
        "print(squares)"
      ]
    },
    {
      "cell_type": "markdown",
      "metadata": {
        "id": "zvQrQSwcP0-f"
      },
      "source": [
        "C3: sử dụng giống cú pháp Select..From..Where như trong SQL"
      ]
    },
    {
      "cell_type": "code",
      "execution_count": 198,
      "metadata": {
        "colab": {
          "base_uri": "https://localhost:8080/"
        },
        "id": "JTG4kTK_P0-f",
        "outputId": "f272d000-5f56-4251-be2f-a03b66e9944f"
      },
      "outputs": [
        {
          "name": "stdout",
          "output_type": "stream",
          "text": [
            "[0, 1, 4, 9, 16]\n"
          ]
        }
      ],
      "source": [
        "nums = [0, 1, 2, 3, 4]\n",
        "squares = [x**2 for x in nums]\n",
        "print(squares)  # Prints [0, 1, 4, 9, 16]"
      ]
    },
    {
      "cell_type": "markdown",
      "metadata": {
        "id": "Eja8TdLSP0-f"
      },
      "source": [
        "Các list comprehension cũng có thể chứa các điều kiện:"
      ]
    },
    {
      "cell_type": "code",
      "execution_count": 199,
      "metadata": {
        "colab": {
          "base_uri": "https://localhost:8080/"
        },
        "id": "4W0WL7FAP0-f",
        "outputId": "20e2bece-26ea-4245-9788-092bcd3521b2"
      },
      "outputs": [
        {
          "name": "stdout",
          "output_type": "stream",
          "text": [
            "[0, 4, 16]\n"
          ]
        }
      ],
      "source": [
        "nums = [0, 1, 2, 3, 4]\n",
        "even_squares = [x**2 for x in nums if x % 2 == 0]\n",
        "print(even_squares)  # Prints \"[0, 4, 16]\""
      ]
    },
    {
      "cell_type": "markdown",
      "metadata": {
        "id": "3IQPBugqP0-e"
      },
      "source": [
        "C4: Trong trường hợp bạn muốn truy cập đến chỉ mục của phần tử trong thân vòng lặp, sử dụng hàm dựng sẵn `enumerate`:"
      ]
    },
    {
      "cell_type": "code",
      "execution_count": 200,
      "metadata": {
        "colab": {
          "base_uri": "https://localhost:8080/"
        },
        "id": "qsn-N2eWP0-e",
        "outputId": "9033cd31-8f33-47c2-817e-8035904d95bb"
      },
      "outputs": [
        {
          "name": "stdout",
          "output_type": "stream",
          "text": [
            "#1: cat\n",
            "#2: dog\n",
            "#3: monkey\n"
          ]
        }
      ],
      "source": [
        "animals = [\"cat\", \"dog\", \"monkey\"]\n",
        "for idx, animal in enumerate(animals):\n",
        "    print(\"#%d: %s\" % (idx + 1, animal))"
      ]
    },
    {
      "cell_type": "markdown",
      "metadata": {
        "id": "4tFBGUrNP0-f"
      },
      "source": [
        "### dict\n",
        "\n",
        "Một từ điển `dict` chứa cặp (key, value), tương tự như `Map` trong ngôn ngữ `Java`, trong đó các `key` là duy nhất. Bạn có thể sử dụng nó như sau:"
      ]
    },
    {
      "cell_type": "code",
      "execution_count": 201,
      "metadata": {
        "colab": {
          "base_uri": "https://localhost:8080/"
        },
        "id": "0tjO-TJqP0-f",
        "outputId": "e779bd2d-e61e-4a92-b387-0905693c0aaa"
      },
      "outputs": [
        {
          "name": "stdout",
          "output_type": "stream",
          "text": [
            "cute\n",
            "True\n",
            "wet\n",
            "N/A\n",
            "wet\n",
            "N/A\n"
          ]
        }
      ],
      "source": [
        "d = {\"cat\": \"cute\", \"dog\": \"furry\"}  # Create a new dictionary with some data\n",
        "print(d[\"cat\"])  # Get an entry from a dictionary; prints \"cute\"\n",
        "print(\"cat\" in d)  # Check if a dictionary has a given key; prints \"True\"\n",
        "d[\"fish\"] = \"wet\"  # Set an entry in a dictionary\n",
        "print(d[\"fish\"])  # Prints \"wet\"\n",
        "# print(d['monkey'])  # KeyError: 'monkey' not a key of d\n",
        "print(d.get(\"monkey\", \"N/A\"))  # Get an element with a default; prints \"N/A\"\n",
        "print(d.get(\"fish\", \"N/A\"))  # Get an element with a default; prints \"wet\"\n",
        "del d[\"fish\"]  # Remove an element from a dictionary\n",
        "print(d.get(\"fish\", \"N/A\"))  # \"fish\" is no longer a key; prints \"N/A\""
      ]
    },
    {
      "cell_type": "markdown",
      "metadata": {
        "id": "-wMHalKwP0-g"
      },
      "source": [
        "Tìm hiểu thêm về `dict` tại [đây](https://www.w3schools.com/python/python_dictionaries_methods.asp)."
      ]
    },
    {
      "cell_type": "markdown",
      "metadata": {
        "id": "3cVWUMn-P0-g"
      },
      "source": [
        "#### Duyệt dict\n",
        "\n",
        "Có thể dễ dàng duyệt qua các khóa trong một từ điển:"
      ]
    },
    {
      "cell_type": "code",
      "execution_count": 202,
      "metadata": {
        "colab": {
          "base_uri": "https://localhost:8080/"
        },
        "id": "tU1HAaUIP0-g",
        "outputId": "9174dd61-88cc-42f9-9c75-7ee77ef1dd94"
      },
      "outputs": [
        {
          "name": "stdout",
          "output_type": "stream",
          "text": [
            "A person has 2 legs\n",
            "A cat has 4 legs\n",
            "A spider has 8 legs\n"
          ]
        }
      ],
      "source": [
        "d = {\"person\": 2, \"cat\": 4, \"spider\": 8}\n",
        "for animal in d:\n",
        "    legs = d[animal]\n",
        "    print(\"A %s has %d legs\" % (animal, legs))"
      ]
    },
    {
      "cell_type": "markdown",
      "metadata": {
        "id": "7whDWQKpP0-g"
      },
      "source": [
        "Nếu bạn muốn truy cập đến các khóa và các giá trị tương ứng, sử dụng phương thức `items`:"
      ]
    },
    {
      "cell_type": "code",
      "execution_count": 203,
      "metadata": {
        "colab": {
          "base_uri": "https://localhost:8080/"
        },
        "id": "Hl7XK1AKP0-g",
        "outputId": "19c5d81a-e617-4e38-dd83-1a8a854356d3"
      },
      "outputs": [
        {
          "name": "stdout",
          "output_type": "stream",
          "text": [
            "A person has 2 legs\n",
            "A cat has 4 legs\n",
            "A spider has 8 legs\n"
          ]
        }
      ],
      "source": [
        "d = {\"person\": 2, \"cat\": 4, \"spider\": 8}\n",
        "for animal, legs in d.items():\n",
        "    print(\"A %s has %d legs\" % (animal, legs))"
      ]
    },
    {
      "cell_type": "markdown",
      "metadata": {
        "id": "KntEmIWWP0-g"
      },
      "source": [
        "Tạo dict mới từ dict có sẵn thỏa mãn một số điều kiện. Ví dụ:"
      ]
    },
    {
      "cell_type": "code",
      "execution_count": 204,
      "metadata": {
        "colab": {
          "base_uri": "https://localhost:8080/"
        },
        "id": "WJauaJ9AP0-g",
        "outputId": "c5ec1085-d49b-4ad0-d256-20326582a87c"
      },
      "outputs": [
        {
          "name": "stdout",
          "output_type": "stream",
          "text": [
            "{0: 0, 2: 4, 4: 16}\n"
          ]
        }
      ],
      "source": [
        "nums = [0, 1, 2, 3, 4]\n",
        "even_num_to_square = {x: x**2 for x in nums if x % 2 == 0}\n",
        "print(even_num_to_square)  # Prints \"{0: 0, 2: 4, 4: 16}\""
      ]
    },
    {
      "cell_type": "markdown",
      "metadata": {
        "id": "LfYbQyBNP0-g"
      },
      "source": [
        "### set\n",
        "\n",
        "Một `set` là một tập hợp không xét thứ tự của các phần tử riêng biệt. Xem xét một ví dụ đơn giản sau:"
      ]
    },
    {
      "cell_type": "code",
      "execution_count": 205,
      "metadata": {
        "colab": {
          "base_uri": "https://localhost:8080/"
        },
        "id": "fJk_wjvMP0-g",
        "outputId": "7dab46a7-bda0-4c2a-95eb-f0097d17329e"
      },
      "outputs": [
        {
          "name": "stdout",
          "output_type": "stream",
          "text": [
            "True\n",
            "False\n",
            "True\n",
            "3\n",
            "3\n",
            "2\n"
          ]
        }
      ],
      "source": [
        "animals = {\"cat\", \"dog\"}\n",
        "print(\"cat\" in animals)  # Check if an element is in a set; prints \"True\"\n",
        "print(\"fish\" in animals)  # prints \"False\"\n",
        "animals.add(\"fish\")  # Add an element to a set\n",
        "print(\"fish\" in animals)  # Prints \"True\"\n",
        "print(len(animals))  # Number of elements in a set; prints \"3\"\n",
        "animals.add(\"cat\")  # Adding an element that is already in the set does nothing\n",
        "print(len(animals))  # Prints \"3\"\n",
        "animals.remove(\"cat\")  # Remove an element from a set\n",
        "print(len(animals))  # Prints \"2\""
      ]
    },
    {
      "cell_type": "markdown",
      "metadata": {
        "id": "2ET1aN6SP0-g"
      },
      "source": [
        "Bạn có thể tìm hiểu thêm về `set` tại [đây](https://www.w3schools.com/python/python_sets_methods.asp)."
      ]
    },
    {
      "cell_type": "markdown",
      "metadata": {
        "id": "ye_f3h15P0-h"
      },
      "source": [
        "Duyệt qua `set` tương tự như duyệt qua `list`; tuy nhiên vì `set` không có thứ tự, bạn không thể truy cập các phần tử thông qua chỉ mục (`id`)"
      ]
    },
    {
      "cell_type": "code",
      "execution_count": 206,
      "metadata": {
        "colab": {
          "base_uri": "https://localhost:8080/"
        },
        "id": "EkKs1TdnP0-h",
        "outputId": "8a7cae5e-8953-42c0-fc4a-ea48298a70b8"
      },
      "outputs": [
        {
          "name": "stdout",
          "output_type": "stream",
          "text": [
            "{'cat', 'dog', 'fish'}\n"
          ]
        }
      ],
      "source": [
        "animals = {\"cat\", \"dog\", \"fish\"}\n",
        "print(animals)"
      ]
    },
    {
      "cell_type": "code",
      "execution_count": 207,
      "metadata": {
        "colab": {
          "base_uri": "https://localhost:8080/",
          "height": 193
        },
        "id": "k_vC9yW5DM6Y",
        "outputId": "a07cbc92-2f5c-4078-cf9f-5b17443bf145"
      },
      "outputs": [
        {
          "ename": "TypeError",
          "evalue": "'set' object is not subscriptable",
          "output_type": "error",
          "traceback": [
            "\u001b[0;31m---------------------------------------------------------------------------\u001b[0m",
            "\u001b[0;31mTypeError\u001b[0m                                 Traceback (most recent call last)",
            "\u001b[0;32m<ipython-input-207-af1bac23fba9>\u001b[0m in \u001b[0;36m<cell line: 2>\u001b[0;34m()\u001b[0m\n\u001b[1;32m      1\u001b[0m \u001b[0;31m# This statement will raise error\u001b[0m\u001b[0;34m\u001b[0m\u001b[0;34m\u001b[0m\u001b[0m\n\u001b[0;32m----> 2\u001b[0;31m \u001b[0manimals\u001b[0m\u001b[0;34m[\u001b[0m\u001b[0;36m1\u001b[0m\u001b[0;34m]\u001b[0m\u001b[0;34m\u001b[0m\u001b[0;34m\u001b[0m\u001b[0m\n\u001b[0m",
            "\u001b[0;31mTypeError\u001b[0m: 'set' object is not subscriptable"
          ]
        }
      ],
      "source": [
        "# This statement will raise error\n",
        "animals[1]"
      ]
    },
    {
      "cell_type": "code",
      "execution_count": 208,
      "metadata": {
        "colab": {
          "base_uri": "https://localhost:8080/"
        },
        "id": "o5537IOaDje2",
        "outputId": "ebdc8ddb-3c54-429b-973f-37c52d4abc79"
      },
      "outputs": [
        {
          "name": "stdout",
          "output_type": "stream",
          "text": [
            "cat\n",
            "dog\n",
            "fish\n"
          ]
        }
      ],
      "source": [
        "# Duyệt bằng toán tử in\n",
        "for a in animals:\n",
        "    print(a)"
      ]
    },
    {
      "cell_type": "code",
      "execution_count": 209,
      "metadata": {
        "colab": {
          "base_uri": "https://localhost:8080/"
        },
        "id": "6pnlgIUzD6Fw",
        "outputId": "a7836d8b-2c07-4f3b-f8f2-77dc90586935"
      },
      "outputs": [
        {
          "name": "stdout",
          "output_type": "stream",
          "text": [
            "#1: cat\n",
            "#2: dog\n",
            "#3: fish\n"
          ]
        }
      ],
      "source": [
        "# Duyệt sử dụng hàm `enumerate()`\n",
        "for idx, animal in enumerate(animals):\n",
        "    print(\"#%d: %s\" % (idx + 1, animal))"
      ]
    },
    {
      "cell_type": "code",
      "execution_count": 210,
      "metadata": {
        "colab": {
          "base_uri": "https://localhost:8080/"
        },
        "id": "c2MAqZlUP0-i",
        "outputId": "7306671a-ca8a-4c82-e9b8-ccb8ba4a2112"
      },
      "outputs": [
        {
          "name": "stdout",
          "output_type": "stream",
          "text": [
            "{0, 1, 2, 3, 4, 5}\n"
          ]
        }
      ],
      "source": [
        "# Cách khác\n",
        "from math import sqrt\n",
        "\n",
        "nums = {int(sqrt(x)) for x in range(30)}\n",
        "print(nums)  # Prints \"{0, 1, 2, 3, 4, 5}\""
      ]
    },
    {
      "cell_type": "markdown",
      "metadata": {
        "id": "WoxW3yh5P0-i"
      },
      "source": [
        "### tuple\n",
        "Một tuple là một danh sách có thứ tự của các phần tử và danh sách này không thay đổi được. Một `tuple` có nhiều điểm tương tự như `list`; điểm khác biệt quan trọng nhất là `tuple` có thể được dùng như các khóa của `dict` hay các phần tử của `set`, `list` thì không thể. Sau đây là một ví dụ:"
      ]
    },
    {
      "cell_type": "code",
      "execution_count": 211,
      "metadata": {
        "colab": {
          "base_uri": "https://localhost:8080/"
        },
        "id": "zB8hNIwZP0-i",
        "outputId": "f5724a91-f01e-4141-98ed-7ad92ee33894"
      },
      "outputs": [
        {
          "name": "stdout",
          "output_type": "stream",
          "text": [
            "<class 'tuple'>\n",
            "5\n",
            "1\n"
          ]
        }
      ],
      "source": [
        "d = {(x, x + 1): x for x in range(10)}  # Create a dictionary with tuple keys\n",
        "t = (5, 6)  # Create a tuple\n",
        "print(type(t))  # Prints \"<class 'tuple'>\"\n",
        "print(d[t])  # Prints \"5\"\n",
        "print(d[(1, 2)])  # Prints \"1\""
      ]
    },
    {
      "cell_type": "markdown",
      "metadata": {
        "id": "9t0NtSzwP0-j"
      },
      "source": [
        "Tài liệu chi tiết về `tuple` có thể xem tại [đây](https://www.w3schools.com/python/python_tuples.asp)."
      ]
    },
    {
      "cell_type": "markdown",
      "metadata": {
        "id": "arm_LY5EP0-P"
      },
      "source": [
        "---\n",
        "\n",
        "## TÓM TẮT"
      ]
    },
    {
      "cell_type": "markdown",
      "metadata": {
        "id": "3WpfNcDnP0-P"
      },
      "source": [
        "- Kiểu dữ liệu cơ bản\n",
        "\n",
        "    | Type | Description |\n",
        "    |----|---|\n",
        "    | int  | Integer |\n",
        "    | float  | Floating-point number |\n",
        "    | str  | String |\n",
        "    | bool  | Boolean (True or False) |"
      ]
    },
    {
      "cell_type": "markdown",
      "metadata": {
        "id": "P5yjDFaw-04-"
      },
      "source": [
        "- Các toán tử\n",
        "\n",
        "    | Toán tử | Ghi chú |\n",
        "    |----|---|\n",
        "    | +  | cộng |\n",
        "    | -  | trừ |\n",
        "    | /  | chia |\n",
        "    | //  | chia lấy phần nguyên |\n",
        "    | *  | nhân |\n",
        "    | %  | chia lấy phần dư |\n",
        "    | **  | lũy thừa |\n",
        "\n"
      ]
    },
    {
      "cell_type": "markdown",
      "metadata": {
        "id": "nnP_dL_e-04_"
      },
      "source": [
        "- Luồng điều khiển\n",
        "  - Câu lệnh lựa chọn (`if, if-else, if-elif-else`)\n",
        "  - Câu lệnh lặp (`while, for`)\n",
        "  - Hàm\n",
        "\n"
      ]
    },
    {
      "cell_type": "markdown",
      "metadata": {
        "id": "zw9iX5v5-04_"
      },
      "source": [
        "- Các lớp chứa (containers)\n",
        "  - `list`\n",
        "  - `dict`\n",
        "  - `set`\n",
        "  - `tuple`\n",
        "\n"
      ]
    },
    {
      "cell_type": "markdown",
      "metadata": {
        "id": "Vj7vDuC5-04_"
      },
      "source": [
        "- Các hàm thông dụng (built-in funciton)\n",
        "\n",
        "\n",
        "    | Hàm | Ghi chú |\n",
        "    |----|---|\n",
        "    | len()  | lấy độ dài |\n",
        "    | type()  | xem kiểu dữ liệu |\n",
        "    | range()  | trả về dãy số có thứ tự|\n",
        "    | str()  | ép kiểu sang kiểu chuỗi |\n",
        "    | pow()  | lũy thừa |\n",
        "    | round() | làm tròn |\n",
        "    | abs()  | tính trị tuyệt đối |"
      ]
    },
    {
      "cell_type": "markdown",
      "metadata": {
        "id": "J2wj-R7pP0-P"
      },
      "source": [
        "---\n",
        "\n",
        "## THAM KHẢO\n",
        "\n",
        "Tài liệu sẽ hướng dẫn các chủ đề cần thiết để phục vụ môn học, nếu có nhu cầu tìm hiểu và học thêm các bạn có thể tham khảo từ các nguồn sau:\n",
        "\n",
        "- [The Python Tutorial](https://docs.python.org/3/tutorial/index.html) (official)\n",
        "- [W3School Python](https://www.w3schools.com/python/default.asp)\n",
        "- [Tutorialspoint](https://www.tutorialspoint.com/python/index.htm)\n",
        "\n",
        "<br/>\n",
        "\n",
        "---"
      ]
    },
    {
      "cell_type": "markdown",
      "metadata": {
        "id": "cEOGzvWJ-04_"
      },
      "source": [
        "## BÀI TẬP\n",
        "\n",
        "1. In toàn bộ các số chẵn từ 1000 đến 2000\n"
      ]
    },
    {
      "cell_type": "code",
      "execution_count": 212,
      "metadata": {
        "colab": {
          "base_uri": "https://localhost:8080/",
          "height": 122
        },
        "id": "5oSfBZPi-3tu",
        "outputId": "d76e3fd9-3cf0-4918-aa7a-51da2daae7d7"
      },
      "outputs": [
        {
          "data": {
            "application/vnd.google.colaboratory.intrinsic+json": {
              "type": "string"
            },
            "text/plain": [
              "'1000 1001 1002 1003 1004 1005 1006 1007 1008 1009 1010 1011 1012 1013 1014 1015 1016 1017 1018 1019 1020 1021 1022 1023 1024 1025 1026 1027 1028 1029 1030 1031 1032 1033 1034 1035 1036 1037 1038 1039 1040 1041 1042 1043 1044 1045 1046 1047 1048 1049 1050 1051 1052 1053 1054 1055 1056 1057 1058 1059 1060 1061 1062 1063 1064 1065 1066 1067 1068 1069 1070 1071 1072 1073 1074 1075 1076 1077 1078 1079 1080 1081 1082 1083 1084 1085 1086 1087 1088 1089 1090 1091 1092 1093 1094 1095 1096 1097 1098 1099 1100 1101 1102 1103 1104 1105 1106 1107 1108 1109 1110 1111 1112 1113 1114 1115 1116 1117 1118 1119 1120 1121 1122 1123 1124 1125 1126 1127 1128 1129 1130 1131 1132 1133 1134 1135 1136 1137 1138 1139 1140 1141 1142 1143 1144 1145 1146 1147 1148 1149 1150 1151 1152 1153 1154 1155 1156 1157 1158 1159 1160 1161 1162 1163 1164 1165 1166 1167 1168 1169 1170 1171 1172 1173 1174 1175 1176 1177 1178 1179 1180 1181 1182 1183 1184 1185 1186 1187 1188 1189 1190 1191 1192 1193 1194 1195 1196 1197 1198 1199 1200 1201 1202 1203 1204 1205 1206 1207 1208 1209 1210 1211 1212 1213 1214 1215 1216 1217 1218 1219 1220 1221 1222 1223 1224 1225 1226 1227 1228 1229 1230 1231 1232 1233 1234 1235 1236 1237 1238 1239 1240 1241 1242 1243 1244 1245 1246 1247 1248 1249 1250 1251 1252 1253 1254 1255 1256 1257 1258 1259 1260 1261 1262 1263 1264 1265 1266 1267 1268 1269 1270 1271 1272 1273 1274 1275 1276 1277 1278 1279 1280 1281 1282 1283 1284 1285 1286 1287 1288 1289 1290 1291 1292 1293 1294 1295 1296 1297 1298 1299 1300 1301 1302 1303 1304 1305 1306 1307 1308 1309 1310 1311 1312 1313 1314 1315 1316 1317 1318 1319 1320 1321 1322 1323 1324 1325 1326 1327 1328 1329 1330 1331 1332 1333 1334 1335 1336 1337 1338 1339 1340 1341 1342 1343 1344 1345 1346 1347 1348 1349 1350 1351 1352 1353 1354 1355 1356 1357 1358 1359 1360 1361 1362 1363 1364 1365 1366 1367 1368 1369 1370 1371 1372 1373 1374 1375 1376 1377 1378 1379 1380 1381 1382 1383 1384 1385 1386 1387 1388 1389 1390 1391 1392 1393 1394 1395 1396 1397 1398 1399 1400 1401 1402 1403 1404 1405 1406 1407 1408 1409 1410 1411 1412 1413 1414 1415 1416 1417 1418 1419 1420 1421 1422 1423 1424 1425 1426 1427 1428 1429 1430 1431 1432 1433 1434 1435 1436 1437 1438 1439 1440 1441 1442 1443 1444 1445 1446 1447 1448 1449 1450 1451 1452 1453 1454 1455 1456 1457 1458 1459 1460 1461 1462 1463 1464 1465 1466 1467 1468 1469 1470 1471 1472 1473 1474 1475 1476 1477 1478 1479 1480 1481 1482 1483 1484 1485 1486 1487 1488 1489 1490 1491 1492 1493 1494 1495 1496 1497 1498 1499 1500 1501 1502 1503 1504 1505 1506 1507 1508 1509 1510 1511 1512 1513 1514 1515 1516 1517 1518 1519 1520 1521 1522 1523 1524 1525 1526 1527 1528 1529 1530 1531 1532 1533 1534 1535 1536 1537 1538 1539 1540 1541 1542 1543 1544 1545 1546 1547 1548 1549 1550 1551 1552 1553 1554 1555 1556 1557 1558 1559 1560 1561 1562 1563 1564 1565 1566 1567 1568 1569 1570 1571 1572 1573 1574 1575 1576 1577 1578 1579 1580 1581 1582 1583 1584 1585 1586 1587 1588 1589 1590 1591 1592 1593 1594 1595 1596 1597 1598 1599 1600 1601 1602 1603 1604 1605 1606 1607 1608 1609 1610 1611 1612 1613 1614 1615 1616 1617 1618 1619 1620 1621 1622 1623 1624 1625 1626 1627 1628 1629 1630 1631 1632 1633 1634 1635 1636 1637 1638 1639 1640 1641 1642 1643 1644 1645 1646 1647 1648 1649 1650 1651 1652 1653 1654 1655 1656 1657 1658 1659 1660 1661 1662 1663 1664 1665 1666 1667 1668 1669 1670 1671 1672 1673 1674 1675 1676 1677 1678 1679 1680 1681 1682 1683 1684 1685 1686 1687 1688 1689 1690 1691 1692 1693 1694 1695 1696 1697 1698 1699 1700 1701 1702 1703 1704 1705 1706 1707 1708 1709 1710 1711 1712 1713 1714 1715 1716 1717 1718 1719 1720 1721 1722 1723 1724 1725 1726 1727 1728 1729 1730 1731 1732 1733 1734 1735 1736 1737 1738 1739 1740 1741 1742 1743 1744 1745 1746 1747 1748 1749 1750 1751 1752 1753 1754 1755 1756 1757 1758 1759 1760 1761 1762 1763 1764 1765 1766 1767 1768 1769 1770 1771 1772 1773 1774 1775 1776 1777 1778 1779 1780 1781 1782 1783 1784 1785 1786 1787 1788 1789 1790 1791 1792 1793 1794 1795 1796 1797 1798 1799 1800 1801 1802 1803 1804 1805 1806 1807 1808 1809 1810 1811 1812 1813 1814 1815 1816 1817 1818 1819 1820 1821 1822 1823 1824 1825 1826 1827 1828 1829 1830 1831 1832 1833 1834 1835 1836 1837 1838 1839 1840 1841 1842 1843 1844 1845 1846 1847 1848 1849 1850 1851 1852 1853 1854 1855 1856 1857 1858 1859 1860 1861 1862 1863 1864 1865 1866 1867 1868 1869 1870 1871 1872 1873 1874 1875 1876 1877 1878 1879 1880 1881 1882 1883 1884 1885 1886 1887 1888 1889 1890 1891 1892 1893 1894 1895 1896 1897 1898 1899 1900 1901 1902 1903 1904 1905 1906 1907 1908 1909 1910 1911 1912 1913 1914 1915 1916 1917 1918 1919 1920 1921 1922 1923 1924 1925 1926 1927 1928 1929 1930 1931 1932 1933 1934 1935 1936 1937 1938 1939 1940 1941 1942 1943 1944 1945 1946 1947 1948 1949 1950 1951 1952 1953 1954 1955 1956 1957 1958 1959 1960 1961 1962 1963 1964 1965 1966 1967 1968 1969 1970 1971 1972 1973 1974 1975 1976 1977 1978 1979 1980 1981 1982 1983 1984 1985 1986 1987 1988 1989 1990 1991 1992 1993 1994 1995 1996 1997 1998 1999 2000'"
            ]
          },
          "execution_count": 212,
          "metadata": {},
          "output_type": "execute_result"
        }
      ],
      "source": [
        "\" \".join([str(i) for i in range(1000, 2001)])"
      ]
    },
    {
      "cell_type": "markdown",
      "metadata": {
        "id": "n1_6Oirg-04_"
      },
      "source": [
        "2. Viết chương trình tìm tất cả các số chia hết cho 7 nhưng không phải bội số của 5, nằm trong đoạn 2000 và 3200 (tính cả 2000 và 3200). Các số thu được sẽ được in thành chuỗi trên một dòng, cách nhau bằng dấu phẩy"
      ]
    },
    {
      "cell_type": "code",
      "execution_count": 213,
      "metadata": {
        "colab": {
          "base_uri": "https://localhost:8080/",
          "height": 53
        },
        "id": "nKr38BjU-_hX",
        "outputId": "08774ea4-8ef6-4941-f35e-0157f75307c8"
      },
      "outputs": [
        {
          "data": {
            "application/vnd.google.colaboratory.intrinsic+json": {
              "type": "string"
            },
            "text/plain": [
              "'2030, 2065, 2100, 2135, 2170, 2205, 2240, 2275, 2310, 2345, 2380, 2415, 2450, 2485, 2520, 2555, 2590, 2625, 2660, 2695, 2730, 2765, 2800, 2835, 2870, 2905, 2940, 2975, 3010, 3045, 3080, 3115, 3150, 3185'"
            ]
          },
          "execution_count": 213,
          "metadata": {},
          "output_type": "execute_result"
        }
      ],
      "source": [
        "\", \".join([str(i) for i in range(2000, 3201) if i % 7 == 0 and i % 5 == 0])"
      ]
    },
    {
      "cell_type": "markdown",
      "metadata": {
        "id": "MroM2jd7-04_"
      },
      "source": [
        "3. Với số nguyên n nhất định, hãy viết chương trình hiển thị dictionary chứa các cặp (i, i*i) ; biết i có giá trị từ 1..n\n"
      ]
    },
    {
      "cell_type": "code",
      "execution_count": 215,
      "metadata": {
        "colab": {
          "base_uri": "https://localhost:8080/"
        },
        "id": "rSA8nIpc_Slr",
        "outputId": "3c4263ee-0f07-429e-b1b2-6c3ea4f1ff43"
      },
      "outputs": [
        {
          "name": "stdout",
          "output_type": "stream",
          "text": [
            "n = 10\n"
          ]
        },
        {
          "data": {
            "text/plain": [
              "{1: 1,\n",
              " 2: 4,\n",
              " 3: 27,\n",
              " 4: 256,\n",
              " 5: 3125,\n",
              " 6: 46656,\n",
              " 7: 823543,\n",
              " 8: 16777216,\n",
              " 9: 387420489,\n",
              " 10: 10000000000}"
            ]
          },
          "execution_count": 215,
          "metadata": {},
          "output_type": "execute_result"
        }
      ],
      "source": [
        "{x: x**x for x in range(1, int(input(\"n = \")) + 1)}"
      ]
    },
    {
      "cell_type": "markdown",
      "metadata": {
        "id": "_jPtBW73-04_"
      },
      "source": [
        "4. Viết chương trình chấp nhận một chuỗi số, phân tách bằng dấu phẩy từ giao diện điều khiển, tạo ra một List và một tuple chứa mọi số.\n",
        "\n",
        "    Ví dụ:\n",
        "\n",
        "    ```\n",
        "    Đầu vào được cung cấp là '34,67,55,33,12,98' thì đầu ra là:\n",
        "\n",
        "    [34, 67, 55, 33, 12, 98]\n",
        "    (34, 67, 55, 33, 12, 98)\n",
        "    ```\n"
      ]
    },
    {
      "cell_type": "code",
      "execution_count": 216,
      "metadata": {
        "colab": {
          "base_uri": "https://localhost:8080/"
        },
        "id": "3nFJn5fl_jC7",
        "outputId": "2f90b1ec-cd57-4f57-f70c-34bbdedac16b"
      },
      "outputs": [
        {
          "name": "stdout",
          "output_type": "stream",
          "text": [
            "inp = 34,67,55,33,12,98\n",
            "\n",
            "list = [34, 67, 55, 33, 12, 98]\n",
            "tuple = (34, 67, 55, 33, 12, 98)\n",
            "\n"
          ]
        }
      ],
      "source": [
        "lstFour = list(map(int, input(\"inp = \").split(\",\")))\n",
        "\n",
        "print(\n",
        "    f\"\"\"\n",
        "list = {lstFour}\n",
        "tuple = {tuple(lstFour)}\n",
        "\"\"\"\n",
        ")"
      ]
    },
    {
      "cell_type": "markdown",
      "metadata": {
        "id": "umyppTI9-04_"
      },
      "source": [
        "5. Viết chương trình hỏi người dùng một số tự nhiên n và in ra tất cả ước số của con số đó."
      ]
    },
    {
      "cell_type": "code",
      "execution_count": 217,
      "metadata": {
        "colab": {
          "base_uri": "https://localhost:8080/",
          "height": 53
        },
        "id": "dBqb9ajWAlYr",
        "outputId": "672081e6-c6a7-40df-d1d7-7775cd822b69"
      },
      "outputs": [
        {
          "name": "stdout",
          "output_type": "stream",
          "text": [
            "n = 50\n"
          ]
        },
        {
          "data": {
            "application/vnd.google.colaboratory.intrinsic+json": {
              "type": "string"
            },
            "text/plain": [
              "'1 2 5 10 25'"
            ]
          },
          "execution_count": 217,
          "metadata": {},
          "output_type": "execute_result"
        }
      ],
      "source": [
        "n = int(input(\"n = \"))\n",
        "\n",
        "\" \".join([str(i) for i in range(1, n) if n % i == 0])"
      ]
    },
    {
      "cell_type": "markdown",
      "metadata": {
        "id": "fhzymvaU-04_"
      },
      "source": [
        "6. Viết chương trình Python tính tổng các phần tử của một danh sách."
      ]
    },
    {
      "cell_type": "code",
      "execution_count": 218,
      "metadata": {
        "colab": {
          "base_uri": "https://localhost:8080/"
        },
        "id": "wIJ0prLEBEtx",
        "outputId": "3c7d3704-0e0a-401e-b9da-348c01b356ab"
      },
      "outputs": [
        {
          "name": "stdout",
          "output_type": "stream",
          "text": [
            "lst = 1 2 3 4 5 6 69\n"
          ]
        },
        {
          "data": {
            "text/plain": [
              "90"
            ]
          },
          "execution_count": 218,
          "metadata": {},
          "output_type": "execute_result"
        }
      ],
      "source": [
        "sum(map(int, input(\"lst = \").split()))"
      ]
    },
    {
      "cell_type": "markdown",
      "metadata": {
        "id": "OvbODA-Q-04_"
      },
      "source": [
        "7. Nhập vào một list L có các phần tử bao gồm chuỗi và số nguyên, hãy tìm và in ra chuỗi có độ dài lớn nhất và số nguyên có giá trị nhỏ nhất"
      ]
    },
    {
      "cell_type": "code",
      "execution_count": 219,
      "metadata": {
        "colab": {
          "base_uri": "https://localhost:8080/"
        },
        "id": "khK7j_9XBVJY",
        "outputId": "a2a93790-312e-4ebc-c2d4-15e4e930c501"
      },
      "outputs": [
        {
          "name": "stdout",
          "output_type": "stream",
          "text": [
            "lst = sdad 1232 dasda 12312 dasda 123321 dsadsa 12321 dasd\n"
          ]
        },
        {
          "data": {
            "text/plain": [
              "('dsadsa', 1232)"
            ]
          },
          "execution_count": 219,
          "metadata": {},
          "output_type": "execute_result"
        }
      ],
      "source": [
        "lstSeven = input(\"lst = \").split()\n",
        "\n",
        "max([i for i in lstSeven if not i.isdigit()], key=len), min(\n",
        "    [int(i) for i in lstSeven if i.isdigit()]\n",
        ")"
      ]
    },
    {
      "cell_type": "markdown",
      "metadata": {
        "id": "1QhToLJQ-04_"
      },
      "source": [
        "8. Viết hàm đưa vào 1 list số nguyên L và 1 số nguyên dương a. Hãy tính và trả về giá trị trung bình của a phần tử đầu tiên trong L"
      ]
    },
    {
      "cell_type": "code",
      "execution_count": 220,
      "metadata": {
        "colab": {
          "base_uri": "https://localhost:8080/"
        },
        "id": "6XwpuhV4FlVw",
        "outputId": "466ffd00-73f7-4ae2-e90f-0000b22d5d10"
      },
      "outputs": [
        {
          "data": {
            "text/plain": [
              "2.5"
            ]
          },
          "execution_count": 220,
          "metadata": {},
          "output_type": "execute_result"
        }
      ],
      "source": [
        "meanToA = lambda arr, a: sum(arr[:a]) / len(arr[:a])\n",
        "\n",
        "meanToA([1, 2, 3, 4, 5, 6, 7], 4)"
      ]
    },
    {
      "cell_type": "markdown",
      "metadata": {
        "id": "tTCJja0A-04_"
      },
      "source": [
        "9. Viết hàm nhận vào một danh sách các số nguyên. Hãy viết hàm trả về một danh sách gồm các số không trùng nhau trong danh sách ban đầu"
      ]
    },
    {
      "cell_type": "code",
      "execution_count": 2,
      "metadata": {
        "colab": {
          "base_uri": "https://localhost:8080/"
        },
        "id": "CCCQR-8HGT9g",
        "outputId": "37d1f666-52be-4875-f354-35fb70f5cfc5"
      },
      "outputs": [
        {
          "name": "stdout",
          "output_type": "stream",
          "text": [
            "lst = 1 2 69 69 69 4 3 4 4 3 3\n"
          ]
        },
        {
          "data": {
            "text/plain": [
              "[1, 2, 3, 4, 69]"
            ]
          },
          "execution_count": 2,
          "metadata": {},
          "output_type": "execute_result"
        }
      ],
      "source": [
        "list(set(map(int, input(\"lst = \").strip().split())))"
      ]
    },
    {
      "cell_type": "markdown",
      "metadata": {
        "id": "sSiWnoVK-05A"
      },
      "source": [
        "10. Viết hàm có tham số đầu vào là một list L có các phần tử là chuỗi. Hãy tạo ra một dictionary D mã hóa, với mỗi một phần tử trong L được mã hóa thành một con số (theo thứ tự từ 0 tăng dần lên 1 đơn vị). Sau đó trả về list đã được mã hóa\n",
        "\n",
        "    Ví dụ:\n",
        "\n",
        "    ```\n",
        "    Cho L = [\"đen\",\"vàng\",\"xanh\",\"vàng\",\"xanh\",\"đỏ\",\"hồng\"]\n",
        "\n",
        "    Xây dựng dictionary mã hóa:\n",
        "    D = {'đen':0,'vàng':1,'xanh':2,'đỏ':3,'hồng':4}\n",
        "\n",
        "    Trả về List mã hóa:\n",
        "    L_mahoa = [0, 1, 2, 1, 2, 3, 4]\n",
        "    ```"
      ]
    },
    {
      "cell_type": "code",
      "execution_count": 3,
      "metadata": {
        "id": "1YeqTRuQGli3"
      },
      "outputs": [],
      "source": [
        "L = [\"đen\", \"vàng\", \"xanh\", \"vàng\", \"xanh\", \"đỏ\", \"hồng\"]\n",
        "\n",
        "D = {j: i for i, j in enumerate(set(L))}\n",
        "L_mahoa = [i for i in D.values()]"
      ]
    },
    {
      "cell_type": "code",
      "execution_count": 4,
      "metadata": {
        "colab": {
          "base_uri": "https://localhost:8080/"
        },
        "id": "3ZihzXdzGuZU",
        "outputId": "f803b6a7-bf19-4aad-916a-357c2ed878bd"
      },
      "outputs": [
        {
          "data": {
            "text/plain": [
              "({'vàng': 0, 'đỏ': 1, 'đen': 2, 'hồng': 3, 'xanh': 4}, [0, 1, 2, 3, 4])"
            ]
          },
          "execution_count": 4,
          "metadata": {},
          "output_type": "execute_result"
        }
      ],
      "source": [
        "D, L_mahoa"
      ]
    },
    {
      "cell_type": "markdown",
      "metadata": {
        "id": "8_90HF-7-05A"
      },
      "source": [
        "11. Viết hàm kết hợp hai dictionary dựa vào key như sau:\n",
        "\n",
        "    ```python\n",
        "    d1 = {'a': 100, 'b': 200, 'c':300}\n",
        "    d2 = {'a': 300, 'b': 200, 'd':400}\n",
        "    Counter({'a': 400, 'b': 400, 'd': 400, 'c': 300})\n",
        "    ```"
      ]
    },
    {
      "cell_type": "code",
      "execution_count": 5,
      "metadata": {
        "id": "iDl5owxyKMdM"
      },
      "outputs": [],
      "source": [
        "concatDict = lambda d1, d2: {\n",
        "    k: (d1.get(k, 0) + d2.get(k, 0)) for k in d1.keys() | d2.keys()\n",
        "}"
      ]
    },
    {
      "cell_type": "code",
      "execution_count": 6,
      "metadata": {
        "colab": {
          "base_uri": "https://localhost:8080/"
        },
        "id": "6qCmqHqiLYAa",
        "outputId": "eee4ae5c-d35b-4d9e-979d-df8bf1006d6f"
      },
      "outputs": [
        {
          "data": {
            "text/plain": [
              "{'b': 400, 'a': 400, 'd': 400, 'c': 300}"
            ]
          },
          "execution_count": 6,
          "metadata": {},
          "output_type": "execute_result"
        }
      ],
      "source": [
        "d1 = {\"a\": 100, \"b\": 200, \"c\": 300}\n",
        "d2 = {\"a\": 300, \"b\": 200, \"d\": 400}\n",
        "\n",
        "concatDict(d1, d2)"
      ]
    }
  ],
  "metadata": {
    "colab": {
      "include_colab_link": true,
      "provenance": [],
      "toc_visible": true
    },
    "kernelspec": {
      "display_name": "Python 3 (ipykernel)",
      "language": "python",
      "name": "python3"
    },
    "language_info": {
      "codemirror_mode": {
        "name": "ipython",
        "version": 3
      },
      "file_extension": ".py",
      "mimetype": "text/x-python",
      "name": "python",
      "nbconvert_exporter": "python",
      "pygments_lexer": "ipython3",
      "version": "3.11.5"
    }
  },
  "nbformat": 4,
  "nbformat_minor": 0
}
