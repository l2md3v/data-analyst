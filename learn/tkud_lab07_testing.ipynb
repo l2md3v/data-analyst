{
 "cells": [
  {
   "cell_type": "markdown",
   "metadata": {},
   "source": [
    "# Kiểm định\n",
    "\n",
    "Thủ tục kiểm định. \n",
    "\n",
    "- **B1** Xây dựng cặp giả thuyết và đối thuyết (Lưu ý: Ho luôn chứa dấu =)\n",
    "\n",
    "- **B2** Từ mức ý nghĩa, xác định miền bác bỏ của giả thuyết Ho\n",
    "\n",
    "- **B3** Từ mẫu tính trị kiểm định\n",
    "\n",
    "- **B4** So sánh B2, B3 rồi đưa ra kết luận"
   ]
  },
  {
   "cell_type": "code",
   "execution_count": 2,
   "metadata": {},
   "outputs": [],
   "source": [
    "import numpy as np\n",
    "import scipy.stats as st"
   ]
  },
  {
   "cell_type": "markdown",
   "metadata": {},
   "source": [
    "\n",
    "## VÍ DỤ 1\n",
    "\n",
    "Trọng lượng trung bình khi xuất chuồng ở một trại chăn nuôi trước là 3.3 kg/con. Năm nay người ta sử dụng một loại thức ăn mới, cân thử 15 con khi xuất chuồng ta được các số liệu như sau:\n",
    "   \n",
    "3.25, 2.50, 4.00, 3.75, 3.80,\n",
    "3.90, 4.02, 3.60, 3.80, 3.20, \n",
    "3.82, 3.40, 3.75, 4.00, 3.50\n",
    "    \n",
    "Giả thiết trọng lượng gà là đại lượng ngẫu nhiên phân phối theo quy luật chuẩn.\n",
    "\n",
    "a. Với mức ý nghĩa α = 0.05. Hãy cho kết luận về tác dụng của loại thức ăn này? \n",
    "\n",
    "b. Nếu trại chăn nuôi báo cáo trọng lượng trung bình khi xuất chuồng là 3.5 kg/con thì có chấp nhận được không? (α = 0.05).\n",
    "\n",
    "_Đáp án. (a) t = 3.0534. Thức ăn mới này làm thay đổi trọng lượng gà.\n",
    "(b) t = 1.1409. Trại chăn nuôi báo cáo trọng lượng trung bình khi xuất chuồng là chấp nhận được_\n"
   ]
  },
  {
   "cell_type": "markdown",
   "metadata": {},
   "source": [
    "### Hướng dẫn\n"
   ]
  },
  {
   "cell_type": "code",
   "execution_count": 3,
   "metadata": {},
   "outputs": [
    {
     "name": "stdout",
     "output_type": "stream",
     "text": [
      "- Trung bình mẫu: 3.6193\n",
      "- Độ lệch chuẩn mẫu: 0.405\n"
     ]
    }
   ],
   "source": [
    "# Dữ liệu\n",
    "data = [\n",
    "    3.25,\n",
    "    2.50,\n",
    "    4.00,\n",
    "    3.75,\n",
    "    3.80,\n",
    "    3.90,\n",
    "    4.02,\n",
    "    3.60,\n",
    "    3.80,\n",
    "    3.20,\n",
    "    3.82,\n",
    "    3.40,\n",
    "    3.75,\n",
    "    4.00,\n",
    "    3.50,\n",
    "]\n",
    "# Tính trung bình mẫu\n",
    "tb = np.mean(\n",
    "    [\n",
    "        3.25,\n",
    "        2.50,\n",
    "        4.00,\n",
    "        3.75,\n",
    "        3.80,\n",
    "        3.90,\n",
    "        4.02,\n",
    "        3.60,\n",
    "        3.80,\n",
    "        3.20,\n",
    "        3.82,\n",
    "        3.40,\n",
    "        3.75,\n",
    "        4.00,\n",
    "        3.50,\n",
    "    ]\n",
    ").round(4)\n",
    "tb = np.mean(data).round(4)\n",
    "dlc = np.std(data, ddof=1).round(4)\n",
    "\n",
    "print(f\"- Trung bình mẫu: {tb}\")\n",
    "print(f\"- Độ lệch chuẩn mẫu: {dlc}\")"
   ]
  },
  {
   "cell_type": "markdown",
   "metadata": {},
   "source": [
    "#### Câu a\n",
    "\n",
    "Tóm tắt: \n",
    "- $\\mu_0 = 3.3$\n",
    "- n = 15\n",
    "- $\\alpha = 0.05$\n",
    "- $\\bar{x} = 3.6193$"
   ]
  },
  {
   "cell_type": "markdown",
   "metadata": {},
   "source": [
    "**B1** Xây dựng giả thuyết kiểm định\n",
    "\n",
    "$$H_o: \\mu = 3.3$$\n",
    "\n",
    "$$H_a: \\mu <> 3.3$$\n",
    "\n"
   ]
  },
  {
   "cell_type": "markdown",
   "metadata": {},
   "source": [
    "**B2** Xác định miền bác bỏ\n",
    "\n",
    "$$\\{ t: |t| > t^{n-1}_{\\alpha/2} \\}$$\n",
    "\n",
    "hay \n",
    "\n",
    "$$\\{ t: |t| > 2.1448 \\}$$ "
   ]
  },
  {
   "cell_type": "code",
   "execution_count": 4,
   "metadata": {},
   "outputs": [
    {
     "data": {
      "text/plain": [
       "2.1448"
      ]
     },
     "execution_count": 4,
     "metadata": {},
     "output_type": "execute_result"
    }
   ],
   "source": [
    "# Tính giá trị tới hạn để xác định miền bác bỏ\n",
    "alpha = 0.05\n",
    "n = 15\n",
    "st.t.isf(alpha / 2, n - 1).round(4)"
   ]
  },
  {
   "cell_type": "markdown",
   "metadata": {},
   "source": [
    "**B3** Tính trị kiểm định\n",
    "\n",
    "$$t_0 = \\frac{\\bar{x} - \\mu_0}{\\frac{s}{\\sqrt{n}}} \\approx 3.0534$$\n",
    "\n"
   ]
  },
  {
   "cell_type": "code",
   "execution_count": 5,
   "metadata": {},
   "outputs": [
    {
     "name": "stdout",
     "output_type": "stream",
     "text": [
      "- Trị kiểm định:  3.0534\n"
     ]
    }
   ],
   "source": [
    "mu = 3.3\n",
    "\n",
    "trikiemdinh = ((tb - mu) / (dlc / np.sqrt(n))).round(4)\n",
    "print(\"- Trị kiểm định: \", trikiemdinh)"
   ]
  },
  {
   "cell_type": "markdown",
   "metadata": {},
   "source": [
    "**B4** Kết luận\n",
    "\n",
    "- Bác bỏ giả thuyết $H_0$\n",
    "- Vậy thức ăn mới làm thay đổi trọng lượng của gà."
   ]
  },
  {
   "cell_type": "markdown",
   "metadata": {},
   "source": [
    "#### Câu b\n",
    "\n",
    "Nếu trại báo cáo trọng lượng gà sau khi xuất chuồng là 3.5 kg/con\n",
    "- $\\mu_0 = 3.5$\n",
    "\n",
    "Ta đặt lại giả thuyết"
   ]
  },
  {
   "cell_type": "markdown",
   "metadata": {},
   "source": [
    "**B1** Xây dựng giả thuyết kiểm định\n",
    "\n",
    "$$H_o: \\mu = 3.5$$\n",
    "\n",
    "$$H_a: \\mu <> 3.5$$\n"
   ]
  },
  {
   "cell_type": "markdown",
   "metadata": {},
   "source": [
    "**B2** Xác định miền bác bỏ\n",
    "\n",
    "Mức ý nghĩa vẫn như cũ nên miền bác bỏ không thay đổi\n",
    "$$\\{ t: |t| > t^{n-1}_{\\alpha/2} \\}$$\n",
    "\n",
    "hay \n",
    "\n",
    "$$\\{ t: |t| > 1.7613 \\}$$ "
   ]
  },
  {
   "cell_type": "code",
   "execution_count": 6,
   "metadata": {},
   "outputs": [
    {
     "data": {
      "text/plain": [
       "1.7613"
      ]
     },
     "execution_count": 6,
     "metadata": {},
     "output_type": "execute_result"
    }
   ],
   "source": [
    "# Tính giá trị tới hạn để xác định miền bác bỏ\n",
    "alpha = 0.05\n",
    "n = 15\n",
    "st.t.isf(alpha, n - 1).round(4)"
   ]
  },
  {
   "cell_type": "markdown",
   "metadata": {},
   "source": [
    "**B3** Tính trị kiểm định\n",
    "\n",
    "$$t_0 = \\frac{\\bar{x} - \\mu_0}{\\frac{s}{\\sqrt{n}}} \\approx 1.1409$$\n",
    "\n"
   ]
  },
  {
   "cell_type": "code",
   "execution_count": 7,
   "metadata": {},
   "outputs": [
    {
     "name": "stdout",
     "output_type": "stream",
     "text": [
      "- Trị kiểm định:  1.1409\n"
     ]
    }
   ],
   "source": [
    "mu = 3.5\n",
    "\n",
    "trikiemdinh = ((tb - mu) / (dlc / np.sqrt(n))).round(4)\n",
    "print(\"- Trị kiểm định: \", trikiemdinh)"
   ]
  },
  {
   "cell_type": "markdown",
   "metadata": {},
   "source": [
    "**B4** Kết luận\n",
    "\n",
    "- Chưa đủ cơ sở để bác bỏ giả thuyết $H_0$\n",
    "- Vậy báo cáo trên có thể chấp nhận được.\n",
    "\n",
    "---"
   ]
  },
  {
   "cell_type": "markdown",
   "metadata": {},
   "source": [
    "\n",
    "## VÍ DỤ 2\n",
    "\n",
    "Tỷ lệ phế phẩm của một nhà máy trước đây là 5%. Năm nay nhà máy áp dụng một biện pháp kỹ thuật mới. Để nghiên cứu tác dụng của biện pháp kỹ thuật mới, người ta lấy một mẫu gồm 800 sản phẩm để kiểm tra và thấy có 24 phế phẩm.\n",
    "    \n",
    "a. Với α = 0.01. Hãy cho kết luận về biện pháp kỹ thuật mới này?\n",
    "    \n",
    "b. Nếu nhà máy báo cáo tỷ lệ phế phẩm sau khi áp dụng biện pháp kỹ thuật mới là 2% thì có chấp nhận được không? (α = 0.01).\n",
    "    \n",
    "_Đáp án. (a) z = −2.5955. Biện pháp kĩ thuật mới làm thay đổi tỉ lệ phế phẩm (b) z = 2.0203. Nhà máy báo cáo tỷ lệ phế phẩm là chấp nhận được._"
   ]
  },
  {
   "cell_type": "markdown",
   "metadata": {},
   "source": [
    "### Hướng dẫn\n"
   ]
  },
  {
   "cell_type": "markdown",
   "metadata": {},
   "source": [
    "#### Câu a\n",
    "\n",
    "Tóm tắt: \n",
    "- $p_0 = 0.05$\n",
    "- n = 800\n",
    "- f = 24/800 = 0.03\n",
    "- $\\alpha = 0.01$"
   ]
  },
  {
   "cell_type": "markdown",
   "metadata": {},
   "source": [
    "**B1** Xây dựng giả thuyết kiểm định\n",
    "\n",
    "$$H_o: p = 0.05$$\n",
    "\n",
    "$$H_a: p <> 0.05$$\n",
    "\n",
    "Kiểm tra điều kiện thực hiện kiểm định: \n",
    "- $n p_0 \\ge 5$ và \n",
    "- $n*q_0 \\ge 5$ (thỏa)\n",
    "\n"
   ]
  },
  {
   "cell_type": "markdown",
   "metadata": {},
   "source": [
    "**B2** Xác định miền bác bỏ\n",
    "\n",
    "$$\\{ z: |z| > z_{\\alpha/2} \\}$$\n",
    "\n",
    "hay \n",
    "\n",
    "$$\\{ z: |z| > 2.5758 \\}$$ "
   ]
  },
  {
   "cell_type": "code",
   "execution_count": 8,
   "metadata": {},
   "outputs": [
    {
     "data": {
      "text/plain": [
       "2.5758"
      ]
     },
     "execution_count": 8,
     "metadata": {},
     "output_type": "execute_result"
    }
   ],
   "source": [
    "# Tính giá trị tới hạn để xác định miền bác bỏ\n",
    "alpha = 0.01\n",
    "st.norm.isf(alpha / 2).round(4)"
   ]
  },
  {
   "cell_type": "markdown",
   "metadata": {},
   "source": [
    "**B3** Tính trị kiểm định\n",
    "\n",
    "$$z_0 = \\frac{f - p_0}{\\sqrt{\\frac{p_0*(1 - p_0)}{n}}} \\approx -2.5955$$\n",
    "\n"
   ]
  },
  {
   "cell_type": "code",
   "execution_count": 15,
   "metadata": {},
   "outputs": [
    {
     "name": "stdout",
     "output_type": "stream",
     "text": [
      "- Trị kiểm định:  -2.5955\n"
     ]
    },
    {
     "data": {
      "text/plain": [
       "0.2138"
      ]
     },
     "execution_count": 15,
     "metadata": {},
     "output_type": "execute_result"
    }
   ],
   "source": [
    "p0 = 0.05\n",
    "f = 0.03\n",
    "n = 800\n",
    "\n",
    "trikiemdinh = ((f - p0) / np.sqrt((p0 * (1 - p0)) / n)).round(4)\n",
    "print(\"- Trị kiểm định: \", trikiemdinh)"
   ]
  },
  {
   "cell_type": "markdown",
   "metadata": {},
   "source": [
    "**B4** Kết luận\n",
    "\n",
    "- Bác bỏ giả thuyết $H_0$, chấp nhận giả thuyết $H_a$\n",
    "- Biện pháp kỹ thuật mới làm thay đổi tỷ lệ phế phẩm"
   ]
  },
  {
   "cell_type": "markdown",
   "metadata": {},
   "source": [
    "#### Câu b\n",
    "\n",
    "Tóm tắt: \n",
    "- $p_0 = 0.02$"
   ]
  },
  {
   "cell_type": "markdown",
   "metadata": {},
   "source": [
    "**B1** Xây dựng giả thuyết kiểm định\n",
    "\n",
    "$$H_o: p = 0.02$$\n",
    "\n",
    "$$H_a: p <> 0.02$$\n",
    "\n",
    "Kiểm tra điều kiện thực hiện kiểm định: \n",
    "- $n p_0 \\ge 5$ và \n",
    "- $n*q_0 \\ge 5$ (thỏa)\n",
    "\n"
   ]
  },
  {
   "cell_type": "markdown",
   "metadata": {},
   "source": [
    "**B2** Xác định miền bác bỏ\n",
    "\n",
    "Mức ý nghĩa vẫn như cũ nên miền bác bỏ không thay đổi\n",
    "\n",
    "$$\\{ z: |z| > z_{\\alpha/2} \\}$$\n",
    "\n",
    "hay \n",
    "\n",
    "$$\\{ z: |z| > 2.5758 \\}$$ "
   ]
  },
  {
   "cell_type": "code",
   "execution_count": 10,
   "metadata": {},
   "outputs": [
    {
     "data": {
      "text/plain": [
       "2.5758"
      ]
     },
     "execution_count": 10,
     "metadata": {},
     "output_type": "execute_result"
    }
   ],
   "source": [
    "# Tính giá trị tới hạn để xác định miền bác bỏ\n",
    "alpha = 0.01\n",
    "st.norm.isf(alpha / 2).round(4)"
   ]
  },
  {
   "cell_type": "markdown",
   "metadata": {},
   "source": [
    "**B3** Tính trị kiểm định\n",
    "\n",
    "$$z_0 = \\frac{f - p_0}{\\sqrt{\\frac{p_0*(1 - p_0)}{n}}} \\approx 2.0203$$\n",
    "\n"
   ]
  },
  {
   "cell_type": "code",
   "execution_count": 11,
   "metadata": {},
   "outputs": [
    {
     "name": "stdout",
     "output_type": "stream",
     "text": [
      "- Trị kiểm định:  2.0203\n"
     ]
    }
   ],
   "source": [
    "p0 = 0.02\n",
    "f = 0.03\n",
    "n = 800\n",
    "\n",
    "trikiemdinh = ((f - p0) / np.sqrt((p0 * (1 - p0)) / n)).round(4)\n",
    "print(\"- Trị kiểm định: \", trikiemdinh)"
   ]
  },
  {
   "cell_type": "markdown",
   "metadata": {},
   "source": [
    "**B4** Kết luận\n",
    "\n",
    "- Không thể bác bỏ giả thuyết $H_0$\n",
    "- Có thể chấp nhận báo cáo của nhà máy\n",
    "\n",
    "---"
   ]
  }
 ],
 "metadata": {
  "kernelspec": {
   "display_name": ".envTKUD",
   "language": "python",
   "name": "python3"
  },
  "language_info": {
   "codemirror_mode": {
    "name": "ipython",
    "version": 3
   },
   "file_extension": ".py",
   "mimetype": "text/x-python",
   "name": "python",
   "nbconvert_exporter": "python",
   "pygments_lexer": "ipython3",
   "version": "3.10.13"
  }
 },
 "nbformat": 4,
 "nbformat_minor": 2
}
